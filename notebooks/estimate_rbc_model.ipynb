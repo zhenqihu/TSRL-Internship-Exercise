{
 "cells": [
  {
   "cell_type": "code",
   "execution_count": 1,
   "id": "initial_id",
   "metadata": {
    "collapsed": true,
    "ExecuteTime": {
     "end_time": "2023-12-25T21:02:39.533407Z",
     "start_time": "2023-12-25T21:02:39.278487Z"
    }
   },
   "outputs": [],
   "source": [
    "import os\n",
    "import DifferentiableStateSpaceModels as DSSM\n",
    "from DifferentiableStateSpaceModels import *\n",
    "from sympy import *\n",
    "\n",
    "init_printing()  # for nice sympy expressions in jupyter"
   ]
  },
  {
   "cell_type": "code",
   "outputs": [],
   "source": [
    "# Define the symbols\n",
    "α, β, ρ, δ, σ, Ω_1 = symbols('α β ρ δ σ Ω_1')  # parameters\n",
    "t = symbols('t', integer=True)  # time index (integer)\n",
    "k, z, c, q = symbols('k z c q', cls=Function)  # undefined functions\n",
    "\n",
    "# Define the states, controls, and parameters\n",
    "x = [k, z]  # states - list of functions\n",
    "y = [c, q]  # controls - list of functions\n",
    "p = [α, β, ρ, δ, σ, Ω_1]  # parameters - list of symbols\n",
    "\n",
    "# Define the system of model equations - list of expressions\n",
    "H = [\n",
    "    1 / c(t) - (β / c(t + 1)) * (α * exp(z(t + 1)) * k(t + 1)**(α - 1) + (1 - δ)),\n",
    "    c(t) + k(t + 1) - (1 - δ) * k(t) - q(t),\n",
    "    q(t) - exp(z(t)) * k(t)**α,\n",
    "    z(t + 1) - ρ * z(t)\n",
    "]\n",
    "\n",
    "# Define the steady states - list of equations\n",
    "steady_states = [\n",
    "    Eq(k(oo), (((1 / β) - 1 + δ) / α)**(1 / (α - 1))),\n",
    "    Eq(z(oo), 0),\n",
    "    Eq(c(oo), (((1 / β) - 1 + δ) / α)**(α / (α - 1)) - δ * (((1 / β) - 1 + δ) / α)**(1 / (α - 1))),\n",
    "    Eq(q(oo), (((1 / β) - 1 + δ) / α)**(α / (α - 1)))\n",
    "]\n",
    "\n",
    "# Define the matrix for the 1 shock\n",
    "Γ = Matrix([σ])  # DenseMatrix\n",
    "\n",
    "# Define the n_x * n_ϵ matrix\n",
    "η = Matrix([0, -1])  # DenseMatrix\n",
    "\n",
    "# Define the observation matrix\n",
    "Q = Matrix([[1.0, 0, 0, 0], [0, 0, 1.0, 0]])  # DenseMatrix\n",
    "\n",
    "# Define the diagonal cholesky of covariance matrix for observation noise\n",
    "Ω = [Ω_1, Ω_1]  # list of symbols\n",
    "\n",
    "# Generates the files and includes if required.  If the model is already created, then just loads\n",
    "overwrite_model_cache = True"
   ],
   "metadata": {
    "collapsed": false,
    "ExecuteTime": {
     "end_time": "2023-12-25T21:02:40.355225Z",
     "start_time": "2023-12-25T21:02:40.299733Z"
    }
   },
   "id": "206f50997bfe0570",
   "execution_count": 2
  },
  {
   "cell_type": "code",
   "outputs": [
    {
     "name": "stdout",
     "output_type": "stream",
     "text": [
      "\u001B[96mBuilding model up to order 2\u001B[0m\n",
      "\u001B[96mSubstituting and simplifying\n",
      "\u001B[0m\n",
      "\u001B[96m Building model functions \u001B[0m\n"
     ]
    }
   ],
   "source": [
    "# Create the model\n",
    "model_rbc = DSSM.make_perturbation_model(H, t, y, x, steady_states=steady_states, p=p, Γ=Γ, η=η, Q=Q, Ω=Ω, model_name='rbc', overwrite_model_cache=overwrite_model_cache)"
   ],
   "metadata": {
    "collapsed": false,
    "ExecuteTime": {
     "end_time": "2023-12-25T21:04:27.866186Z",
     "start_time": "2023-12-25T21:04:26.056325Z"
    }
   },
   "id": "267f5279cf6d66dd",
   "execution_count": 5
  },
  {
   "cell_type": "code",
   "outputs": [],
   "source": [
    "model_rbc"
   ],
   "metadata": {
    "collapsed": false,
    "ExecuteTime": {
     "end_time": "2023-12-25T21:05:00.788398Z",
     "start_time": "2023-12-25T21:05:00.784039Z"
    }
   },
   "id": "c1d87cb1c5f098a3",
   "execution_count": 7
  },
  {
   "cell_type": "code",
   "outputs": [],
   "source": [],
   "metadata": {
    "collapsed": false
   },
   "id": "b3e45b00d9592d79"
  }
 ],
 "metadata": {
  "kernelspec": {
   "display_name": "Python 3",
   "language": "python",
   "name": "python3"
  },
  "language_info": {
   "codemirror_mode": {
    "name": "ipython",
    "version": 2
   },
   "file_extension": ".py",
   "mimetype": "text/x-python",
   "name": "python",
   "nbconvert_exporter": "python",
   "pygments_lexer": "ipython2",
   "version": "2.7.6"
  }
 },
 "nbformat": 4,
 "nbformat_minor": 5
}
