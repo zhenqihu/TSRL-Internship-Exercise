{
 "cells": [
  {
   "cell_type": "code",
   "execution_count": 1,
   "id": "initial_id",
   "metadata": {
    "collapsed": true,
    "ExecuteTime": {
     "end_time": "2023-12-26T08:24:23.837610500Z",
     "start_time": "2023-12-26T08:24:23.179519Z"
    }
   },
   "outputs": [],
   "source": [
    "import os\n",
    "import sys\n",
    "import DifferentiableStateSpaceModels as DSSM\n",
    "from DifferentiableStateSpaceModels import *\n",
    "from sympy import *\n",
    "from IPython.display import display, Math, Latex\n",
    "\n",
    "init_printing()  # for nice sympy expressions in jupyter\n",
    "sys.path.append(DSSM.default_model_cache_location())"
   ]
  },
  {
   "cell_type": "markdown",
   "source": [
    "# RBC Example"
   ],
   "metadata": {
    "collapsed": false
   },
   "id": "f4095e5d451e161f"
  },
  {
   "cell_type": "code",
   "outputs": [],
   "source": [
    "# Define the symbols\n",
    "α, β, ρ, δ, σ, Ω_1 = symbols('α β ρ δ σ Ω_1')  # parameters\n",
    "t = symbols('t', integer=True)  # time index (integer)\n",
    "k, z, c, q = symbols('k z c q', cls=Function)  # undefined functions\n",
    "\n",
    "# Define the states, controls, and parameters\n",
    "x = [k, z]  # states - list of functions\n",
    "y = [c, q]  # controls - list of functions\n",
    "p = [α, β, ρ, δ, σ, Ω_1]  # parameters - list of symbols\n",
    "\n",
    "# Define the system of model equations - list of expressions\n",
    "H = [\n",
    "    1 / c(t) - (β / c(t + 1)) * (α * exp(z(t + 1)) * k(t + 1)**(α - 1) + (1 - δ)),\n",
    "    c(t) + k(t + 1) - (1 - δ) * k(t) - q(t),\n",
    "    q(t) - exp(z(t)) * k(t)**α,\n",
    "    z(t + 1) - ρ * z(t)\n",
    "]\n",
    "\n",
    "# Define the steady states - list of equations\n",
    "steady_states = [\n",
    "    Eq(k(oo), (((1 / β) - 1 + δ) / α)**(1 / (α - 1))),\n",
    "    Eq(z(oo), 0),\n",
    "    Eq(c(oo), (((1 / β) - 1 + δ) / α)**(α / (α - 1)) - δ * (((1 / β) - 1 + δ) / α)**(1 / (α - 1))),\n",
    "    Eq(q(oo), (((1 / β) - 1 + δ) / α)**(α / (α - 1)))\n",
    "]\n",
    "\n",
    "# Define the matrix for the 1 shock\n",
    "Γ = Matrix([σ])  # DenseMatrix\n",
    "\n",
    "# Define the n_x * n_ϵ matrix\n",
    "η = Matrix([0, -1])  # DenseMatrix\n",
    "\n",
    "# Define the observation matrix\n",
    "Q = Matrix([[1.0, 0, 0, 0], [0, 0, 1.0, 0]])  # DenseMatrix\n",
    "\n",
    "# Define the diagonal cholesky of covariance matrix for observation noise\n",
    "Ω = [Ω_1, Ω_1]  # list of symbols\n",
    "\n",
    "# Generates the files and includes if required.  If the model is already created, then just loads\n",
    "overwrite_model_cache = True"
   ],
   "metadata": {
    "collapsed": false,
    "ExecuteTime": {
     "end_time": "2023-12-26T08:24:23.916421100Z",
     "start_time": "2023-12-26T08:24:23.842140800Z"
    }
   },
   "id": "206f50997bfe0570",
   "execution_count": 2
  },
  {
   "cell_type": "code",
   "outputs": [
    {
     "name": "stdout",
     "output_type": "stream",
     "text": [
      "\u001B[96mBuilding model up to order 2\u001B[0m\n",
      "\u001B[96mSubstituting and simplifying\n",
      "\u001B[0m\n",
      "\u001B[96m Building model functions \u001B[0m\n",
      "Perturbation Model: n_y = 2, n_x = 2, n_p = 6, n_ϵ = 1, n_z = 2\n",
      " y = ['c', 'q'] \n",
      " x = ['k', 'z'] \n",
      " p = ['α', 'β', 'ρ', 'δ', 'σ', 'Ω_1']\n"
     ]
    }
   ],
   "source": [
    "# Create the model\n",
    "model_rbc = DSSM.make_and_include_perturbation_model(model_name='rbc', H=H, t=t, y=y, x=x, steady_states=steady_states, p=p, Γ=Γ, η=η, Q=Q, Ω=Ω, overwrite_model_cache=overwrite_model_cache)\n",
    "print(model_rbc)"
   ],
   "metadata": {
    "collapsed": false,
    "ExecuteTime": {
     "end_time": "2023-12-26T08:24:26.618794600Z",
     "start_time": "2023-12-26T08:24:23.917438100Z"
    }
   },
   "id": "267f5279cf6d66dd",
   "execution_count": 3
  },
  {
   "cell_type": "code",
   "outputs": [
    {
     "data": {
      "text/plain": "<IPython.core.display.Math object>",
      "text/latex": "$\\displaystyle \\left[ - \\frac{β \\left(α k^{α - 1}{\\left(t + 1 \\right)} e^{z{\\left(t + 1 \\right)}} - δ + 1\\right)}{c{\\left(t + 1 \\right)}} + \\frac{1}{c{\\left(t \\right)}}, \\  - \\left(1 - δ\\right) k{\\left(t \\right)} + c{\\left(t \\right)} + k{\\left(t + 1 \\right)} - q{\\left(t \\right)}, \\  - k^{α}{\\left(t \\right)} e^{z{\\left(t \\right)}} + q{\\left(t \\right)}, \\  - ρ z{\\left(t \\right)} + z{\\left(t + 1 \\right)}\\right]$"
     },
     "metadata": {},
     "output_type": "display_data"
    }
   ],
   "source": [
    "display(Math(model_rbc.model_H_latex()))"
   ],
   "metadata": {
    "collapsed": false,
    "ExecuteTime": {
     "end_time": "2023-12-26T08:24:26.619798700Z",
     "start_time": "2023-12-26T08:24:26.615803300Z"
    }
   },
   "id": "cfffe33cf3e38272",
   "execution_count": 4
  },
  {
   "cell_type": "code",
   "outputs": [
    {
     "data": {
      "text/plain": "<IPython.core.display.Math object>",
      "text/latex": "$\\displaystyle \\left[ k{\\left(\\infty \\right)} = \\left(\\frac{δ - 1 + \\frac{1}{β}}{α}\\right)^{\\frac{1}{α - 1}}, \\  z{\\left(\\infty \\right)} = 0, \\  c{\\left(\\infty \\right)} = - δ \\left(\\frac{δ - 1 + \\frac{1}{β}}{α}\\right)^{\\frac{1}{α - 1}} + \\left(\\frac{δ - 1 + \\frac{1}{β}}{α}\\right)^{\\frac{α}{α - 1}}, \\  q{\\left(\\infty \\right)} = \\left(\\frac{δ - 1 + \\frac{1}{β}}{α}\\right)^{\\frac{α}{α - 1}}\\right]$"
     },
     "metadata": {},
     "output_type": "display_data"
    }
   ],
   "source": [
    "display(Math(model_rbc.model_steady_states_latex()))"
   ],
   "metadata": {
    "collapsed": false,
    "ExecuteTime": {
     "end_time": "2023-12-26T08:24:26.627870200Z",
     "start_time": "2023-12-26T08:24:26.621909700Z"
    }
   },
   "id": "72831667baef2c35",
   "execution_count": 5
  },
  {
   "cell_type": "markdown",
   "source": [
    "# Solving Perturbations"
   ],
   "metadata": {
    "collapsed": false
   },
   "id": "191f0c8307e329f0"
  },
  {
   "cell_type": "code",
   "outputs": [],
   "source": [],
   "metadata": {
    "collapsed": false,
    "ExecuteTime": {
     "end_time": "2023-12-26T08:24:26.635942600Z",
     "start_time": "2023-12-26T08:24:26.626829900Z"
    }
   },
   "id": "da68924be730a898",
   "execution_count": 5
  }
 ],
 "metadata": {
  "kernelspec": {
   "display_name": "Python 3",
   "language": "python",
   "name": "python3"
  },
  "language_info": {
   "codemirror_mode": {
    "name": "ipython",
    "version": 2
   },
   "file_extension": ".py",
   "mimetype": "text/x-python",
   "name": "python",
   "nbconvert_exporter": "python",
   "pygments_lexer": "ipython2",
   "version": "2.7.6"
  }
 },
 "nbformat": 4,
 "nbformat_minor": 5
}
