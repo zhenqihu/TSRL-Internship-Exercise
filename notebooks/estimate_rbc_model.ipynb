{
 "cells": [
  {
   "cell_type": "code",
   "execution_count": 1,
   "id": "initial_id",
   "metadata": {
    "collapsed": true,
    "ExecuteTime": {
     "end_time": "2023-12-27T11:02:58.934554300Z",
     "start_time": "2023-12-27T11:02:58.291486800Z"
    }
   },
   "outputs": [],
   "source": [
    "import os\n",
    "import sys\n",
    "import DifferentiableStateSpaceModels as DSSM\n",
    "from DifferentiableStateSpaceModels import *\n",
    "from sympy import *\n",
    "from IPython.display import display, Math, Latex\n",
    "\n",
    "init_printing()  # for nice sympy expressions in jupyter\n",
    "sys.path.append(DSSM.default_model_cache_location())"
   ]
  },
  {
   "cell_type": "markdown",
   "source": [
    "# RBC Example"
   ],
   "metadata": {
    "collapsed": false
   },
   "id": "f4095e5d451e161f"
  },
  {
   "cell_type": "code",
   "outputs": [],
   "source": [
    "# Define the symbols\n",
    "α, β, ρ, δ, σ, Ω_1 = symbols('α β ρ δ σ Ω_1')  # parameters\n",
    "t = symbols('t', integer=True)  # time index (integer)\n",
    "k, z, c, q = symbols('k z c q', cls=Function)  # undefined functions\n",
    "\n",
    "# Define the states, controls, and parameters\n",
    "x = [k, z]  # states - list of functions\n",
    "y = [c, q]  # controls - list of functions\n",
    "p = [α, β, ρ, δ, σ, Ω_1]  # parameters - list of symbols\n",
    "\n",
    "# Define the system of model equations - list of expressions\n",
    "H = [\n",
    "    1 / c(t) - (β / c(t + 1)) * (α * exp(z(t + 1)) * k(t + 1)**(α - 1) + (1 - δ)),\n",
    "    c(t) + k(t + 1) - (1 - δ) * k(t) - q(t),\n",
    "    q(t) - exp(z(t)) * k(t)**α,\n",
    "    z(t + 1) - ρ * z(t)\n",
    "]\n",
    "\n",
    "# Define the steady states - list of equations\n",
    "steady_states = [\n",
    "    Eq(k(oo), (((1 / β) - 1 + δ) / α)**(1 / (α - 1))),\n",
    "    Eq(z(oo), 0),\n",
    "    Eq(c(oo), (((1 / β) - 1 + δ) / α)**(α / (α - 1)) - δ * (((1 / β) - 1 + δ) / α)**(1 / (α - 1))),\n",
    "    Eq(q(oo), (((1 / β) - 1 + δ) / α)**(α / (α - 1)))\n",
    "]\n",
    "\n",
    "# Define the matrix for the 1 shock\n",
    "Γ = Matrix([σ])  # DenseMatrix\n",
    "\n",
    "# Define the n_x * n_ϵ matrix\n",
    "η = Matrix([0, -1])  # DenseMatrix\n",
    "\n",
    "# Define the observation matrix\n",
    "Q = Matrix([[1.0, 0, 0, 0], [0, 0, 1.0, 0]])  # DenseMatrix\n",
    "\n",
    "# Define the diagonal cholesky of covariance matrix for observation noise\n",
    "Ω = [Ω_1, Ω_1]  # list of symbols\n",
    "\n",
    "# Generates the files and includes if required.  If the model is already created, then just loads\n",
    "overwrite_model_cache = True"
   ],
   "metadata": {
    "collapsed": false,
    "ExecuteTime": {
     "end_time": "2023-12-27T11:03:00.740287900Z",
     "start_time": "2023-12-27T11:03:00.662648Z"
    }
   },
   "id": "206f50997bfe0570",
   "execution_count": 2
  },
  {
   "cell_type": "code",
   "outputs": [
    {
     "name": "stdout",
     "output_type": "stream",
     "text": [
      "\u001B[96mBuilding model up to order 2\u001B[0m\n",
      "\u001B[96mSubstituting and simplifying\n",
      "\u001B[0m\n",
      "\u001B[96m Building model functions \u001B[0m\n"
     ]
    },
    {
     "ename": "ModuleNotFoundError",
     "evalue": "No module named 'rbc'",
     "output_type": "error",
     "traceback": [
      "\u001B[1;31m---------------------------------------------------------------------------\u001B[0m",
      "\u001B[1;31mModuleNotFoundError\u001B[0m                       Traceback (most recent call last)",
      "Cell \u001B[1;32mIn[3], line 2\u001B[0m\n\u001B[0;32m      1\u001B[0m \u001B[38;5;66;03m# Create the model\u001B[39;00m\n\u001B[1;32m----> 2\u001B[0m model_rbc \u001B[38;5;241m=\u001B[39m \u001B[43mDSSM\u001B[49m\u001B[38;5;241;43m.\u001B[39;49m\u001B[43mmake_and_include_perturbation_model\u001B[49m\u001B[43m(\u001B[49m\u001B[43mmodel_name\u001B[49m\u001B[38;5;241;43m=\u001B[39;49m\u001B[38;5;124;43m'\u001B[39;49m\u001B[38;5;124;43mrbc\u001B[39;49m\u001B[38;5;124;43m'\u001B[39;49m\u001B[43m,\u001B[49m\u001B[43m \u001B[49m\u001B[43mH\u001B[49m\u001B[38;5;241;43m=\u001B[39;49m\u001B[43mH\u001B[49m\u001B[43m,\u001B[49m\u001B[43m \u001B[49m\u001B[43mt\u001B[49m\u001B[38;5;241;43m=\u001B[39;49m\u001B[43mt\u001B[49m\u001B[43m,\u001B[49m\u001B[43m \u001B[49m\u001B[43my\u001B[49m\u001B[38;5;241;43m=\u001B[39;49m\u001B[43my\u001B[49m\u001B[43m,\u001B[49m\u001B[43m \u001B[49m\u001B[43mx\u001B[49m\u001B[38;5;241;43m=\u001B[39;49m\u001B[43mx\u001B[49m\u001B[43m,\u001B[49m\u001B[43m \u001B[49m\u001B[43msteady_states\u001B[49m\u001B[38;5;241;43m=\u001B[39;49m\u001B[43msteady_states\u001B[49m\u001B[43m,\u001B[49m\u001B[43m \u001B[49m\u001B[43mp\u001B[49m\u001B[38;5;241;43m=\u001B[39;49m\u001B[43mp\u001B[49m\u001B[43m,\u001B[49m\u001B[43m \u001B[49m\u001B[43mΓ\u001B[49m\u001B[38;5;241;43m=\u001B[39;49m\u001B[43mΓ\u001B[49m\u001B[43m,\u001B[49m\u001B[43m \u001B[49m\u001B[43mη\u001B[49m\u001B[38;5;241;43m=\u001B[39;49m\u001B[43mη\u001B[49m\u001B[43m,\u001B[49m\u001B[43m \u001B[49m\u001B[43mQ\u001B[49m\u001B[38;5;241;43m=\u001B[39;49m\u001B[43mQ\u001B[49m\u001B[43m,\u001B[49m\u001B[43m \u001B[49m\u001B[43mΩ\u001B[49m\u001B[38;5;241;43m=\u001B[39;49m\u001B[43mΩ\u001B[49m\u001B[43m,\u001B[49m\u001B[43m \u001B[49m\u001B[43moverwrite_model_cache\u001B[49m\u001B[38;5;241;43m=\u001B[39;49m\u001B[43moverwrite_model_cache\u001B[49m\u001B[43m)\u001B[49m\n\u001B[0;32m      3\u001B[0m \u001B[38;5;28mprint\u001B[39m(model_rbc)\n",
      "File \u001B[1;32mD:\\Workspace\\TSRL-Internship-Exercise\\DifferentiableStateSpaceModels\\make_perturbation_model.py:403\u001B[0m, in \u001B[0;36mmake_and_include_perturbation_model\u001B[1;34m(model_name, H, **nt)\u001B[0m\n\u001B[0;32m    401\u001B[0m \u001B[38;5;28;01mif\u001B[39;00m \u001B[38;5;129;01mnot\u001B[39;00m os\u001B[38;5;241m.\u001B[39mpath\u001B[38;5;241m.\u001B[39mexists(model_cache_path):\n\u001B[0;32m    402\u001B[0m     make_perturbation_model(H, model_name\u001B[38;5;241m=\u001B[39mmodel_name, \u001B[38;5;241m*\u001B[39m\u001B[38;5;241m*\u001B[39mnt)\n\u001B[1;32m--> 403\u001B[0m     \u001B[43mexec\u001B[49m\u001B[43m(\u001B[49m\u001B[38;5;28;43mopen\u001B[39;49m\u001B[43m(\u001B[49m\u001B[43mmodel_cache_path\u001B[49m\u001B[43m,\u001B[49m\u001B[43m \u001B[49m\u001B[43mencoding\u001B[49m\u001B[38;5;241;43m=\u001B[39;49m\u001B[38;5;124;43m'\u001B[39;49m\u001B[38;5;124;43mutf8\u001B[39;49m\u001B[38;5;124;43m'\u001B[39;49m\u001B[43m)\u001B[49m\u001B[38;5;241;43m.\u001B[39;49m\u001B[43mread\u001B[49m\u001B[43m(\u001B[49m\u001B[43m)\u001B[49m\u001B[43m)\u001B[49m\n\u001B[0;32m    404\u001B[0m \u001B[38;5;28;01melif\u001B[39;00m model_name \u001B[38;5;129;01mnot\u001B[39;00m \u001B[38;5;129;01min\u001B[39;00m \u001B[38;5;28mglobals\u001B[39m():\n\u001B[0;32m    405\u001B[0m     exec(\u001B[38;5;28mopen\u001B[39m(model_cache_path, encoding\u001B[38;5;241m=\u001B[39m\u001B[38;5;124m'\u001B[39m\u001B[38;5;124mutf8\u001B[39m\u001B[38;5;124m'\u001B[39m)\u001B[38;5;241m.\u001B[39mread())\n",
      "File \u001B[1;32m<string>:26\u001B[0m\n",
      "\u001B[1;31mModuleNotFoundError\u001B[0m: No module named 'rbc'"
     ]
    }
   ],
   "source": [
    "# Create the model\n",
    "model_rbc = DSSM.make_and_include_perturbation_model(model_name='rbc', H=H, t=t, y=y, x=x, steady_states=steady_states, p=p, Γ=Γ, η=η, Q=Q, Ω=Ω, overwrite_model_cache=overwrite_model_cache)\n",
    "print(model_rbc)"
   ],
   "metadata": {
    "collapsed": false,
    "ExecuteTime": {
     "end_time": "2023-12-27T11:03:05.924366100Z",
     "start_time": "2023-12-27T11:03:02.924034500Z"
    }
   },
   "id": "267f5279cf6d66dd",
   "execution_count": 3
  },
  {
   "cell_type": "code",
   "outputs": [
    {
     "data": {
      "text/plain": "<IPython.core.display.Math object>",
      "text/latex": "$\\displaystyle \\left[ - \\frac{β \\left(α k^{α - 1}{\\left(t + 1 \\right)} e^{z{\\left(t + 1 \\right)}} - δ + 1\\right)}{c{\\left(t + 1 \\right)}} + \\frac{1}{c{\\left(t \\right)}}, \\  - \\left(1 - δ\\right) k{\\left(t \\right)} + c{\\left(t \\right)} + k{\\left(t + 1 \\right)} - q{\\left(t \\right)}, \\  - k^{α}{\\left(t \\right)} e^{z{\\left(t \\right)}} + q{\\left(t \\right)}, \\  - ρ z{\\left(t \\right)} + z{\\left(t + 1 \\right)}\\right]$"
     },
     "metadata": {},
     "output_type": "display_data"
    }
   ],
   "source": [
    "display(Math(model_rbc.model_H_latex()))"
   ],
   "metadata": {
    "collapsed": false,
    "ExecuteTime": {
     "end_time": "2023-12-27T10:35:27.061886200Z",
     "start_time": "2023-12-27T10:35:27.056691300Z"
    }
   },
   "id": "cfffe33cf3e38272",
   "execution_count": 4
  },
  {
   "cell_type": "code",
   "outputs": [
    {
     "data": {
      "text/plain": "<IPython.core.display.Math object>",
      "text/latex": "$\\displaystyle \\left[ k{\\left(\\infty \\right)} = \\left(\\frac{δ - 1 + \\frac{1}{β}}{α}\\right)^{\\frac{1}{α - 1}}, \\  z{\\left(\\infty \\right)} = 0, \\  c{\\left(\\infty \\right)} = - δ \\left(\\frac{δ - 1 + \\frac{1}{β}}{α}\\right)^{\\frac{1}{α - 1}} + \\left(\\frac{δ - 1 + \\frac{1}{β}}{α}\\right)^{\\frac{α}{α - 1}}, \\  q{\\left(\\infty \\right)} = \\left(\\frac{δ - 1 + \\frac{1}{β}}{α}\\right)^{\\frac{α}{α - 1}}\\right]$"
     },
     "metadata": {},
     "output_type": "display_data"
    }
   ],
   "source": [
    "display(Math(model_rbc.model_steady_states_latex()))"
   ],
   "metadata": {
    "collapsed": false,
    "ExecuteTime": {
     "end_time": "2023-12-27T10:35:27.070162600Z",
     "start_time": "2023-12-27T10:35:27.064023Z"
    }
   },
   "id": "72831667baef2c35",
   "execution_count": 5
  },
  {
   "cell_type": "markdown",
   "source": [
    "# Solving Perturbations"
   ],
   "metadata": {
    "collapsed": false
   },
   "id": "191f0c8307e329f0"
  },
  {
   "cell_type": "code",
   "outputs": [],
   "source": [
    "p_f = {'ρ': 0.2, 'δ': 0.02, 'σ': 0.01, 'Ω_1': 0.01}  # Fixed parameters\n",
    "p_d = {'α': 0.5, 'β': 0.95}  # Pseudo-true values\n",
    "m = model_rbc"
   ],
   "metadata": {
    "collapsed": false,
    "ExecuteTime": {
     "end_time": "2023-12-27T10:35:27.076582900Z",
     "start_time": "2023-12-27T10:35:27.070162600Z"
    }
   },
   "id": "da68924be730a898",
   "execution_count": 6
  },
  {
   "cell_type": "code",
   "outputs": [
    {
     "data": {
      "text/plain": "<function rbc.zero_order.y_bar(_Dummy_114)>"
     },
     "execution_count": 7,
     "metadata": {},
     "output_type": "execute_result"
    }
   ],
   "source": [
    "m.mod.m.y_bar"
   ],
   "metadata": {
    "collapsed": false,
    "ExecuteTime": {
     "end_time": "2023-12-27T10:35:27.108751100Z",
     "start_time": "2023-12-27T10:35:27.075479700Z"
    }
   },
   "id": "39444fe61edf4f09",
   "execution_count": 7
  }
 ],
 "metadata": {
  "kernelspec": {
   "display_name": "Python 3",
   "language": "python",
   "name": "python3"
  },
  "language_info": {
   "codemirror_mode": {
    "name": "ipython",
    "version": 2
   },
   "file_extension": ".py",
   "mimetype": "text/x-python",
   "name": "python",
   "nbconvert_exporter": "python",
   "pygments_lexer": "ipython2",
   "version": "2.7.6"
  }
 },
 "nbformat": 4,
 "nbformat_minor": 5
}
