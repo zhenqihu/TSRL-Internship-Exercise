{
 "cells": [
  {
   "cell_type": "code",
   "execution_count": 1,
   "id": "initial_id",
   "metadata": {
    "ExecuteTime": {
     "end_time": "2023-12-29T11:52:41.325945Z",
     "start_time": "2023-12-29T11:52:40.959668Z"
    },
    "collapsed": true
   },
   "outputs": [],
   "source": [
    "import os\n",
    "import sys\n",
    "import DifferentiableStateSpaceModels as DSSM\n",
    "from DifferentiableStateSpaceModels import *\n",
    "from sympy import *\n",
    "from IPython.display import display, Math, Latex\n",
    "\n",
    "init_printing()  # for nice sympy expressions in jupyter\n",
    "# sys.path.append(DSSM.default_model_cache_location())"
   ]
  },
  {
   "cell_type": "markdown",
   "id": "f4095e5d451e161f",
   "metadata": {
    "collapsed": false
   },
   "source": [
    "# RBC Example"
   ]
  },
  {
   "cell_type": "code",
   "execution_count": 2,
   "id": "206f50997bfe0570",
   "metadata": {
    "ExecuteTime": {
     "end_time": "2023-12-29T11:52:43.755994Z",
     "start_time": "2023-12-29T11:52:43.704964Z"
    },
    "collapsed": false
   },
   "outputs": [],
   "source": [
    "# Define the symbols\n",
    "α, β, ρ, δ, σ, Ω_1 = symbols('α β ρ δ σ Ω_1')  # parameters\n",
    "t = symbols('t', integer=True)  # time index (integer)\n",
    "k, z, c, q = symbols('k z c q', cls=Function)  # undefined functions\n",
    "\n",
    "# Define the states, controls, and parameters\n",
    "x = [k, z]  # states - list of functions\n",
    "y = [c, q]  # controls - list of functions\n",
    "p = [α, β, ρ, δ, σ, Ω_1]  # parameters - list of symbols\n",
    "\n",
    "# Define the system of model equations - list of expressions\n",
    "H = [\n",
    "    1 / c(t) - (β / c(t + 1)) *\n",
    "    (α * exp(z(t + 1)) * k(t + 1)**(α - 1) + (1 - δ)),\n",
    "    c(t) + k(t + 1) - (1 - δ) * k(t) - q(t),\n",
    "    q(t) - exp(z(t)) * k(t)**α,\n",
    "    z(t + 1) - ρ * z(t)\n",
    "]\n",
    "\n",
    "# Define the steady states - list of equations\n",
    "steady_states = [\n",
    "    Eq(k(oo), (((1 / β) - 1 + δ) / α)**(1 / (α - 1))),\n",
    "    Eq(z(oo), 0),\n",
    "    Eq(c(oo), (((1 / β) - 1 + δ) / α)**(α / (α - 1)) -\n",
    "       δ * (((1 / β) - 1 + δ) / α)**(1 / (α - 1))),\n",
    "    Eq(q(oo), (((1 / β) - 1 + δ) / α)**(α / (α - 1)))\n",
    "]\n",
    "\n",
    "# Define the matrix for the 1 shock\n",
    "Γ = Matrix([σ])  # DenseMatrix\n",
    "\n",
    "# Define the n_x * n_ϵ matrix\n",
    "η = Matrix([0, -1])  # DenseMatrix\n",
    "\n",
    "# Define the observation matrix\n",
    "Q = Matrix([[1.0, 0, 0, 0], [0, 0, 1.0, 0]])  # DenseMatrix\n",
    "\n",
    "# Define the diagonal cholesky of covariance matrix for observation noise\n",
    "Ω = [Ω_1, Ω_1]  # list of symbols\n",
    "\n",
    "# Generates the files and includes if required.  If the model is already created, then just loads\n",
    "overwrite_model_cache = True"
   ]
  },
  {
   "cell_type": "code",
   "execution_count": 3,
   "id": "267f5279cf6d66dd",
   "metadata": {
    "ExecuteTime": {
     "end_time": "2023-12-29T11:52:46.474302Z",
     "start_time": "2023-12-29T11:52:44.631783Z"
    },
    "collapsed": false
   },
   "outputs": [
    {
     "name": "stdout",
     "output_type": "stream",
     "text": [
      "\u001b[96mBuilding model up to order 2\u001b[0m\n",
      "\u001b[96mSubstituting and simplifying\n",
      "\u001b[0m\n",
      "\u001b[96m Building model functions \u001b[0m\n",
      "Perturbation Model: n_y = 2, n_x = 2, n_p = 6, n_ϵ = 1, n_z = 2\n",
      " y = ['c', 'q'] \n",
      " x = ['k', 'z'] \n",
      " p = ['α', 'β', 'ρ', 'δ', 'σ', 'Ω_1']\n"
     ]
    }
   ],
   "source": [
    "# Create the model\n",
    "model_rbc = DSSM.make_and_include_perturbation_model(\n",
    "    model_name='rbc', H=H, t=t, y=y, x=x, steady_states=steady_states, p=p, Γ=Γ, η=η, Q=Q, Ω=Ω, overwrite_model_cache=overwrite_model_cache)\n",
    "print(model_rbc)"
   ]
  },
  {
   "cell_type": "code",
   "execution_count": 4,
   "id": "cfffe33cf3e38272",
   "metadata": {
    "ExecuteTime": {
     "end_time": "2023-12-29T11:52:48.916904Z",
     "start_time": "2023-12-29T11:52:48.907679Z"
    },
    "collapsed": false
   },
   "outputs": [
    {
     "data": {
      "text/latex": [
       "$\\displaystyle \\left[ - \\frac{β \\left(α k^{α - 1}{\\left(t + 1 \\right)} e^{z{\\left(t + 1 \\right)}} - δ + 1\\right)}{c{\\left(t + 1 \\right)}} + \\frac{1}{c{\\left(t \\right)}}, \\  - \\left(1 - δ\\right) k{\\left(t \\right)} + c{\\left(t \\right)} + k{\\left(t + 1 \\right)} - q{\\left(t \\right)}, \\  - k^{α}{\\left(t \\right)} e^{z{\\left(t \\right)}} + q{\\left(t \\right)}, \\  - ρ z{\\left(t \\right)} + z{\\left(t + 1 \\right)}\\right]$"
      ],
      "text/plain": [
       "<IPython.core.display.Math object>"
      ]
     },
     "metadata": {},
     "output_type": "display_data"
    }
   ],
   "source": [
    "display(Math(model_rbc.model_H_latex()))"
   ]
  },
  {
   "cell_type": "code",
   "execution_count": 5,
   "id": "72831667baef2c35",
   "metadata": {
    "ExecuteTime": {
     "end_time": "2023-12-29T11:52:49.681207Z",
     "start_time": "2023-12-29T11:52:49.677353Z"
    },
    "collapsed": false
   },
   "outputs": [
    {
     "data": {
      "text/latex": [
       "$\\displaystyle \\left[ k{\\left(\\infty \\right)} = \\left(\\frac{δ - 1 + \\frac{1}{β}}{α}\\right)^{\\frac{1}{α - 1}}, \\  z{\\left(\\infty \\right)} = 0, \\  c{\\left(\\infty \\right)} = - δ \\left(\\frac{δ - 1 + \\frac{1}{β}}{α}\\right)^{\\frac{1}{α - 1}} + \\left(\\frac{δ - 1 + \\frac{1}{β}}{α}\\right)^{\\frac{α}{α - 1}}, \\  q{\\left(\\infty \\right)} = \\left(\\frac{δ - 1 + \\frac{1}{β}}{α}\\right)^{\\frac{α}{α - 1}}\\right]$"
      ],
      "text/plain": [
       "<IPython.core.display.Math object>"
      ]
     },
     "metadata": {},
     "output_type": "display_data"
    }
   ],
   "source": [
    "display(Math(model_rbc.model_steady_states_latex()))"
   ]
  },
  {
   "cell_type": "markdown",
   "id": "191f0c8307e329f0",
   "metadata": {
    "collapsed": false
   },
   "source": [
    "# Solving Perturbations"
   ]
  },
  {
   "cell_type": "code",
   "execution_count": 6,
   "id": "da68924be730a898",
   "metadata": {
    "ExecuteTime": {
     "end_time": "2023-12-29T11:52:51.408038Z",
     "start_time": "2023-12-29T11:52:51.406263Z"
    },
    "collapsed": false
   },
   "outputs": [],
   "source": [
    "p_f = {'ρ': 0.2, 'δ': 0.02, 'σ': 0.01, 'Ω_1': 0.01}  # Fixed parameters\n",
    "p_d = {'α': 0.5, 'β': 0.95}  # Pseudo-true values\n",
    "m = model_rbc"
   ]
  },
  {
   "cell_type": "code",
   "execution_count": 7,
   "id": "39444fe61edf4f09",
   "metadata": {
    "ExecuteTime": {
     "end_time": "2023-12-29T11:52:52.935715Z",
     "start_time": "2023-12-29T11:52:52.179054Z"
    },
    "collapsed": false
   },
   "outputs": [
    {
     "data": {
      "image/png": "[encoded data removed]",
      "text/latex": [
       "$\\displaystyle \\left[ 0.5, \\  0.95\\right]$"
      ],
      "text/plain": [
       "[0.5, 0.95]"
      ]
     },
     "execution_count": 7,
     "metadata": {},
     "output_type": "execute_result"
    }
   ],
   "source": [
    "list(p_d.values())"
   ]
  },
  {
   "cell_type": "code",
   "execution_count": null,
   "id": "bcc75dd12899fc8d",
   "metadata": {
    "collapsed": false
   },
   "outputs": [],
   "source": []
  }
 ],
 "metadata": {
  "kernelspec": {
   "display_name": "Python 3",
   "language": "python",
   "name": "python3"
  },
  "language_info": {
   "codemirror_mode": {
    "name": "ipython",
    "version": 3
   },
   "file_extension": ".py",
   "mimetype": "text/x-python",
   "name": "python",
   "nbconvert_exporter": "python",
   "pygments_lexer": "ipython3",
   "version": "3.11.6"
  }
 },
 "nbformat": 4,
 "nbformat_minor": 5
}
