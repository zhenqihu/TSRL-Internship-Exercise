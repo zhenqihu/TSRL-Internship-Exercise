{
 "cells": [
  {
   "cell_type": "code",
   "execution_count": 1,
   "id": "9fb4088f4cb5cabd",
   "metadata": {
    "collapsed": false,
    "ExecuteTime": {
     "end_time": "2023-12-03T19:50:01.776167Z",
     "start_time": "2023-12-03T19:50:01.479199Z"
    }
   },
   "outputs": [],
   "source": [
    "import inspect\n",
    "import os\n",
    "from pathlib import Path\n",
    "import DifferentiableStateSpaceModels\n",
    "from DifferentiableStateSpaceModels import *\n",
    "from sympy import *\n",
    "from copy import deepcopy\n",
    "import numpy as np\n",
    "\n",
    "init_printing()  # for nice sympy expressions in jupyter"
   ]
  },
  {
   "cell_type": "code",
   "execution_count": 2,
   "id": "initial_id",
   "metadata": {
    "collapsed": true,
    "jupyter": {
     "outputs_hidden": true
    },
    "ExecuteTime": {
     "end_time": "2023-12-03T19:50:01.822155Z",
     "start_time": "2023-12-03T19:50:01.779283Z"
    }
   },
   "outputs": [],
   "source": [
    "# Define the symbols\n",
    "α, β, ρ, δ, σ, Ω_1 = symbols('α β ρ δ σ Ω_1')  # parameters\n",
    "t = symbols('t', integer=True)  # time index (integer)\n",
    "k, z, c, q = symbols('k z c q', cls=Function)  # undefined functions\n",
    "\n",
    "# Define the states, controls, and parameters\n",
    "x = [k, z]  # states - list of functions\n",
    "y = [c, q]  # controls - list of functions\n",
    "p = [α, β, ρ, δ, σ, Ω_1]  # parameters - list of symbols\n",
    "\n",
    "# Define the system of model equations - list of expressions\n",
    "H = [\n",
    "    1 / c(t) - (β / c(t + 1)) *\n",
    "    (α * exp(z(t + 1)) * k(t + 1)**(α - 1) + (1 - δ)),\n",
    "    c(t) + k(t + 1) - (1 - δ) * k(t) - q(t),\n",
    "    q(t) - exp(z(t)) * k(t)**α,\n",
    "    z(t + 1) - ρ * z(t)\n",
    "]\n",
    "\n",
    "# Define the steady states - list of equations\n",
    "steady_states = [\n",
    "    Eq(k(oo), (((1 / β) - 1 + δ) / α)**(1 / (α - 1))),\n",
    "    Eq(z(oo), 0),\n",
    "    Eq(c(oo), (((1 / β) - 1 + δ) / α)**(α / (α - 1)) -\n",
    "       δ * (((1 / β) - 1 + δ) / α)**(1 / (α - 1))),\n",
    "    Eq(q(oo), (((1 / β) - 1 + δ) / α)**(α / (α - 1)))\n",
    "]\n",
    "\n",
    "# Define the matrix for the 1 shock\n",
    "Γ = Matrix([σ])  # DenseMatrix\n",
    "\n",
    "# Define the n_x * n_ϵ matrix\n",
    "η = Matrix([0, -1])  # DenseMatrix\n",
    "\n",
    "# Define the observation matrix\n",
    "Q = Matrix([[1.0, 0, 0, 0], [0, 0, 1.0, 0]])  # DenseMatrix\n",
    "\n",
    "# Define the diagonal cholesky of covariance matrix for observation noise\n",
    "Ω = [Ω_1, Ω_1]  # list of symbols\n",
    "\n",
    "# Generates the files and includes if required.  If the model is already created, then just loads\n",
    "overwrite_model_cache = True"
   ]
  },
  {
   "cell_type": "code",
   "execution_count": 3,
   "id": "b0d66bbfe52d7d96",
   "metadata": {
    "ExecuteTime": {
     "end_time": "2023-12-03T19:50:01.826965Z",
     "start_time": "2023-12-03T19:50:01.823425Z"
    }
   },
   "outputs": [],
   "source": [
    "def default_model_cache_location():\n",
    "    \"\"\"\n",
    "    Returns the default location for the model cache\n",
    "    :return: path of a folder joining the package directory and \".function_cache\"\n",
    "    \"\"\"\n",
    "    return os.path.join(Path(DifferentiableStateSpaceModels.__file__).parent.absolute(), \".function_cache\")\n",
    "\n",
    "\n",
    "model_cache_location = default_model_cache_location()\n",
    "max_order = 2\n",
    "steady_states_iv = None\n",
    "model_name = \"rbc_notebook_example\"\n",
    "model_cache_location = default_model_cache_location()\n",
    "overwrite_model_cache = False\n",
    "print_level = 1\n",
    "max_order = 2\n",
    "save_ip = True\n",
    "save_oop = False  # only does inplace by default\n",
    "skipzeros = True\n",
    "fillzeros = False\n",
    "simplify_Ψ = True\n",
    "do_simplify = True\n",
    "simplify_p = True"
   ]
  },
  {
   "cell_type": "code",
   "execution_count": 4,
   "id": "fe3e51c253b55a1",
   "metadata": {
    "collapsed": false,
    "ExecuteTime": {
     "end_time": "2023-12-03T19:50:01.827849Z",
     "start_time": "2023-12-03T19:50:01.826327Z"
    }
   },
   "outputs": [],
   "source": [
    "    # Check inputs\n",
    "    assert max_order in [1, 2], \"max_order must be 1 or 2\"\n",
    "    assert save_ip or save_oop, \"Either save_ip or save_oop must be True\"\n",
    "\n",
    "    # path to save the model modules\n",
    "    module_cache_path = os.path.join(model_cache_location, model_name + \".py\")\n",
    "\n",
    "    # only load cache if the module isn't already loaded in memory\n",
    "    if (str(model_name) in globals()) and (not overwrite_model_cache):\n",
    "        if print_level > 0:\n",
    "            print(f\"Using existing module {model_name}\\n\")\n",
    "\n",
    "    # if path already exists\n",
    "    if (os.path.exists(module_cache_path)) and (not overwrite_model_cache):\n",
    "        # path exists and not overwriting\n",
    "        if print_level > 0:\n",
    "            print(f\"Model already generated at {module_cache_path}\\n\")"
   ]
  },
  {
   "cell_type": "code",
   "execution_count": 5,
   "id": "7751965feacb443e",
   "metadata": {
    "collapsed": false,
    "ExecuteTime": {
     "end_time": "2023-12-03T19:50:01.831965Z",
     "start_time": "2023-12-03T19:50:01.829857Z"
    }
   },
   "outputs": [],
   "source": [
    "    # model structure\n",
    "    n_y = len(y)  # number of control variables\n",
    "    n_x = len(x)  # number of state variables\n",
    "    n = n_y + n_x  # number of all variables\n",
    "    n_p = len(p)  # number of parameters\n",
    "    assert n_p > 0, \"Code written to have at least one parameter\"\n",
    "    n_ϵ = η.shape[1]  # number of shocks\n",
    "    n_z = n if Q is None else Q.shape[0]  # number of observables"
   ]
  },
  {
   "cell_type": "code",
   "execution_count": 6,
   "id": "a00708525655f08b",
   "metadata": {
    "collapsed": false,
    "ExecuteTime": {
     "end_time": "2023-12-03T19:50:01.836554Z",
     "start_time": "2023-12-03T19:50:01.833308Z"
    }
   },
   "outputs": [],
   "source": [
    "    # Get the markovian variables and create substitutions\n",
    "    y_subs = [make_substitutions(t, y_i) for y_i in y]\n",
    "    x_subs = [make_substitutions(t, x_i) for x_i in x]\n",
    "    y = Matrix([y_i['var'] for y_i in y_subs])\n",
    "    x = Matrix([x_i['var'] for x_i in x_subs])\n",
    "    y_p = Matrix([y_i['var_p'] for y_i in y_subs])\n",
    "    x_p = Matrix([x_i['var_p'] for x_i in x_subs])\n",
    "    y_ss = Matrix([y_i['var_ss'] for y_i in y_subs])\n",
    "    x_ss = Matrix([x_i['var_ss'] for x_i in x_subs])\n",
    "    subs = x_subs + y_subs\n",
    "    all_to_markov = ([sub['markov_t'] for sub in subs] +\n",
    "                     [sub['markov_tp1'] for sub in subs] + [sub['markov_inf'] for sub in subs])\n",
    "    all_to_var = [sub['tp1_to_var'] for sub in subs] + [sub['inf_to_var'] for sub in subs]"
   ]
  },
  {
   "cell_type": "code",
   "execution_count": 7,
   "id": "c1e2053399e62c26",
   "metadata": {
    "collapsed": false,
    "ExecuteTime": {
     "end_time": "2023-12-03T19:50:01.836648Z",
     "start_time": "2023-12-03T19:50:01.835809Z"
    }
   },
   "outputs": [],
   "source": [
    "def equations_to_dict(equations):\n",
    "    return {str(eq.lhs.subs(all_to_markov).subs(all_to_var)): eq.rhs.subs(all_to_markov) for eq in equations}"
   ]
  },
  {
   "cell_type": "code",
   "execution_count": 8,
   "id": "aa57813ca4446502",
   "metadata": {
    "ExecuteTime": {
     "end_time": "2023-12-03T19:50:01.841564Z",
     "start_time": "2023-12-03T19:50:01.837829Z"
    }
   },
   "outputs": [
    {
     "name": "stdout",
     "output_type": "stream",
     "text": [
      "\u001B[96mBuilding model up to order 2\u001B[0m\n"
     ]
    }
   ],
   "source": [
    "    # Begin building the model\n",
    "    if print_level > 0:\n",
    "        print(\"\\033[96mBuilding model up to order {}\\033[0m\".format(max_order))\n",
    "    if print_level > 1:\n",
    "        print(\"\\033[96mdo_simplify = {}, simplify_p = {}, simplify Ψ = {}\\033[0m\".format(\n",
    "            do_simplify, simplify_p, simplify_Ψ))"
   ]
  },
  {
   "cell_type": "code",
   "execution_count": 9,
   "id": "22719fe4afda6a0e",
   "metadata": {
    "ExecuteTime": {
     "end_time": "2023-12-03T19:50:01.865393Z",
     "start_time": "2023-12-03T19:50:01.847677Z"
    }
   },
   "outputs": [],
   "source": [
    "    # steady state variables\n",
    "    y_bar = None if steady_states is None else order_vector_by_symbols(\n",
    "        equations_to_dict(steady_states), [y_sub['symbol'] for y_sub in y_subs])\n",
    "    x_bar = None if steady_states is None else order_vector_by_symbols(\n",
    "        equations_to_dict(steady_states), [x_sub['symbol'] for x_sub in x_subs])\n",
    "    y_bar_iv = None if steady_states_iv is None else order_vector_by_symbols(\n",
    "        equations_to_dict(steady_states_iv), [y_sub['symbol'] for y_sub in y_subs])\n",
    "    x_bar_iv = None if steady_states_iv is None else order_vector_by_symbols(\n",
    "        equations_to_dict(steady_states_iv), [x_sub['symbol'] for x_sub in x_subs])"
   ]
  },
  {
   "cell_type": "code",
   "execution_count": 10,
   "id": "1760154fce7c9f5",
   "metadata": {
    "ExecuteTime": {
     "end_time": "2023-12-03T19:50:01.871637Z",
     "start_time": "2023-12-03T19:50:01.852568Z"
    }
   },
   "outputs": [],
   "source": [
    "    # Get any latex generated stuff we wish for pretty display of the model\n",
    "    H_latex = latex(H)\n",
    "    steady_states_latex = latex(steady_states)\n",
    "    steady_states_iv_latex = latex(steady_states_iv) if steady_states_iv is not None else None"
   ]
  },
  {
   "cell_type": "code",
   "execution_count": 11,
   "id": "c81b306eda38c61",
   "metadata": {
    "ExecuteTime": {
     "end_time": "2023-12-03T19:50:01.872227Z",
     "start_time": "2023-12-03T19:50:01.865057Z"
    }
   },
   "outputs": [],
   "source": [
    "    # steady state requires differentiation after substitution, and wrt [y; x]\n",
    "    H = [expr.subs(all_to_markov) for expr in H]\n",
    "    H_bar = deepcopy(H)\n",
    "    H_bar = substitute_and_simplify(H_bar, all_to_var)"
   ]
  },
  {
   "cell_type": "code",
   "execution_count": 12,
   "id": "185984262a93c31c",
   "metadata": {
    "ExecuteTime": {
     "end_time": "2023-12-03T19:50:01.893213Z",
     "start_time": "2023-12-03T19:50:01.867846Z"
    }
   },
   "outputs": [],
   "source": [
    "    # Differentiate the system of equations with respect to state/control variables\n",
    "    if print_level > 2:\n",
    "        print(\"\\033[96mDifferentiating H\\033[0m\")\n",
    "    H_bar_w = nested_differentiate(H_bar, y.col_join(x))\n",
    "    H_yp = nested_differentiate(H, y_p)\n",
    "    H_y = nested_differentiate(H, y)\n",
    "    H_xp = nested_differentiate(H, x_p)\n",
    "    H_x = nested_differentiate(H, x)"
   ]
  },
  {
   "cell_type": "code",
   "execution_count": 13,
   "id": "8ff7f3535c7a4545",
   "metadata": {
    "ExecuteTime": {
     "end_time": "2023-12-03T19:50:02.086874Z",
     "start_time": "2023-12-03T19:50:01.916970Z"
    }
   },
   "outputs": [],
   "source": [
    "    # Calculate the Hessian for each function in H\n",
    "    if print_level > 1:\n",
    "        print(\"\\033[96mCalculating hessian\\033[0m\")\n",
    "    Psi = [hessian(f, y_p.col_join(y).col_join(x_p).col_join(x)) for f in H]\n",
    "    if simplify_Ψ:\n",
    "        Psi = [simplify(psi) for psi in Psi]"
   ]
  },
  {
   "cell_type": "code",
   "execution_count": 14,
   "id": "f8f123cbbb8ebb9a",
   "metadata": {
    "ExecuteTime": {
     "end_time": "2023-12-03T19:50:02.153720Z",
     "start_time": "2023-12-03T19:50:02.097006Z"
    }
   },
   "outputs": [],
   "source": [
    "    # Differentiate the Hessian with respect to state/control variables\n",
    "    if print_level > 2 and max_order >= 2:\n",
    "        print(\"\\033[96mDifferentiating hessian\\033[0m\")\n",
    "    Psi_yp = None if max_order < 2 else nested_differentiate(Psi, y_p)\n",
    "    Psi_y = None if max_order < 2 else nested_differentiate(Psi, y)\n",
    "    Psi_xp = None if max_order < 2 else nested_differentiate(Psi, x_p)\n",
    "    Psi_x = None if max_order < 2 else nested_differentiate(Psi, x)"
   ]
  },
  {
   "cell_type": "code",
   "execution_count": 15,
   "id": "3c2597eb370c0875",
   "metadata": {
    "ExecuteTime": {
     "end_time": "2023-12-03T19:50:02.178111Z",
     "start_time": "2023-12-03T19:50:02.174665Z"
    }
   },
   "outputs": [],
   "source": [
    "if print_level > 2:\n",
    "    print(\"\\033[96mDifferentiating steady state with respect to parameters\\n\\033[0m\")\n",
    "p = Matrix(p)  # DenseMatrix\n",
    "H_p = differentiate_to_dict(H, p)\n",
    "Γ_p = differentiate_to_dict(Γ, p)\n",
    "Ω_p = differentiate_to_dict(Ω, p)\n",
    "y_bar_p = differentiate_to_dict(y_bar, p)\n",
    "x_bar_p = differentiate_to_dict(x_bar, p)"
   ]
  },
  {
   "cell_type": "code",
   "execution_count": 16,
   "id": "36d05e94d5d5eb2e",
   "metadata": {
    "ExecuteTime": {
     "end_time": "2023-12-03T19:50:02.630427Z",
     "start_time": "2023-12-03T19:50:02.180855Z"
    }
   },
   "outputs": [
    {
     "data": {
      "text/plain": "⎡   ⎛  α - 1    zₚ             α - 1  zₚ⎞ ⎤\n⎢-β⋅⎝kₚ     ⋅α⋅ℯ  ⋅log(kₚ) + kₚ     ⋅ℯ  ⎠ ⎥\n⎢─────────────────────────────────────────⎥\n⎢                    cₚ                   ⎥\n⎢                                         ⎥\n⎢                    0                    ⎥\n⎢                                         ⎥\n⎢                α  z                     ⎥\n⎢              -k ⋅ℯ ⋅log(k)              ⎥\n⎢                                         ⎥\n⎣                    0                    ⎦",
      "text/latex": "$\\displaystyle \\left[\\begin{matrix}- \\frac{β \\left(k_{p}^{α - 1} α e^{z_{p}} \\log{\\left(k_{p} \\right)} + k_{p}^{α - 1} e^{z_{p}}\\right)}{c_{p}}\\\\0\\\\- k^{α} e^{z} \\log{\\left(k \\right)}\\\\0\\end{matrix}\\right]$"
     },
     "execution_count": 16,
     "metadata": {},
     "output_type": "execute_result"
    }
   ],
   "source": [
    "H_p['α']"
   ]
  },
  {
   "cell_type": "code",
   "execution_count": 17,
   "id": "5c9d8c85d2395ed1",
   "metadata": {
    "ExecuteTime": {
     "end_time": "2023-12-03T19:50:02.643155Z",
     "start_time": "2023-12-03T19:50:02.641753Z"
    }
   },
   "outputs": [],
   "source": [
    "if print_level > 2:\n",
    "    print(\"\\033[96mDifferentiating H derivatives state with respect to parameters\\n\\033[0m\")\n",
    "\n",
    "H_yp_p = differentiate_to_dict(H_yp, p)\n",
    "H_xp_p = differentiate_to_dict(H_xp, p)\n",
    "H_y_p = differentiate_to_dict(H_y, p)\n",
    "H_x_p = differentiate_to_dict(H_x, p)"
   ]
  },
  {
   "cell_type": "code",
   "execution_count": 18,
   "id": "aa56af8e276fce31",
   "metadata": {
    "ExecuteTime": {
     "end_time": "2023-12-03T19:50:03.022461Z",
     "start_time": "2023-12-03T19:50:02.644519Z"
    }
   },
   "outputs": [
    {
     "data": {
      "text/plain": "⎡0  0 ⎤\n⎢     ⎥\n⎢0  0 ⎥\n⎢     ⎥\n⎢0  0 ⎥\n⎢     ⎥\n⎣0  -1⎦",
      "image/png": "[encoded data removed]",
      "text/latex": "$\\displaystyle \\left[\\begin{matrix}0 & 0\\\\0 & 0\\\\0 & 0\\\\0 & -1\\end{matrix}\\right]$"
     },
     "execution_count": 18,
     "metadata": {},
     "output_type": "execute_result"
    }
   ],
   "source": [
    "H_x_p['ρ']"
   ]
  },
  {
   "cell_type": "code",
   "execution_count": 19,
   "id": "2534e8c293e1c83c",
   "metadata": {
    "ExecuteTime": {
     "end_time": "2023-12-03T19:50:03.053424Z",
     "start_time": "2023-12-03T19:50:03.050019Z"
    }
   },
   "outputs": [],
   "source": [
    "if print_level > 2 and max_order >= 2:\n",
    "    print(\"\\033[96mDifferentiating hessian with respect to parameters\\n\\033[0m\")\n",
    "Psi_p = None if max_order < 2 else differentiate_to_dict(Psi, p)"
   ]
  },
  {
   "cell_type": "code",
   "execution_count": 20,
   "id": "1a9f85071dbffe59",
   "metadata": {
    "ExecuteTime": {
     "end_time": "2023-12-03T19:50:03.269689Z",
     "start_time": "2023-12-03T19:50:03.058226Z"
    }
   },
   "outputs": [
    {
     "data": {
      "text/plain": "⎡⎡  ⎛    α - 1    zₚ        ⎞                 α - 2            zₚ            α\n⎢⎢2⋅⎝- kₚ     ⋅α⋅ℯ   + δ - 1⎠               kₚ     ⋅α⋅(α - 1)⋅ℯ            kₚ \n⎢⎢───────────────────────────  0  0  0      ─────────────────────          ───\n⎢⎢              3                                      2                      \n⎢⎢            cₚ                                     cₚ                       \n⎢⎢                                                                            \n⎢⎢             0               0  0  0                0                       \n⎢⎢                                                                            \n⎢⎢             0               0  0  0                0                       \n⎢⎢                                                                            \n⎢⎢             0               0  0  0                0                       \n⎢⎢                                                                            \n⎢⎢     α - 2            zₚ                α - 3                    zₚ    α - 2\n⎢⎢   kₚ     ⋅α⋅(α - 1)⋅ℯ                kₚ     ⋅α⋅(2 - α)⋅(α - 1)⋅ℯ    kₚ     \n⎢⎢   ─────────────────────     0  0  0  ─────────────────────────────  ───────\n⎢⎢              2                                     cₚ                      \n⎢⎢            cₚ                                                              \n⎢⎢                                                                            \n⎢⎢         α - 1    zₚ                        α - 2            zₚ            α\n⎢⎢       kₚ     ⋅α⋅ℯ                        kₚ     ⋅α⋅(1 - α)⋅ℯ           -kₚ \n⎢⎢       ─────────────         0  0  0      ─────────────────────         ────\n⎢⎢              2                                     cₚ                      \n⎢⎢            cₚ                                                              \n⎢⎢                                                                            \n⎢⎢             0               0  0  0                0                       \n⎢⎢                                                                            \n⎣⎣             0               0  0  0                0                       \n\n - 1    zₚ          ⎤                                                         \n    ⋅α⋅ℯ            ⎥                                                         \n──────────      0  0⎥                                                         \n    2               ⎥                                                         \n  cₚ                ⎥                                                         \n                    ⎥                                                         \n   0            0  0⎥  ⎡0  0  0  0  0  0  0  0⎤  ⎡0  0  0  0  0  0  0  0⎤  ⎡0 \n                    ⎥  ⎢                      ⎥  ⎢                      ⎥  ⎢  \n   0            0  0⎥  ⎢0  0  0  0  0  0  0  0⎥  ⎢0  0  0  0  0  0  0  0⎥  ⎢0 \n                    ⎥  ⎢                      ⎥  ⎢                      ⎥  ⎢  \n   0            0  0⎥  ⎢0  0  0  0  0  0  0  0⎥  ⎢0  0  0  0  0  0  0  0⎥  ⎢0 \n                    ⎥  ⎢                      ⎥  ⎢                      ⎥  ⎢  \n            zₚ      ⎥  ⎢0  0  0  0  0  0  0  0⎥  ⎢0  0  0  0  0  0  0  0⎥  ⎢0 \n⋅α⋅(1 - α)⋅ℯ        ⎥, ⎢                      ⎥, ⎢                      ⎥, ⎢  \n──────────────  0  0⎥  ⎢0  0  0  0  0  0  0  0⎥  ⎢0  0  0  0  0  0  0  0⎥  ⎢0 \n   cₚ               ⎥  ⎢                      ⎥  ⎢                      ⎥  ⎢  \n                    ⎥  ⎢0  0  0  0  0  0  0  0⎥  ⎢0  0  0  0  0  0  0  0⎥  ⎢0 \n                    ⎥  ⎢                      ⎥  ⎢                      ⎥  ⎢  \n - 1    zₚ          ⎥  ⎢0  0  0  0  0  0  0  0⎥  ⎢0  0  0  0  0  0  0  0⎥  ⎢0 \n    ⋅α⋅ℯ            ⎥  ⎢                      ⎥  ⎢                      ⎥  ⎢  \n───────────     0  0⎥  ⎣0  0  0  0  0  0  0  0⎦  ⎣0  0  0  0  0  0  0  0⎦  ⎣0 \n   cₚ               ⎥                                                         \n                    ⎥                                                         \n                    ⎥                                                         \n   0            0  0⎥                                                         \n                    ⎥                                                         \n   0            0  0⎦                                                         \n\n                     ⎤\n                     ⎥\n                     ⎥\n                     ⎥\n                     ⎥\n                     ⎥\n 0  0  0  0  0  0  0⎤⎥\n                    ⎥⎥\n 0  0  0  0  0  0  0⎥⎥\n                    ⎥⎥\n 0  0  0  0  0  0  0⎥⎥\n                    ⎥⎥\n 0  0  0  0  0  0  0⎥⎥\n                    ⎥⎥\n 0  0  0  0  0  0  0⎥⎥\n                    ⎥⎥\n 0  0  0  0  0  0  0⎥⎥\n                    ⎥⎥\n 0  0  0  0  0  0  0⎥⎥\n                    ⎥⎥\n 0  0  0  0  0  0  0⎦⎥\n                     ⎥\n                     ⎥\n                     ⎥\n                     ⎥\n                     ⎥\n                     ⎦",
      "text/latex": "$\\displaystyle \\left[ \\left[\\begin{matrix}\\frac{2 \\left(- k_{p}^{α - 1} α e^{z_{p}} + δ - 1\\right)}{c_{p}^{3}} & 0 & 0 & 0 & \\frac{k_{p}^{α - 2} α \\left(α - 1\\right) e^{z_{p}}}{c_{p}^{2}} & \\frac{k_{p}^{α - 1} α e^{z_{p}}}{c_{p}^{2}} & 0 & 0\\\\0 & 0 & 0 & 0 & 0 & 0 & 0 & 0\\\\0 & 0 & 0 & 0 & 0 & 0 & 0 & 0\\\\0 & 0 & 0 & 0 & 0 & 0 & 0 & 0\\\\\\frac{k_{p}^{α - 2} α \\left(α - 1\\right) e^{z_{p}}}{c_{p}^{2}} & 0 & 0 & 0 & \\frac{k_{p}^{α - 3} α \\left(2 - α\\right) \\left(α - 1\\right) e^{z_{p}}}{c_{p}} & \\frac{k_{p}^{α - 2} α \\left(1 - α\\right) e^{z_{p}}}{c_{p}} & 0 & 0\\\\\\frac{k_{p}^{α - 1} α e^{z_{p}}}{c_{p}^{2}} & 0 & 0 & 0 & \\frac{k_{p}^{α - 2} α \\left(1 - α\\right) e^{z_{p}}}{c_{p}} & - \\frac{k_{p}^{α - 1} α e^{z_{p}}}{c_{p}} & 0 & 0\\\\0 & 0 & 0 & 0 & 0 & 0 & 0 & 0\\\\0 & 0 & 0 & 0 & 0 & 0 & 0 & 0\\end{matrix}\\right], \\  \\left[\\begin{matrix}0 & 0 & 0 & 0 & 0 & 0 & 0 & 0\\\\0 & 0 & 0 & 0 & 0 & 0 & 0 & 0\\\\0 & 0 & 0 & 0 & 0 & 0 & 0 & 0\\\\0 & 0 & 0 & 0 & 0 & 0 & 0 & 0\\\\0 & 0 & 0 & 0 & 0 & 0 & 0 & 0\\\\0 & 0 & 0 & 0 & 0 & 0 & 0 & 0\\\\0 & 0 & 0 & 0 & 0 & 0 & 0 & 0\\\\0 & 0 & 0 & 0 & 0 & 0 & 0 & 0\\end{matrix}\\right], \\  \\left[\\begin{matrix}0 & 0 & 0 & 0 & 0 & 0 & 0 & 0\\\\0 & 0 & 0 & 0 & 0 & 0 & 0 & 0\\\\0 & 0 & 0 & 0 & 0 & 0 & 0 & 0\\\\0 & 0 & 0 & 0 & 0 & 0 & 0 & 0\\\\0 & 0 & 0 & 0 & 0 & 0 & 0 & 0\\\\0 & 0 & 0 & 0 & 0 & 0 & 0 & 0\\\\0 & 0 & 0 & 0 & 0 & 0 & 0 & 0\\\\0 & 0 & 0 & 0 & 0 & 0 & 0 & 0\\end{matrix}\\right], \\  \\left[\\begin{matrix}0 & 0 & 0 & 0 & 0 & 0 & 0 & 0\\\\0 & 0 & 0 & 0 & 0 & 0 & 0 & 0\\\\0 & 0 & 0 & 0 & 0 & 0 & 0 & 0\\\\0 & 0 & 0 & 0 & 0 & 0 & 0 & 0\\\\0 & 0 & 0 & 0 & 0 & 0 & 0 & 0\\\\0 & 0 & 0 & 0 & 0 & 0 & 0 & 0\\\\0 & 0 & 0 & 0 & 0 & 0 & 0 & 0\\\\0 & 0 & 0 & 0 & 0 & 0 & 0 & 0\\end{matrix}\\right]\\right]$"
     },
     "execution_count": 20,
     "metadata": {},
     "output_type": "execute_result"
    }
   ],
   "source": [
    "Psi_p['β']"
   ]
  },
  {
   "cell_type": "code",
   "execution_count": 21,
   "id": "3e7eeccbda366864",
   "metadata": {
    "ExecuteTime": {
     "end_time": "2023-12-03T19:50:03.483500Z",
     "start_time": "2023-12-03T19:50:03.270781Z"
    }
   },
   "outputs": [
    {
     "name": "stdout",
     "output_type": "stream",
     "text": [
      "\u001B[96mSubstituting and simplifying\n",
      "\u001B[0m\n"
     ]
    }
   ],
   "source": [
    "if print_level > 0:\n",
    "    print(\"\\033[96mSubstituting and simplifying\\n\\033[0m\")\n",
    "\n",
    "H = substitute_and_simplify(H, all_to_markov, do_simplify)\n",
    "H_yp = substitute_and_simplify(H_yp, all_to_var, do_simplify)\n",
    "H_xp = substitute_and_simplify(H_xp, all_to_var, do_simplify)\n",
    "H_x = substitute_and_simplify(H_x, all_to_var, do_simplify)\n",
    "H_y = substitute_and_simplify(H_y, all_to_var, do_simplify)\n",
    "Psi = substitute_and_simplify(Psi, all_to_var, do_simplify)"
   ]
  },
  {
   "cell_type": "code",
   "execution_count": 22,
   "id": "59b0e65724505501",
   "metadata": {
    "ExecuteTime": {
     "end_time": "2023-12-03T19:50:03.702944Z",
     "start_time": "2023-12-03T19:50:03.494731Z"
    }
   },
   "outputs": [
    {
     "data": {
      "text/plain": "⎡⎡    ⎛   α - 1    z        ⎞                  α - 2              z           \n⎢⎢2⋅β⋅⎝- k     ⋅α⋅ℯ  + δ - 1⎠                 k     ⋅α⋅β⋅(α - 1)⋅ℯ            \n⎢⎢───────────────────────────  0  0   0       ─────────────────────           \n⎢⎢              3                                        2                    \n⎢⎢             c                                        c                     \n⎢⎢                                                                            \n⎢⎢             0               0  0   0                 0                     \n⎢⎢                                                                            \n⎢⎢                                2                                           \n⎢⎢             0               0  ──  0                 0                     \n⎢⎢                                 3                                          \n⎢⎢                                c                                           \n⎢⎢                                                                            \n⎢⎢             0               0  0   0                 0                     \n⎢⎢                                                                            \n⎢⎢    α - 2              z                 α - 3                      z    α -\n⎢⎢   k     ⋅α⋅β⋅(α - 1)⋅ℯ                -k     ⋅α⋅β⋅(α - 2)⋅(α - 1)⋅ℯ    k   \n⎢⎢   ─────────────────────     0  0   0  ───────────────────────────────  ────\n⎢⎢              2                                       c                     \n⎢⎢             c                                                              \n⎢⎢                                                                            \n⎢⎢        α - 1      z                         α - 2              z           \n⎢⎢       k     ⋅α⋅β⋅ℯ                         k     ⋅α⋅β⋅(1 - α)⋅ℯ           -\n⎢⎢       ─────────────         0  0   0       ─────────────────────          ─\n⎢⎢              2                                       c                     \n⎢⎢             c                                                              \n⎢⎢                                                                            \n⎢⎢             0               0  0   0                 0                     \n⎢⎢                                                                            \n⎣⎣             0               0  0   0                 0                     \n\n α - 1      z          ⎤                                                      \nk     ⋅α⋅β⋅ℯ           ⎥                                                      \n─────────────      0  0⎥                                                      \n       2               ⎥                                                      \n      c                ⎥                                                      \n                       ⎥                                                      \n      0            0  0⎥                                                      \n                       ⎥                            ⎡0  0  0  0  0  0         \n                       ⎥  ⎡0  0  0  0  0  0  0  0⎤  ⎢                         \n      0            0  0⎥  ⎢                      ⎥  ⎢0  0  0  0  0  0         \n                       ⎥  ⎢0  0  0  0  0  0  0  0⎥  ⎢                         \n                       ⎥  ⎢                      ⎥  ⎢0  0  0  0  0  0         \n                       ⎥  ⎢0  0  0  0  0  0  0  0⎥  ⎢                         \n      0            0  0⎥  ⎢                      ⎥  ⎢0  0  0  0  0  0         \n                       ⎥  ⎢0  0  0  0  0  0  0  0⎥  ⎢                         \n 2              z      ⎥, ⎢                      ⎥, ⎢0  0  0  0  0  0         \n  ⋅α⋅β⋅(1 - α)⋅ℯ       ⎥  ⎢0  0  0  0  0  0  0  0⎥  ⎢                         \n─────────────────  0  0⎥  ⎢                      ⎥  ⎢0  0  0  0  0  0         \n      c                ⎥  ⎢0  0  0  0  0  0  0  0⎥  ⎢                         \n                       ⎥  ⎢                      ⎥  ⎢                   α - 2 \n                       ⎥  ⎢0  0  0  0  0  0  0  0⎥  ⎢0  0  0  0  0  0  k     ⋅\n α - 1      z          ⎥  ⎢                      ⎥  ⎢                         \nk     ⋅α⋅β⋅ℯ           ⎥  ⎣0  0  0  0  0  0  0  0⎦  ⎢                       α \n──────────────     0  0⎥                            ⎣0  0  0  0  0  0     -k  \n      c                ⎥                                                      \n                       ⎥                                                      \n                       ⎥                                                      \n      0            0  0⎥                                                      \n                       ⎥                                                      \n      0            0  0⎦                                                      \n\n                                                     ⎤\n                                                     ⎥\n                                                     ⎥\n                                                     ⎥\n                                                     ⎥\n                                                     ⎥\n                                                     ⎥\n  0                0      ⎤                          ⎥\n                          ⎥  ⎡0  0  0  0  0  0  0  0⎤⎥\n  0                0      ⎥  ⎢                      ⎥⎥\n                          ⎥  ⎢0  0  0  0  0  0  0  0⎥⎥\n  0                0      ⎥  ⎢                      ⎥⎥\n                          ⎥  ⎢0  0  0  0  0  0  0  0⎥⎥\n  0                0      ⎥  ⎢                      ⎥⎥\n                          ⎥  ⎢0  0  0  0  0  0  0  0⎥⎥\n  0                0      ⎥, ⎢                      ⎥⎥\n                          ⎥  ⎢0  0  0  0  0  0  0  0⎥⎥\n  0                0      ⎥  ⎢                      ⎥⎥\n                          ⎥  ⎢0  0  0  0  0  0  0  0⎥⎥\n           z    α - 1    z⎥  ⎢                      ⎥⎥\nα⋅(1 - α)⋅ℯ   -k     ⋅α⋅ℯ ⎥  ⎢0  0  0  0  0  0  0  0⎥⎥\n                          ⎥  ⎢                      ⎥⎥\n- 1    z           α  z   ⎥  ⎣0  0  0  0  0  0  0  0⎦⎥\n   ⋅α⋅ℯ          -k ⋅ℯ    ⎦                          ⎥\n                                                     ⎥\n                                                     ⎥\n                                                     ⎥\n                                                     ⎥\n                                                     ⎥\n                                                     ⎦",
      "text/latex": "$\\displaystyle \\left[ \\left[\\begin{matrix}\\frac{2 β \\left(- k^{α - 1} α e^{z} + δ - 1\\right)}{c^{3}} & 0 & 0 & 0 & \\frac{k^{α - 2} α β \\left(α - 1\\right) e^{z}}{c^{2}} & \\frac{k^{α - 1} α β e^{z}}{c^{2}} & 0 & 0\\\\0 & 0 & 0 & 0 & 0 & 0 & 0 & 0\\\\0 & 0 & \\frac{2}{c^{3}} & 0 & 0 & 0 & 0 & 0\\\\0 & 0 & 0 & 0 & 0 & 0 & 0 & 0\\\\\\frac{k^{α - 2} α β \\left(α - 1\\right) e^{z}}{c^{2}} & 0 & 0 & 0 & - \\frac{k^{α - 3} α β \\left(α - 2\\right) \\left(α - 1\\right) e^{z}}{c} & \\frac{k^{α - 2} α β \\left(1 - α\\right) e^{z}}{c} & 0 & 0\\\\\\frac{k^{α - 1} α β e^{z}}{c^{2}} & 0 & 0 & 0 & \\frac{k^{α - 2} α β \\left(1 - α\\right) e^{z}}{c} & - \\frac{k^{α - 1} α β e^{z}}{c} & 0 & 0\\\\0 & 0 & 0 & 0 & 0 & 0 & 0 & 0\\\\0 & 0 & 0 & 0 & 0 & 0 & 0 & 0\\end{matrix}\\right], \\  \\left[\\begin{matrix}0 & 0 & 0 & 0 & 0 & 0 & 0 & 0\\\\0 & 0 & 0 & 0 & 0 & 0 & 0 & 0\\\\0 & 0 & 0 & 0 & 0 & 0 & 0 & 0\\\\0 & 0 & 0 & 0 & 0 & 0 & 0 & 0\\\\0 & 0 & 0 & 0 & 0 & 0 & 0 & 0\\\\0 & 0 & 0 & 0 & 0 & 0 & 0 & 0\\\\0 & 0 & 0 & 0 & 0 & 0 & 0 & 0\\\\0 & 0 & 0 & 0 & 0 & 0 & 0 & 0\\end{matrix}\\right], \\  \\left[\\begin{matrix}0 & 0 & 0 & 0 & 0 & 0 & 0 & 0\\\\0 & 0 & 0 & 0 & 0 & 0 & 0 & 0\\\\0 & 0 & 0 & 0 & 0 & 0 & 0 & 0\\\\0 & 0 & 0 & 0 & 0 & 0 & 0 & 0\\\\0 & 0 & 0 & 0 & 0 & 0 & 0 & 0\\\\0 & 0 & 0 & 0 & 0 & 0 & 0 & 0\\\\0 & 0 & 0 & 0 & 0 & 0 & k^{α - 2} α \\left(1 - α\\right) e^{z} & - k^{α - 1} α e^{z}\\\\0 & 0 & 0 & 0 & 0 & 0 & - k^{α - 1} α e^{z} & - k^{α} e^{z}\\end{matrix}\\right], \\  \\left[\\begin{matrix}0 & 0 & 0 & 0 & 0 & 0 & 0 & 0\\\\0 & 0 & 0 & 0 & 0 & 0 & 0 & 0\\\\0 & 0 & 0 & 0 & 0 & 0 & 0 & 0\\\\0 & 0 & 0 & 0 & 0 & 0 & 0 & 0\\\\0 & 0 & 0 & 0 & 0 & 0 & 0 & 0\\\\0 & 0 & 0 & 0 & 0 & 0 & 0 & 0\\\\0 & 0 & 0 & 0 & 0 & 0 & 0 & 0\\\\0 & 0 & 0 & 0 & 0 & 0 & 0 & 0\\end{matrix}\\right]\\right]$"
     },
     "execution_count": 22,
     "metadata": {},
     "output_type": "execute_result"
    }
   ],
   "source": [
    "Psi"
   ]
  },
  {
   "cell_type": "code",
   "execution_count": 23,
   "id": "37d1ade0697573ed",
   "metadata": {
    "ExecuteTime": {
     "end_time": "2023-12-03T19:50:04.185312Z",
     "start_time": "2023-12-03T19:50:03.705925Z"
    }
   },
   "outputs": [],
   "source": [
    "if print_level > 2:\n",
    "    print(\"\\033[96mSubstituting and simplifying parameter derivatives\\n\\033[0m\")\n",
    "\n",
    "H_p = substitute_and_simplify(H_p, all_to_var, simplify_p)\n",
    "Γ_p = substitute_and_simplify(Γ_p, all_to_var, simplify_p)\n",
    "Ω_p = substitute_and_simplify(Ω_p, all_to_var, simplify_p)\n",
    "y_bar_p = substitute_and_simplify(y_bar_p, all_to_var, simplify_p)\n",
    "x_bar_p = substitute_and_simplify(x_bar_p, all_to_var, simplify_p)\n",
    "H_yp_p = substitute_and_simplify(H_yp_p, all_to_var, simplify_p)\n",
    "H_xp_p = substitute_and_simplify(H_xp_p, all_to_var, simplify_p)\n",
    "H_y_p = substitute_and_simplify(H_y_p, all_to_var, simplify_p)\n",
    "H_x_p = substitute_and_simplify(H_x_p, all_to_var, simplify_p)"
   ]
  },
  {
   "cell_type": "code",
   "execution_count": 24,
   "id": "a4304ed87ca45ac8",
   "metadata": {
    "ExecuteTime": {
     "end_time": "2023-12-03T19:50:04.389771Z",
     "start_time": "2023-12-03T19:50:04.187140Z"
    }
   },
   "outputs": [
    {
     "data": {
      "text/plain": "⎡  α - 1                   z ⎤\n⎢-k     ⋅β⋅(α⋅log(k) + 1)⋅ℯ  ⎥\n⎢────────────────────────────⎥\n⎢             c              ⎥\n⎢                            ⎥\n⎢             0              ⎥\n⎢                            ⎥\n⎢         α  z               ⎥\n⎢       -k ⋅ℯ ⋅log(k)        ⎥\n⎢                            ⎥\n⎣             0              ⎦",
      "text/latex": "$\\displaystyle \\left[\\begin{matrix}- \\frac{k^{α - 1} β \\left(α \\log{\\left(k \\right)} + 1\\right) e^{z}}{c}\\\\0\\\\- k^{α} e^{z} \\log{\\left(k \\right)}\\\\0\\end{matrix}\\right]$"
     },
     "execution_count": 24,
     "metadata": {},
     "output_type": "execute_result"
    }
   ],
   "source": [
    "H_p['α']"
   ]
  },
  {
   "cell_type": "code",
   "execution_count": 25,
   "id": "7ea2622a5d50cb2c",
   "metadata": {
    "ExecuteTime": {
     "end_time": "2023-12-03T19:50:04.711244Z",
     "start_time": "2023-12-03T19:50:04.391595Z"
    }
   },
   "outputs": [],
   "source": [
    "    # Substitute and simplify second order derivatives\n",
    "    if print_level > 1 and max_order >= 2:\n",
    "        print(\"\\033[96mSubstituting and simplifying 2nd order\\033[0m\")\n",
    "    Psi_yp = substitute_and_simplify(Psi_yp, all_to_var, do_simplify)\n",
    "    Psi_y = substitute_and_simplify(Psi_y, all_to_var, do_simplify)\n",
    "    Psi_xp = substitute_and_simplify(Psi_xp, all_to_var, do_simplify)\n",
    "    Psi_x = substitute_and_simplify(Psi_x, all_to_var, do_simplify)"
   ]
  },
  {
   "cell_type": "code",
   "execution_count": 26,
   "id": "bcf93b3ca6b0fe3d",
   "metadata": {
    "collapsed": false,
    "ExecuteTime": {
     "end_time": "2023-12-03T19:50:04.910826Z",
     "start_time": "2023-12-03T19:50:04.715364Z"
    }
   },
   "outputs": [
    {
     "data": {
      "text/plain": "⎡0  0  0  0  0  0           0                0      ⎤\n⎢                                                   ⎥\n⎢0  0  0  0  0  0           0                0      ⎥\n⎢                                                   ⎥\n⎢0  0  0  0  0  0           0                0      ⎥\n⎢                                                   ⎥\n⎢0  0  0  0  0  0           0                0      ⎥\n⎢                                                   ⎥\n⎢0  0  0  0  0  0           0                0      ⎥\n⎢                                                   ⎥\n⎢0  0  0  0  0  0           0                0      ⎥\n⎢                                                   ⎥\n⎢                   α - 2            z    α - 1    z⎥\n⎢0  0  0  0  0  0  k     ⋅α⋅(1 - α)⋅ℯ   -k     ⋅α⋅ℯ ⎥\n⎢                                                   ⎥\n⎢                       α - 1    z           α  z   ⎥\n⎣0  0  0  0  0  0     -k     ⋅α⋅ℯ          -k ⋅ℯ    ⎦",
      "text/latex": "$\\displaystyle \\left[\\begin{matrix}0 & 0 & 0 & 0 & 0 & 0 & 0 & 0\\\\0 & 0 & 0 & 0 & 0 & 0 & 0 & 0\\\\0 & 0 & 0 & 0 & 0 & 0 & 0 & 0\\\\0 & 0 & 0 & 0 & 0 & 0 & 0 & 0\\\\0 & 0 & 0 & 0 & 0 & 0 & 0 & 0\\\\0 & 0 & 0 & 0 & 0 & 0 & 0 & 0\\\\0 & 0 & 0 & 0 & 0 & 0 & k^{α - 2} α \\left(1 - α\\right) e^{z} & - k^{α - 1} α e^{z}\\\\0 & 0 & 0 & 0 & 0 & 0 & - k^{α - 1} α e^{z} & - k^{α} e^{z}\\end{matrix}\\right]$"
     },
     "execution_count": 26,
     "metadata": {},
     "output_type": "execute_result"
    }
   ],
   "source": [
    "Psi_x[1][2]"
   ]
  },
  {
   "cell_type": "code",
   "execution_count": 27,
   "id": "823ae96ece83f148",
   "metadata": {
    "collapsed": false,
    "ExecuteTime": {
     "end_time": "2023-12-03T19:50:05.233170Z",
     "start_time": "2023-12-03T19:50:04.917585Z"
    }
   },
   "outputs": [],
   "source": [
    "    if print_level > 2 and max_order >= 2:\n",
    "        print(\"\\033[96mSubstituting and simplifying 2nd order parameter derivatives\\n\\033[0m\")\n",
    "    Psi_p = substitute_and_simplify(Psi_p, all_to_var, simplify_p)"
   ]
  },
  {
   "cell_type": "code",
   "execution_count": 28,
   "id": "3cd34ba751622d84",
   "metadata": {
    "collapsed": false,
    "ExecuteTime": {
     "end_time": "2023-12-03T19:50:05.447304Z",
     "start_time": "2023-12-03T19:50:05.245842Z"
    }
   },
   "outputs": [
    {
     "data": {
      "text/plain": "⎡         α - 1                   z                                      α - 2\n⎢     -2⋅k     ⋅β⋅(α⋅log(k) + 1)⋅ℯ                                      k     \n⎢     ──────────────────────────────       0  0  0                      ──────\n⎢                    3                                                        \n⎢                   c                                                         \n⎢                                                                             \n⎢                   0                      0  0  0                            \n⎢                                                                             \n⎢                   0                      0  0  0                            \n⎢                                                                             \n⎢                   0                      0  0  0                            \n⎢                                                                             \n⎢ α - 2                                 z            α - 3                    \n⎢k     ⋅β⋅(α⋅(α - 1)⋅log(k) + 2⋅α - 1)⋅ℯ            k     ⋅β⋅(-α⋅(α - 2)⋅(α - \n⎢────────────────────────────────────────  0  0  0  ──────────────────────────\n⎢                    2                                                        \n⎢                   c                                                         \n⎢                                                                             \n⎢        α - 1                   z                                       α - 2\n⎢       k     ⋅β⋅(α⋅log(k) + 1)⋅ℯ                                       k     \n⎢       ──────────────────────────         0  0  0                      ──────\n⎢                    2                                                        \n⎢                   c                                                         \n⎢                                                                             \n⎢                   0                      0  0  0                            \n⎢                                                                             \n⎣                   0                      0  0  0                            \n\n                                 z                               α - 1        \n⋅β⋅(α⋅(α - 1)⋅log(k) + 2⋅α - 1)⋅ℯ                               k     ⋅β⋅(α⋅lo\n──────────────────────────────────                              ──────────────\n              2                                                              2\n             c                                                              c \n                                                                              \n              0                                                              0\n                                                                              \n              0                                                              0\n                                                                              \n              0                                                              0\n                                                                              \n                                                      z   α - 2               \n1)⋅log(k) - α⋅(α - 2) - α⋅(α - 1) - (α - 2)⋅(α - 1))⋅ℯ   k     ⋅β⋅(-α⋅(α - 1)⋅\n───────────────────────────────────────────────────────  ─────────────────────\n              c                                                              c\n                                                                              \n                                                                              \n                                  z                              α - 1        \n⋅β⋅(-α⋅(α - 1)⋅log(k) - 2⋅α + 1)⋅ℯ                              k     ⋅β⋅(-α⋅l\n───────────────────────────────────                             ──────────────\n              c                                                              c\n                                                                              \n                                                                              \n              0                                                              0\n                                                                              \n              0                                                              0\n\n           z              ⎤\ng(k) + 1)⋅ℯ               ⎥\n────────────          0  0⎥\n                          ⎥\n                          ⎥\n                          ⎥\n                      0  0⎥\n                          ⎥\n                      0  0⎥\n                          ⎥\n                      0  0⎥\n                          ⎥\n                   z      ⎥\nlog(k) - 2⋅α + 1)⋅ℯ       ⎥\n────────────────────  0  0⎥\n                          ⎥\n                          ⎥\n                          ⎥\n            z             ⎥\nog(k) - 1)⋅ℯ              ⎥\n─────────────         0  0⎥\n                          ⎥\n                          ⎥\n                          ⎥\n                      0  0⎥\n                          ⎥\n                      0  0⎦",
      "text/latex": "$\\displaystyle \\left[\\begin{matrix}- \\frac{2 k^{α - 1} β \\left(α \\log{\\left(k \\right)} + 1\\right) e^{z}}{c^{3}} & 0 & 0 & 0 & \\frac{k^{α - 2} β \\left(α \\left(α - 1\\right) \\log{\\left(k \\right)} + 2 α - 1\\right) e^{z}}{c^{2}} & \\frac{k^{α - 1} β \\left(α \\log{\\left(k \\right)} + 1\\right) e^{z}}{c^{2}} & 0 & 0\\\\0 & 0 & 0 & 0 & 0 & 0 & 0 & 0\\\\0 & 0 & 0 & 0 & 0 & 0 & 0 & 0\\\\0 & 0 & 0 & 0 & 0 & 0 & 0 & 0\\\\\\frac{k^{α - 2} β \\left(α \\left(α - 1\\right) \\log{\\left(k \\right)} + 2 α - 1\\right) e^{z}}{c^{2}} & 0 & 0 & 0 & \\frac{k^{α - 3} β \\left(- α \\left(α - 2\\right) \\left(α - 1\\right) \\log{\\left(k \\right)} - α \\left(α - 2\\right) - α \\left(α - 1\\right) - \\left(α - 2\\right) \\left(α - 1\\right)\\right) e^{z}}{c} & \\frac{k^{α - 2} β \\left(- α \\left(α - 1\\right) \\log{\\left(k \\right)} - 2 α + 1\\right) e^{z}}{c} & 0 & 0\\\\\\frac{k^{α - 1} β \\left(α \\log{\\left(k \\right)} + 1\\right) e^{z}}{c^{2}} & 0 & 0 & 0 & \\frac{k^{α - 2} β \\left(- α \\left(α - 1\\right) \\log{\\left(k \\right)} - 2 α + 1\\right) e^{z}}{c} & \\frac{k^{α - 1} β \\left(- α \\log{\\left(k \\right)} - 1\\right) e^{z}}{c} & 0 & 0\\\\0 & 0 & 0 & 0 & 0 & 0 & 0 & 0\\\\0 & 0 & 0 & 0 & 0 & 0 & 0 & 0\\end{matrix}\\right]$"
     },
     "execution_count": 28,
     "metadata": {},
     "output_type": "execute_result"
    }
   ],
   "source": [
    "Psi_p['α'][0]"
   ]
  },
  {
   "cell_type": "code",
   "execution_count": 29,
   "id": "e010aaad3c50e735",
   "metadata": {
    "collapsed": false,
    "ExecuteTime": {
     "end_time": "2023-12-03T19:50:05.661884Z",
     "start_time": "2023-12-03T19:50:05.455686Z"
    }
   },
   "outputs": [
    {
     "data": {
      "text/plain": "⎡⎡                                                    ⎡0  0  0  0  0  0       \n⎢⎢⎡0  0  0  0  0  0  0  0⎤  ⎡0  0  0  0  0  0  0  0⎤  ⎢                       \n⎢⎢⎢                      ⎥  ⎢                      ⎥  ⎢0  0  0  0  0  0       \n⎢⎢⎢0  0  0  0  0  0  0  0⎥  ⎢0  0  0  0  0  0  0  0⎥  ⎢                       \n⎢⎢⎢                      ⎥  ⎢                      ⎥  ⎢0  0  0  0  0  0       \n⎢⎢⎢0  0  0  0  0  0  0  0⎥  ⎢0  0  0  0  0  0  0  0⎥  ⎢                       \n⎢⎢⎢                      ⎥  ⎢                      ⎥  ⎢0  0  0  0  0  0       \n⎢⎢⎢0  0  0  0  0  0  0  0⎥  ⎢0  0  0  0  0  0  0  0⎥  ⎢                       \n⎢⎢⎢                      ⎥, ⎢                      ⎥, ⎢0  0  0  0  0  0       \n⎢⎢⎢0  0  0  0  0  0  0  0⎥  ⎢0  0  0  0  0  0  0  0⎥  ⎢                       \n⎢⎢⎢                      ⎥  ⎢                      ⎥  ⎢0  0  0  0  0  0       \n⎢⎢⎢0  0  0  0  0  0  0  0⎥  ⎢0  0  0  0  0  0  0  0⎥  ⎢                       \n⎢⎢⎢                      ⎥  ⎢                      ⎥  ⎢                    α -\n⎢⎢⎢0  0  0  0  0  0  0  0⎥  ⎢0  0  0  0  0  0  0  0⎥  ⎢0  0  0  0  0  0  -k   \n⎢⎢⎢                      ⎥  ⎢                      ⎥  ⎢                       \n⎢⎢⎣0  0  0  0  0  0  0  0⎦  ⎣0  0  0  0  0  0  0  0⎦  ⎢                       \n⎣⎣                                                    ⎣0  0  0  0  0  0      k\n\n        0                         0         ⎤                          ⎤  ⎡   \n                                            ⎥  ⎡0  0  0  0  0  0  0  0⎤⎥  ⎢⎡0 \n        0                         0         ⎥  ⎢                      ⎥⎥  ⎢⎢  \n                                            ⎥  ⎢0  0  0  0  0  0  0  0⎥⎥  ⎢⎢0 \n        0                         0         ⎥  ⎢                      ⎥⎥  ⎢⎢  \n                                            ⎥  ⎢0  0  0  0  0  0  0  0⎥⎥  ⎢⎢0 \n        0                         0         ⎥  ⎢                      ⎥⎥  ⎢⎢  \n                                            ⎥  ⎢0  0  0  0  0  0  0  0⎥⎥  ⎢⎢0 \n        0                         0         ⎥, ⎢                      ⎥⎥, ⎢⎢  \n                                            ⎥  ⎢0  0  0  0  0  0  0  0⎥⎥  ⎢⎢0 \n        0                         0         ⎥  ⎢                      ⎥⎥  ⎢⎢  \n                                            ⎥  ⎢0  0  0  0  0  0  0  0⎥⎥  ⎢⎢0 \n 3                    z   α - 2            z⎥  ⎢                      ⎥⎥  ⎢⎢  \n  ⋅α⋅(α - 2)⋅(α - 1)⋅ℯ   k     ⋅α⋅(1 - α)⋅ℯ ⎥  ⎢0  0  0  0  0  0  0  0⎥⎥  ⎢⎢0 \n                                            ⎥  ⎢                      ⎥⎥  ⎢⎢  \nα - 2            z            α - 1    z    ⎥  ⎣0  0  0  0  0  0  0  0⎦⎥  ⎢⎣0 \n     ⋅α⋅(1 - α)⋅ℯ           -k     ⋅α⋅ℯ     ⎦                          ⎦  ⎣   \n\n                                                 ⎡0  0  0  0  0  0           0\n 0  0  0  0  0  0  0⎤  ⎡0  0  0  0  0  0  0  0⎤  ⎢                            \n                    ⎥  ⎢                      ⎥  ⎢0  0  0  0  0  0           0\n 0  0  0  0  0  0  0⎥  ⎢0  0  0  0  0  0  0  0⎥  ⎢                            \n                    ⎥  ⎢                      ⎥  ⎢0  0  0  0  0  0           0\n 0  0  0  0  0  0  0⎥  ⎢0  0  0  0  0  0  0  0⎥  ⎢                            \n                    ⎥  ⎢                      ⎥  ⎢0  0  0  0  0  0           0\n 0  0  0  0  0  0  0⎥  ⎢0  0  0  0  0  0  0  0⎥  ⎢                            \n                    ⎥, ⎢                      ⎥, ⎢0  0  0  0  0  0           0\n 0  0  0  0  0  0  0⎥  ⎢0  0  0  0  0  0  0  0⎥  ⎢                            \n                    ⎥  ⎢                      ⎥  ⎢0  0  0  0  0  0           0\n 0  0  0  0  0  0  0⎥  ⎢0  0  0  0  0  0  0  0⎥  ⎢                            \n                    ⎥  ⎢                      ⎥  ⎢                   α - 2    \n 0  0  0  0  0  0  0⎥  ⎢0  0  0  0  0  0  0  0⎥  ⎢0  0  0  0  0  0  k     ⋅α⋅(\n                    ⎥  ⎢                      ⎥  ⎢                            \n 0  0  0  0  0  0  0⎦  ⎣0  0  0  0  0  0  0  0⎦  ⎢                       α - 1\n                                                 ⎣0  0  0  0  0  0     -k     \n\n                0      ⎤                          ⎤⎤\n                       ⎥  ⎡0  0  0  0  0  0  0  0⎤⎥⎥\n                0      ⎥  ⎢                      ⎥⎥⎥\n                       ⎥  ⎢0  0  0  0  0  0  0  0⎥⎥⎥\n                0      ⎥  ⎢                      ⎥⎥⎥\n                       ⎥  ⎢0  0  0  0  0  0  0  0⎥⎥⎥\n                0      ⎥  ⎢                      ⎥⎥⎥\n                       ⎥  ⎢0  0  0  0  0  0  0  0⎥⎥⎥\n                0      ⎥, ⎢                      ⎥⎥⎥\n                       ⎥  ⎢0  0  0  0  0  0  0  0⎥⎥⎥\n                0      ⎥  ⎢                      ⎥⎥⎥\n                       ⎥  ⎢0  0  0  0  0  0  0  0⎥⎥⎥\n        z    α - 1    z⎥  ⎢                      ⎥⎥⎥\n1 - α)⋅ℯ   -k     ⋅α⋅ℯ ⎥  ⎢0  0  0  0  0  0  0  0⎥⎥⎥\n                       ⎥  ⎢                      ⎥⎥⎥\n    z           α  z   ⎥  ⎣0  0  0  0  0  0  0  0⎦⎥⎥\n⋅α⋅ℯ          -k ⋅ℯ    ⎦                          ⎦⎦",
      "text/latex": "$\\displaystyle \\left[ \\left[ \\left[\\begin{matrix}0 & 0 & 0 & 0 & 0 & 0 & 0 & 0\\\\0 & 0 & 0 & 0 & 0 & 0 & 0 & 0\\\\0 & 0 & 0 & 0 & 0 & 0 & 0 & 0\\\\0 & 0 & 0 & 0 & 0 & 0 & 0 & 0\\\\0 & 0 & 0 & 0 & 0 & 0 & 0 & 0\\\\0 & 0 & 0 & 0 & 0 & 0 & 0 & 0\\\\0 & 0 & 0 & 0 & 0 & 0 & 0 & 0\\\\0 & 0 & 0 & 0 & 0 & 0 & 0 & 0\\end{matrix}\\right], \\  \\left[\\begin{matrix}0 & 0 & 0 & 0 & 0 & 0 & 0 & 0\\\\0 & 0 & 0 & 0 & 0 & 0 & 0 & 0\\\\0 & 0 & 0 & 0 & 0 & 0 & 0 & 0\\\\0 & 0 & 0 & 0 & 0 & 0 & 0 & 0\\\\0 & 0 & 0 & 0 & 0 & 0 & 0 & 0\\\\0 & 0 & 0 & 0 & 0 & 0 & 0 & 0\\\\0 & 0 & 0 & 0 & 0 & 0 & 0 & 0\\\\0 & 0 & 0 & 0 & 0 & 0 & 0 & 0\\end{matrix}\\right], \\  \\left[\\begin{matrix}0 & 0 & 0 & 0 & 0 & 0 & 0 & 0\\\\0 & 0 & 0 & 0 & 0 & 0 & 0 & 0\\\\0 & 0 & 0 & 0 & 0 & 0 & 0 & 0\\\\0 & 0 & 0 & 0 & 0 & 0 & 0 & 0\\\\0 & 0 & 0 & 0 & 0 & 0 & 0 & 0\\\\0 & 0 & 0 & 0 & 0 & 0 & 0 & 0\\\\0 & 0 & 0 & 0 & 0 & 0 & - k^{α - 3} α \\left(α - 2\\right) \\left(α - 1\\right) e^{z} & k^{α - 2} α \\left(1 - α\\right) e^{z}\\\\0 & 0 & 0 & 0 & 0 & 0 & k^{α - 2} α \\left(1 - α\\right) e^{z} & - k^{α - 1} α e^{z}\\end{matrix}\\right], \\  \\left[\\begin{matrix}0 & 0 & 0 & 0 & 0 & 0 & 0 & 0\\\\0 & 0 & 0 & 0 & 0 & 0 & 0 & 0\\\\0 & 0 & 0 & 0 & 0 & 0 & 0 & 0\\\\0 & 0 & 0 & 0 & 0 & 0 & 0 & 0\\\\0 & 0 & 0 & 0 & 0 & 0 & 0 & 0\\\\0 & 0 & 0 & 0 & 0 & 0 & 0 & 0\\\\0 & 0 & 0 & 0 & 0 & 0 & 0 & 0\\\\0 & 0 & 0 & 0 & 0 & 0 & 0 & 0\\end{matrix}\\right]\\right], \\  \\left[ \\left[\\begin{matrix}0 & 0 & 0 & 0 & 0 & 0 & 0 & 0\\\\0 & 0 & 0 & 0 & 0 & 0 & 0 & 0\\\\0 & 0 & 0 & 0 & 0 & 0 & 0 & 0\\\\0 & 0 & 0 & 0 & 0 & 0 & 0 & 0\\\\0 & 0 & 0 & 0 & 0 & 0 & 0 & 0\\\\0 & 0 & 0 & 0 & 0 & 0 & 0 & 0\\\\0 & 0 & 0 & 0 & 0 & 0 & 0 & 0\\\\0 & 0 & 0 & 0 & 0 & 0 & 0 & 0\\end{matrix}\\right], \\  \\left[\\begin{matrix}0 & 0 & 0 & 0 & 0 & 0 & 0 & 0\\\\0 & 0 & 0 & 0 & 0 & 0 & 0 & 0\\\\0 & 0 & 0 & 0 & 0 & 0 & 0 & 0\\\\0 & 0 & 0 & 0 & 0 & 0 & 0 & 0\\\\0 & 0 & 0 & 0 & 0 & 0 & 0 & 0\\\\0 & 0 & 0 & 0 & 0 & 0 & 0 & 0\\\\0 & 0 & 0 & 0 & 0 & 0 & 0 & 0\\\\0 & 0 & 0 & 0 & 0 & 0 & 0 & 0\\end{matrix}\\right], \\  \\left[\\begin{matrix}0 & 0 & 0 & 0 & 0 & 0 & 0 & 0\\\\0 & 0 & 0 & 0 & 0 & 0 & 0 & 0\\\\0 & 0 & 0 & 0 & 0 & 0 & 0 & 0\\\\0 & 0 & 0 & 0 & 0 & 0 & 0 & 0\\\\0 & 0 & 0 & 0 & 0 & 0 & 0 & 0\\\\0 & 0 & 0 & 0 & 0 & 0 & 0 & 0\\\\0 & 0 & 0 & 0 & 0 & 0 & k^{α - 2} α \\left(1 - α\\right) e^{z} & - k^{α - 1} α e^{z}\\\\0 & 0 & 0 & 0 & 0 & 0 & - k^{α - 1} α e^{z} & - k^{α} e^{z}\\end{matrix}\\right], \\  \\left[\\begin{matrix}0 & 0 & 0 & 0 & 0 & 0 & 0 & 0\\\\0 & 0 & 0 & 0 & 0 & 0 & 0 & 0\\\\0 & 0 & 0 & 0 & 0 & 0 & 0 & 0\\\\0 & 0 & 0 & 0 & 0 & 0 & 0 & 0\\\\0 & 0 & 0 & 0 & 0 & 0 & 0 & 0\\\\0 & 0 & 0 & 0 & 0 & 0 & 0 & 0\\\\0 & 0 & 0 & 0 & 0 & 0 & 0 & 0\\\\0 & 0 & 0 & 0 & 0 & 0 & 0 & 0\\end{matrix}\\right]\\right]\\right]$"
     },
     "execution_count": 29,
     "metadata": {},
     "output_type": "execute_result"
    }
   ],
   "source": [
    "Psi_x"
   ]
  },
  {
   "cell_type": "code",
   "execution_count": 30,
   "id": "6c2631c3400f8be2",
   "metadata": {
    "collapsed": false,
    "ExecuteTime": {
     "end_time": "2023-12-03T19:50:05.666750Z",
     "start_time": "2023-12-03T19:50:05.663865Z"
    }
   },
   "outputs": [],
   "source": [
    "    def build_named_functions(expr, name, *args):\n",
    "        if expr is None:\n",
    "            return None\n",
    "        if isinstance(expr, dict):\n",
    "            return {key: build_named_functions(value, name + key, *args)\n",
    "                    for key, value in expr.items()}\n",
    "        else:\n",
    "            # create the function from the expression\n",
    "            f = lambdify(args, expr, modules=[\"numpy\", \"scipy\", \"tensorflow\"])\n",
    "            # rename the function\n",
    "            source_code = inspect.getsource(f)\n",
    "            source_code = source_code.replace(\"_lambdifygenerated\", name)\n",
    "        return source_code"
   ]
  },
  {
   "cell_type": "code",
   "execution_count": 31,
   "outputs": [
    {
     "data": {
      "text/plain": "[σ]",
      "text/latex": "$\\displaystyle \\left[\\begin{matrix}σ\\end{matrix}\\right]$"
     },
     "execution_count": 31,
     "metadata": {},
     "output_type": "execute_result"
    }
   ],
   "source": [
    "Γ"
   ],
   "metadata": {
    "collapsed": false,
    "ExecuteTime": {
     "end_time": "2023-12-03T19:50:05.869636Z",
     "start_time": "2023-12-03T19:50:05.666288Z"
    }
   },
   "id": "64791d0a4d5875a5"
  },
  {
   "cell_type": "code",
   "execution_count": 32,
   "outputs": [
    {
     "data": {
      "text/plain": "'def Γ(α, β, ρ, δ, σ, Ω_1):\\n    return array([[σ]])\\n'"
     },
     "execution_count": 32,
     "metadata": {},
     "output_type": "execute_result"
    }
   ],
   "source": [
    "f = lambdify(p, Γ, modules=[\"numpy\", \"scipy\", \"tensorflow\"])\n",
    "source_code = inspect.getsource(f)\n",
    "source_code = source_code.replace(\"_lambdifygenerated\", \"Γ\")\n",
    "source_code"
   ],
   "metadata": {
    "collapsed": false,
    "ExecuteTime": {
     "end_time": "2023-12-03T19:50:08.567687Z",
     "start_time": "2023-12-03T19:50:05.866792Z"
    }
   },
   "id": "1a1d10617fbdc0a9"
  },
  {
   "cell_type": "code",
   "execution_count": 35,
   "outputs": [],
   "source": [
    "f = build_named_functions(Γ, \"Γ\", *p)"
   ],
   "metadata": {
    "collapsed": false,
    "ExecuteTime": {
     "end_time": "2023-12-03T19:51:02.240581Z",
     "start_time": "2023-12-03T19:51:02.228645Z"
    }
   },
   "id": "4dfa12bdcb43da2d"
  },
  {
   "cell_type": "code",
   "execution_count": 36,
   "outputs": [
    {
     "data": {
      "text/plain": "'def Γ(α, β, ρ, δ, σ, Ω_1):\\n    return array([[σ]])\\n'"
     },
     "execution_count": 36,
     "metadata": {},
     "output_type": "execute_result"
    }
   ],
   "source": [
    "f"
   ],
   "metadata": {
    "collapsed": false,
    "ExecuteTime": {
     "end_time": "2023-12-03T19:51:03.285986Z",
     "start_time": "2023-12-03T19:51:03.283210Z"
    }
   },
   "id": "bab043f2bc8a51b6"
  },
  {
   "cell_type": "code",
   "execution_count": 34,
   "outputs": [],
   "source": [],
   "metadata": {
    "collapsed": false,
    "ExecuteTime": {
     "end_time": "2023-12-03T19:50:08.575548Z",
     "start_time": "2023-12-03T19:50:08.574294Z"
    }
   },
   "id": "99b86a59d71e11d4"
  }
 ],
 "metadata": {
  "kernelspec": {
   "display_name": "Python 3 (ipykernel)",
   "language": "python",
   "name": "python3"
  },
  "language_info": {
   "codemirror_mode": {
    "name": "ipython",
    "version": 3
   },
   "file_extension": ".py",
   "mimetype": "text/x-python",
   "name": "python",
   "nbconvert_exporter": "python",
   "pygments_lexer": "ipython3",
   "version": "3.11.6"
  }
 },
 "nbformat": 4,
 "nbformat_minor": 5
}
