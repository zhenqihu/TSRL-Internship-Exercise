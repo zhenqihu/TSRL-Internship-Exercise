{
 "cells": [
  {
   "cell_type": "code",
   "execution_count": 4,
   "id": "9fb4088f4cb5cabd",
   "metadata": {
    "collapsed": false,
    "ExecuteTime": {
     "end_time": "2023-12-02T12:59:37.595828700Z",
     "start_time": "2023-12-02T12:59:37.586857300Z"
    }
   },
   "outputs": [
    {
     "ename": "SyntaxError",
     "evalue": "invalid syntax (symbolic_utils.py, line 99)",
     "output_type": "error",
     "traceback": [
      "Traceback \u001B[1;36m(most recent call last)\u001B[0m:\n",
      "\u001B[0m  File \u001B[0;32mD:\\Miniconda\\envs\\tsrl\\Lib\\site-packages\\IPython\\core\\interactiveshell.py:3550\u001B[0m in \u001B[0;35mrun_code\u001B[0m\n    exec(code_obj, self.user_global_ns, self.user_ns)\u001B[0m\n",
      "\u001B[0m  Cell \u001B[0;32mIn[4], line 3\u001B[0m\n    import DifferentiableStateSpaceModels\u001B[0m\n",
      "\u001B[1;36m  File \u001B[1;32mD:\\Workspace\\TSRL-Internship-Exercise\\DifferentiableStateSpaceModels\\__init__.py:7\u001B[1;36m\n\u001B[1;33m    from .symbolic_utils import *\u001B[1;36m\n",
      "\u001B[1;36m  File \u001B[1;32mD:\\Workspace\\TSRL-Internship-Exercise\\DifferentiableStateSpaceModels\\symbolic_utils.py:99\u001B[1;36m\u001B[0m\n\u001B[1;33m    global()[name] = func\u001B[0m\n\u001B[1;37m          ^\u001B[0m\n\u001B[1;31mSyntaxError\u001B[0m\u001B[1;31m:\u001B[0m invalid syntax\n"
     ]
    }
   ],
   "source": [
    "import os\n",
    "from pathlib import Path\n",
    "import DifferentiableStateSpaceModels\n",
    "from DifferentiableStateSpaceModels import *\n",
    "from sympy import *\n",
    "from copy import deepcopy\n",
    "\n",
    "init_printing()  # for nice sympy expressions in jupyter"
   ]
  },
  {
   "cell_type": "code",
   "execution_count": null,
   "id": "initial_id",
   "metadata": {
    "collapsed": true,
    "jupyter": {
     "outputs_hidden": true
    },
    "ExecuteTime": {
     "end_time": "2023-12-02T11:24:20.768814300Z",
     "start_time": "2023-12-02T11:24:20.768814300Z"
    }
   },
   "outputs": [],
   "source": [
    "# Define the symbols\n",
    "α, β, ρ, δ, σ, Ω_1 = symbols('α β ρ δ σ Ω_1')  # parameters\n",
    "t = symbols('t', integer=True)  # time index (integer)\n",
    "k, z, c, q = symbols('k z c q', cls=Function)  # undefined functions\n",
    "\n",
    "# Define the states, controls, and parameters\n",
    "x = [k, z]  # states - list of functions\n",
    "y = [c, q]  # controls - list of functions\n",
    "p = [α, β, ρ, δ, σ, Ω_1]  # parameters - list of symbols\n",
    "\n",
    "# Define the system of model equations - list of expressions\n",
    "H = [\n",
    "    1 / c(t) - (β / c(t + 1)) * (α * exp(z(t + 1)) * k(t + 1)**(α - 1) + (1 - δ)),\n",
    "    c(t) + k(t + 1) - (1 - δ) * k(t) - q(t),\n",
    "    q(t) - exp(z(t)) * k(t)**α,\n",
    "    z(t + 1) - ρ * z(t)\n",
    "]\n",
    "\n",
    "# Define the steady states - list of equations\n",
    "steady_states = [\n",
    "    Eq(k(oo), (((1 / β) - 1 + δ) / α)**(1 / (α - 1))),\n",
    "    Eq(z(oo), 0),\n",
    "    Eq(c(oo), (((1 / β) - 1 + δ) / α)**(α / (α - 1)) - δ * (((1 / β) - 1 + δ) / α)**(1 / (α - 1))),\n",
    "    Eq(q(oo), (((1 / β) - 1 + δ) / α)**(α / (α - 1)))\n",
    "]\n",
    "\n",
    "# Define the matrix for the 1 shock\n",
    "Γ = Matrix([σ])  # DenseMatrix\n",
    "\n",
    "# Define the n_x * n_ϵ matrix\n",
    "η = Matrix([0, -1])  # DenseMatrix\n",
    "\n",
    "# Define the observation matrix\n",
    "Q = Matrix([[1.0, 0, 0, 0], [0, 0, 1.0, 0]])  # DenseMatrix\n",
    "\n",
    "# Define the diagonal cholesky of covariance matrix for observation noise\n",
    "Ω = [Ω_1, Ω_1]  # list of symbols\n",
    "\n",
    "# Generates the files and includes if required.  If the model is already created, then just loads\n",
    "overwrite_model_cache = True"
   ]
  },
  {
   "cell_type": "code",
   "execution_count": null,
   "id": "b0d66bbfe52d7d96",
   "metadata": {
    "ExecuteTime": {
     "start_time": "2023-12-02T11:24:20.768814300Z"
    }
   },
   "outputs": [],
   "source": [
    "def default_model_cache_location():\n",
    "    \"\"\"\n",
    "    Returns the default location for the model cache\n",
    "    :return: path of a folder joining the package directory and \".function_cache\"\n",
    "    \"\"\"\n",
    "    return os.path.join(Path(DifferentiableStateSpaceModels.__file__).parent.absolute(), \".function_cache\")\n",
    "\n",
    "\n",
    "model_cache_location = default_model_cache_location()\n",
    "max_order = 2\n",
    "steady_states_iv = None\n",
    "model_name = \"rbc_notebook_example\"\n",
    "model_cache_location = default_model_cache_location()\n",
    "overwrite_model_cache = False\n",
    "print_level = 1\n",
    "max_order = 2\n",
    "save_ip = True\n",
    "save_oop = False  # only does inplace by default\n",
    "skipzeros = True\n",
    "fillzeros = False\n",
    "simplify_Ψ = True\n",
    "do_simplify = True\n",
    "simplify_p = True"
   ]
  },
  {
   "cell_type": "code",
   "execution_count": null,
   "id": "fe3e51c253b55a1",
   "metadata": {
    "collapsed": false,
    "ExecuteTime": {
     "start_time": "2023-12-02T11:24:20.768814300Z"
    }
   },
   "outputs": [],
   "source": [
    "    # Check inputs\n",
    "    assert max_order in [1, 2], \"max_order must be 1 or 2\"\n",
    "    assert save_ip or save_oop, \"Either save_ip or save_oop must be True\"\n",
    "\n",
    "    # path to save the model modules\n",
    "    module_cache_path = os.path.join(model_cache_location, model_name + \".py\")\n",
    "\n",
    "    # only load cache if the module isn't already loaded in memory\n",
    "    if (str(model_name) in globals()) and (not overwrite_model_cache):\n",
    "        if print_level > 0:\n",
    "            print(f\"Using existing module {model_name}\\n\")\n",
    "\n",
    "    # if path already exists\n",
    "    if (os.path.exists(module_cache_path)) and (not overwrite_model_cache):\n",
    "        # path exists and not overwriting\n",
    "        if print_level > 0:\n",
    "            print(f\"Model already generated at {module_cache_path}\\n\")"
   ]
  },
  {
   "cell_type": "code",
   "execution_count": null,
   "id": "7751965feacb443e",
   "metadata": {
    "collapsed": false,
    "ExecuteTime": {
     "end_time": "2023-12-02T11:24:20.772920900Z",
     "start_time": "2023-12-02T11:24:20.768814300Z"
    }
   },
   "outputs": [],
   "source": [
    "    # model structure\n",
    "    n_y = len(y)  # number of control variables\n",
    "    n_x = len(x)  # number of state variables\n",
    "    n = n_y + n_x  # number of all variables\n",
    "    n_p = len(p)  # number of parameters\n",
    "    assert n_p > 0, \"Code written to have at least one parameter\"\n",
    "    n_ϵ = η.shape[1]  # number of shocks\n",
    "    n_z = n if Q is None else Q.shape[0]  # number of observables"
   ]
  },
  {
   "cell_type": "code",
   "execution_count": null,
   "id": "a00708525655f08b",
   "metadata": {
    "collapsed": false,
    "ExecuteTime": {
     "end_time": "2023-12-02T11:24:20.772920900Z",
     "start_time": "2023-12-02T11:24:20.772920900Z"
    }
   },
   "outputs": [],
   "source": [
    "    # Get the markovian variables and create substitutions\n",
    "    y_subs = [make_substitutions(t, y_i) for y_i in y]\n",
    "    x_subs = [make_substitutions(t, x_i) for x_i in x]\n",
    "    y = Matrix([y_i['var'] for y_i in y_subs])\n",
    "    x = Matrix([x_i['var'] for x_i in x_subs])\n",
    "    y_p = Matrix([y_i['var_p'] for y_i in y_subs])\n",
    "    x_p = Matrix([x_i['var_p'] for x_i in x_subs])\n",
    "    y_ss = Matrix([y_i['var_ss'] for y_i in y_subs])\n",
    "    x_ss = Matrix([x_i['var_ss'] for x_i in x_subs])\n",
    "    subs = x_subs + y_subs\n",
    "    all_to_markov = ([sub['markov_t'] for sub in subs] +\n",
    "                     [sub['markov_tp1'] for sub in subs] + [sub['markov_inf'] for sub in subs])\n",
    "    all_to_var = [sub['tp1_to_var'] for sub in subs] + [sub['inf_to_var'] for sub in subs]"
   ]
  },
  {
   "cell_type": "code",
   "execution_count": null,
   "id": "c1e2053399e62c26",
   "metadata": {
    "collapsed": false,
    "ExecuteTime": {
     "start_time": "2023-12-02T11:24:20.772920900Z"
    }
   },
   "outputs": [],
   "source": [
    "def equations_to_dict(equations):\n",
    "    return {str(eq.lhs.subs(all_to_markov).subs(all_to_var)): eq.rhs.subs(all_to_markov) for eq in equations}"
   ]
  },
  {
   "cell_type": "code",
   "execution_count": null,
   "id": "aa57813ca4446502",
   "metadata": {
    "ExecuteTime": {
     "start_time": "2023-12-02T11:24:20.776875200Z"
    }
   },
   "outputs": [],
   "source": [
    "    # Begin building the model\n",
    "    if print_level > 0:\n",
    "        print(\"\\033[96mBuilding model up to order {}\\033[0m\".format(max_order))\n",
    "    if print_level > 1:\n",
    "        print(\"\\033[96mdo_simplify = {}, simplify_p = {}, simplify Ψ = {}\\033[0m\".format(\n",
    "            do_simplify, simplify_p, simplify_Ψ))"
   ]
  },
  {
   "cell_type": "code",
   "execution_count": null,
   "id": "22719fe4afda6a0e",
   "metadata": {
    "ExecuteTime": {
     "start_time": "2023-12-02T11:24:20.776875200Z"
    }
   },
   "outputs": [],
   "source": [
    "    # steady state variables\n",
    "    y_bar = None if steady_states is None else order_vector_by_symbols(\n",
    "        equations_to_dict(steady_states), [y_sub['symbol'] for y_sub in y_subs])\n",
    "    x_bar = None if steady_states is None else order_vector_by_symbols(\n",
    "        equations_to_dict(steady_states), [x_sub['symbol'] for x_sub in x_subs])\n",
    "    y_bar_iv = None if steady_states_iv is None else order_vector_by_symbols(\n",
    "        equations_to_dict(steady_states_iv), [y_sub['symbol'] for y_sub in y_subs])\n",
    "    x_bar_iv = None if steady_states_iv is None else order_vector_by_symbols(\n",
    "        equations_to_dict(steady_states_iv), [x_sub['symbol'] for x_sub in x_subs])"
   ]
  },
  {
   "cell_type": "code",
   "execution_count": null,
   "id": "1760154fce7c9f5",
   "metadata": {
    "ExecuteTime": {
     "start_time": "2023-12-02T11:24:20.776875200Z"
    }
   },
   "outputs": [],
   "source": [
    "    # Get any latex generated stuff we wish for pretty display of the model\n",
    "    H_latex = latex(H)\n",
    "    steady_states_latex = latex(steady_states)\n",
    "    steady_states_iv_latex = latex(steady_states_iv) if steady_states_iv is not None else None"
   ]
  },
  {
   "cell_type": "code",
   "execution_count": null,
   "id": "c81b306eda38c61",
   "metadata": {
    "ExecuteTime": {
     "start_time": "2023-12-02T11:24:20.776875200Z"
    }
   },
   "outputs": [],
   "source": [
    "    # steady state requires differentiation after substitution, and wrt [y; x]\n",
    "    H = [expr.subs(all_to_markov) for expr in H]\n",
    "    H_bar = deepcopy(H)\n",
    "    H_bar = substitute_and_simplify(H_bar, all_to_var)"
   ]
  },
  {
   "cell_type": "code",
   "execution_count": null,
   "id": "185984262a93c31c",
   "metadata": {
    "ExecuteTime": {
     "start_time": "2023-12-02T11:24:20.782786500Z"
    }
   },
   "outputs": [],
   "source": [
    "    # Differentiate the system of equations with respect to state/control variables\n",
    "    if print_level > 2:\n",
    "        print(\"\\033[96mDifferentiating H\\033[0m\")\n",
    "    H_bar_w = nested_differentiate(H_bar, y.col_join(x))\n",
    "    H_yp = nested_differentiate(H, y_p)\n",
    "    H_y = nested_differentiate(H, y)\n",
    "    H_xp = nested_differentiate(H, x_p)\n",
    "    H_x = nested_differentiate(H, x)"
   ]
  },
  {
   "cell_type": "code",
   "execution_count": null,
   "id": "8ff7f3535c7a4545",
   "metadata": {
    "ExecuteTime": {
     "start_time": "2023-12-02T11:24:20.782786500Z"
    }
   },
   "outputs": [],
   "source": [
    "    # Calculate the Hessian for each function in H\n",
    "    if print_level > 1:\n",
    "        print(\"\\033[96mCalculating hessian\\033[0m\")\n",
    "    Psi = [hessian(f, y_p.col_join(y).col_join(x_p).col_join(x)) for f in H]\n",
    "    if simplify_Ψ:\n",
    "        Psi = [simplify(psi) for psi in Psi]"
   ]
  },
  {
   "cell_type": "code",
   "execution_count": null,
   "id": "f8f123cbbb8ebb9a",
   "metadata": {
    "ExecuteTime": {
     "start_time": "2023-12-02T11:24:20.782786500Z"
    }
   },
   "outputs": [],
   "source": [
    "    # Differentiate the Hessian with respect to state/control variables\n",
    "    if print_level > 2 and max_order >= 2:\n",
    "        print(\"\\033[96mDifferentiating hessian\\033[0m\")\n",
    "    Psi_yp = None if max_order < 2 else nested_differentiate(Psi, y_p)\n",
    "    Psi_y = None if max_order < 2 else nested_differentiate(Psi, y)\n",
    "    Psi_xp = None if max_order < 2 else nested_differentiate(Psi, x_p)\n",
    "    Psi_x = None if max_order < 2 else nested_differentiate(Psi, x)"
   ]
  },
  {
   "cell_type": "code",
   "execution_count": null,
   "id": "3c2597eb370c0875",
   "metadata": {
    "ExecuteTime": {
     "start_time": "2023-12-02T11:24:20.782786500Z"
    }
   },
   "outputs": [],
   "source": [
    "if print_level > 2:\n",
    "    print(\"\\033[96mDifferentiating steady state with respect to parameters\\n\\033[0m\")\n",
    "p = Matrix(p)  # DenseMatrix\n",
    "H_p = differentiate_to_dict(H, p)\n",
    "Γ_p = differentiate_to_dict(Γ, p)\n",
    "Ω_p = differentiate_to_dict(Ω, p)\n",
    "y_bar_p = differentiate_to_dict(y_bar, p)\n",
    "x_bar_p = differentiate_to_dict(x_bar, p)"
   ]
  },
  {
   "cell_type": "code",
   "execution_count": null,
   "id": "36d05e94d5d5eb2e",
   "metadata": {
    "ExecuteTime": {
     "start_time": "2023-12-02T11:24:20.782786500Z"
    }
   },
   "outputs": [],
   "source": [
    "H_p['α']"
   ]
  },
  {
   "cell_type": "code",
   "execution_count": null,
   "id": "5c9d8c85d2395ed1",
   "metadata": {
    "ExecuteTime": {
     "start_time": "2023-12-02T11:24:20.787833Z"
    }
   },
   "outputs": [],
   "source": [
    "if print_level > 2:\n",
    "    print(\n",
    "        \"\\033[96mDifferentiating H derivatives state with respect to parameters\\n\\033[0m\")\n",
    "\n",
    "H_yp_p = differentiate_to_dict(H_yp, p)\n",
    "H_xp_p = differentiate_to_dict(H_xp, p)\n",
    "H_y_p = differentiate_to_dict(H_y, p)\n",
    "H_x_p = differentiate_to_dict(H_x, p)"
   ]
  },
  {
   "cell_type": "code",
   "execution_count": null,
   "id": "aa56af8e276fce31",
   "metadata": {
    "ExecuteTime": {
     "start_time": "2023-12-02T11:24:20.787833Z"
    }
   },
   "outputs": [],
   "source": [
    "H_x_p['ρ']"
   ]
  },
  {
   "cell_type": "code",
   "execution_count": null,
   "id": "2534e8c293e1c83c",
   "metadata": {
    "ExecuteTime": {
     "start_time": "2023-12-02T11:24:20.790985800Z"
    }
   },
   "outputs": [],
   "source": [
    "if print_level > 2 and max_order >= 2:\n",
    "    print(\"\\033[96mDifferentiating hessian with respect to parameters\\n\\033[0m\")\n",
    "Psi_p = None if max_order < 2 else differentiate_to_dict(Psi, p)"
   ]
  },
  {
   "cell_type": "code",
   "execution_count": null,
   "id": "1a9f85071dbffe59",
   "metadata": {
    "ExecuteTime": {
     "start_time": "2023-12-02T11:24:20.790985800Z"
    }
   },
   "outputs": [],
   "source": [
    "Psi_p['β']"
   ]
  },
  {
   "cell_type": "code",
   "execution_count": null,
   "id": "3e7eeccbda366864",
   "metadata": {
    "ExecuteTime": {
     "start_time": "2023-12-02T11:24:20.790985800Z"
    }
   },
   "outputs": [],
   "source": [
    "if print_level > 0:\n",
    "    print(\"\\033[96mSubstituting and simplifying\\n\\033[0m\")\n",
    "\n",
    "H = substitute_and_simplify(H, all_to_markov, do_simplify)\n",
    "H_yp = substitute_and_simplify(H_yp, all_to_var, do_simplify)\n",
    "H_xp = substitute_and_simplify(H_xp, all_to_var, do_simplify)\n",
    "H_x = substitute_and_simplify(H_x, all_to_var, do_simplify)\n",
    "H_y = substitute_and_simplify(H_y, all_to_var, do_simplify)\n",
    "Psi = substitute_and_simplify(Psi, all_to_var, do_simplify)"
   ]
  },
  {
   "cell_type": "code",
   "execution_count": null,
   "id": "59b0e65724505501",
   "metadata": {
    "ExecuteTime": {
     "start_time": "2023-12-02T11:24:20.790985800Z"
    }
   },
   "outputs": [],
   "source": [
    "Psi"
   ]
  },
  {
   "cell_type": "code",
   "execution_count": null,
   "id": "37d1ade0697573ed",
   "metadata": {
    "ExecuteTime": {
     "start_time": "2023-12-02T11:24:20.790985800Z"
    }
   },
   "outputs": [],
   "source": [
    "if print_level > 2:\n",
    "    print(\"\\033[96mSubstituting and simplifying parameter derivatives\\n\\033[0m\")\n",
    "\n",
    "H_p = substitute_and_simplify(H_p, all_to_var, simplify_p)\n",
    "Γ_p = substitute_and_simplify(Γ_p, all_to_var, simplify_p)\n",
    "Ω_p = substitute_and_simplify(Ω_p, all_to_var, simplify_p)\n",
    "y_bar_p = substitute_and_simplify(y_bar_p, all_to_var, simplify_p)\n",
    "x_bar_p = substitute_and_simplify(x_bar_p, all_to_var, simplify_p)\n",
    "H_yp_p = substitute_and_simplify(H_yp_p, all_to_var, simplify_p)\n",
    "H_xp_p = substitute_and_simplify(H_xp_p, all_to_var, simplify_p)\n",
    "H_y_p = substitute_and_simplify(H_y_p, all_to_var, simplify_p)\n",
    "H_x_p = substitute_and_simplify(H_x_p, all_to_var, simplify_p)"
   ]
  },
  {
   "cell_type": "code",
   "execution_count": null,
   "id": "a4304ed87ca45ac8",
   "metadata": {
    "ExecuteTime": {
     "start_time": "2023-12-02T11:24:20.790985800Z"
    }
   },
   "outputs": [],
   "source": [
    "H_p['α']"
   ]
  },
  {
   "cell_type": "code",
   "execution_count": null,
   "id": "7ea2622a5d50cb2c",
   "metadata": {
    "ExecuteTime": {
     "start_time": "2023-12-02T11:24:20.790985800Z"
    }
   },
   "outputs": [],
   "source": [
    "    # Substitute and simplify second order derivatives\n",
    "    if print_level > 1 and max_order >= 2:\n",
    "        print(\"\\033[96mSubstituting and simplifying 2nd order\\033[0m\")\n",
    "    Psi_yp = substitute_and_simplify(Psi_yp, all_to_var, do_simplify)\n",
    "    Psi_y = substitute_and_simplify(Psi_y, all_to_var, do_simplify)\n",
    "    Psi_xp = substitute_and_simplify(Psi_xp, all_to_var, do_simplify)\n",
    "    Psi_x = substitute_and_simplify(Psi_x, all_to_var, do_simplify)"
   ]
  },
  {
   "cell_type": "code",
   "execution_count": null,
   "outputs": [],
   "source": [
    "Psi_x[1][2]"
   ],
   "metadata": {
    "collapsed": false,
    "ExecuteTime": {
     "start_time": "2023-12-02T11:24:20.798490900Z"
    }
   },
   "id": "bcf93b3ca6b0fe3d"
  },
  {
   "cell_type": "code",
   "execution_count": null,
   "outputs": [],
   "source": [
    "    if print_level > 2 and max_order >= 2:\n",
    "        print(\"\\033[96mSubstituting and simplifying 2nd order parameter derivatives\\n\\033[0m\")\n",
    "    Psi_p = substitute_and_simplify(Psi_p, all_to_var, simplify_p)"
   ],
   "metadata": {
    "collapsed": false,
    "ExecuteTime": {
     "start_time": "2023-12-02T11:24:20.798490900Z"
    }
   },
   "id": "823ae96ece83f148"
  },
  {
   "cell_type": "code",
   "execution_count": null,
   "outputs": [],
   "source": [
    "Psi_p['α'][0]"
   ],
   "metadata": {
    "collapsed": false,
    "ExecuteTime": {
     "start_time": "2023-12-02T11:24:20.798490900Z"
    }
   },
   "id": "3cd34ba751622d84"
  },
  {
   "cell_type": "code",
   "execution_count": null,
   "outputs": [],
   "source": [
    "Psi_x"
   ],
   "metadata": {
    "collapsed": false,
    "ExecuteTime": {
     "start_time": "2023-12-02T11:24:20.798490900Z"
    }
   },
   "id": "e010aaad3c50e735"
  },
  {
   "cell_type": "code",
   "execution_count": 1,
   "outputs": [],
   "source": [
    "    def build_named_functions(expr, name, *args, symbol_dispatch=None):\n",
    "        if expr is None:\n",
    "            return None\n",
    "        if isinstance(expr, dict):\n",
    "            return {key: build_named_functions(value, name, *args, symbol_dispatch=key)\n",
    "                    for key, value in expr.items()}\n",
    "        elif isinstance(expr, Iterable):\n",
    "            return [build_named_functions(value, name, *args, symbol_dispatch=symbol_dispatch)\n",
    "                    for value in expr]\n",
    "        else:\n",
    "            # create the function from the expression\n",
    "            f = lambdify(args, expr, modules=[\"numpy\", \"scipy\", \"tensorflow\"])\n",
    "            func = name_symbolics_function(f, name, symbol_dispatch=symbol_dispatch)  # rename the function\n",
    "        return func"
   ],
   "metadata": {
    "collapsed": false,
    "ExecuteTime": {
     "end_time": "2023-12-02T12:58:36.948307400Z",
     "start_time": "2023-12-02T12:58:36.932220600Z"
    }
   },
   "id": "8679ae2ab152d3db"
  },
  {
   "cell_type": "code",
   "execution_count": 2,
   "outputs": [
    {
     "ename": "NameError",
     "evalue": "name 'lambdify' is not defined",
     "output_type": "error",
     "traceback": [
      "\u001B[1;31m---------------------------------------------------------------------------\u001B[0m",
      "\u001B[1;31mNameError\u001B[0m                                 Traceback (most recent call last)",
      "Cell \u001B[1;32mIn[2], line 1\u001B[0m\n\u001B[1;32m----> 1\u001B[0m f \u001B[38;5;241m=\u001B[39m \u001B[43mlambdify\u001B[49m(p, Γ, modules\u001B[38;5;241m=\u001B[39m[\u001B[38;5;124m\"\u001B[39m\u001B[38;5;124mnumpy\u001B[39m\u001B[38;5;124m\"\u001B[39m, \u001B[38;5;124m\"\u001B[39m\u001B[38;5;124mscipy\u001B[39m\u001B[38;5;124m\"\u001B[39m, \u001B[38;5;124m\"\u001B[39m\u001B[38;5;124mtensorflow\u001B[39m\u001B[38;5;124m\"\u001B[39m])\n",
      "\u001B[1;31mNameError\u001B[0m: name 'lambdify' is not defined"
     ]
    }
   ],
   "source": [
    "f = lambdify(p, Γ, modules=[\"numpy\", \"scipy\", \"tensorflow\"])"
   ],
   "metadata": {
    "collapsed": false,
    "ExecuteTime": {
     "end_time": "2023-12-02T12:59:11.581062300Z",
     "start_time": "2023-12-02T12:59:11.379542Z"
    }
   },
   "id": "20bbf27d2ebcfdbc"
  },
  {
   "cell_type": "code",
   "execution_count": null,
   "outputs": [],
   "source": [],
   "metadata": {
    "collapsed": false
   },
   "id": "12cc49d1a3b5451d"
  }
 ],
 "metadata": {
  "kernelspec": {
   "display_name": "Python 3 (ipykernel)",
   "language": "python",
   "name": "python3"
  },
  "language_info": {
   "codemirror_mode": {
    "name": "ipython",
    "version": 3
   },
   "file_extension": ".py",
   "mimetype": "text/x-python",
   "name": "python",
   "nbconvert_exporter": "python",
   "pygments_lexer": "ipython3",
   "version": "3.11.6"
  }
 },
 "nbformat": 4,
 "nbformat_minor": 5
}
