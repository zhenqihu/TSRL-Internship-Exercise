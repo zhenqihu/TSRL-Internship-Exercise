{
 "cells": [
  {
   "cell_type": "code",
   "execution_count": 1,
   "id": "9fb4088f4cb5cabd",
   "metadata": {
    "ExecuteTime": {
     "end_time": "2023-11-30T15:34:45.696221Z",
     "start_time": "2023-11-30T15:34:45.007171Z"
    },
    "collapsed": false
   },
   "outputs": [],
   "source": [
    "import os\n",
    "from pathlib import Path\n",
    "import DifferentiableStateSpaceModels\n",
    "from DifferentiableStateSpaceModels import *\n",
    "from sympy import *\n",
    "from copy import deepcopy\n",
    "\n",
    "init_printing()  # for nice sympy expressions in jupyter"
   ]
  },
  {
   "cell_type": "code",
   "execution_count": 2,
   "id": "initial_id",
   "metadata": {
    "ExecuteTime": {
     "end_time": "2023-11-28T18:58:40.340012Z",
     "start_time": "2023-11-28T18:58:40.284785Z"
    },
    "collapsed": true
   },
   "outputs": [],
   "source": [
    "# Define the symbols\n",
    "α, β, ρ, δ, σ, Ω_1 = symbols('α β ρ δ σ Ω_1')  # parameters\n",
    "t = symbols('t', integer=True)  # time index (integer)\n",
    "k, z, c, q = symbols('k z c q', cls=Function)  # undefined functions\n",
    "\n",
    "# Define the states, controls, and parameters\n",
    "x = [k, z]  # states - list of functions\n",
    "y = [c, q]  # controls - list of functions\n",
    "p = [α, β, ρ, δ, σ, Ω_1]  # parameters - list of symbols\n",
    "\n",
    "# Define the system of model equations - list of expressions\n",
    "H = [\n",
    "    1 / c(t) - (β / c(t + 1)) * (α * exp(z(t + 1)) * k(t + 1)**(α - 1) + (1 - δ)),\n",
    "    c(t) + k(t + 1) - (1 - δ) * k(t) - q(t),\n",
    "    q(t) - exp(z(t)) * k(t)**α,\n",
    "    z(t + 1) - ρ * z(t)\n",
    "]\n",
    "\n",
    "# Define the steady states - list of equations\n",
    "steady_states = [\n",
    "    Eq(k(oo), (((1 / β) - 1 + δ) / α)**(1 / (α - 1))),\n",
    "    Eq(z(oo), 0),\n",
    "    Eq(c(oo), (((1 / β) - 1 + δ) / α)**(α / (α - 1)) - δ * (((1 / β) - 1 + δ) / α)**(1 / (α - 1))),\n",
    "    Eq(q(oo), (((1 / β) - 1 + δ) / α)**(α / (α - 1)))\n",
    "]\n",
    "\n",
    "# Define the matrix for the 1 shock\n",
    "Γ = Matrix([σ])  # DenseMatrix\n",
    "\n",
    "# Define the n_x * n_ϵ matrix\n",
    "η = Matrix([0, -1])  # DenseMatrix\n",
    "\n",
    "# Define the observation matrix\n",
    "Q = Matrix([[1.0, 0, 0, 0], [0, 0, 1.0, 0]])  # DenseMatrix\n",
    "\n",
    "# Define the diagonal cholesky of covariance matrix for observation noise\n",
    "Ω = [Ω_1, Ω_1]  # list of symbols\n",
    "\n",
    "# Generates the files and includes if required.  If the model is already created, then just loads\n",
    "overwrite_model_cache = True"
   ]
  },
  {
   "cell_type": "code",
   "execution_count": 3,
   "metadata": {},
   "outputs": [],
   "source": [
    "def default_model_cache_location():\n",
    "    \"\"\"\n",
    "    Returns the default location for the model cache\n",
    "    :return: path of a folder joining the package directory and \".function_cache\"\n",
    "    \"\"\"\n",
    "    return os.path.join(Path(DifferentiableStateSpaceModels.__file__).parent.absolute(), \".function_cache\")\n",
    "\n",
    "\n",
    "model_cache_location = default_model_cache_location()\n",
    "max_order = 2\n",
    "steady_states_iv = None\n",
    "model_name = \"rbc_notebook_example\"\n",
    "model_cache_location = default_model_cache_location()\n",
    "overwrite_model_cache = False\n",
    "print_level = 1\n",
    "max_order = 2\n",
    "save_ip = True\n",
    "save_oop = False  # only does inplace by default\n",
    "skipzeros = True\n",
    "fillzeros = False\n",
    "simplify_Ψ = True\n",
    "do_simplify = True\n",
    "simplify_p = True"
   ]
  },
  {
   "cell_type": "code",
   "execution_count": 4,
   "id": "fe3e51c253b55a1",
   "metadata": {
    "ExecuteTime": {
     "end_time": "2023-11-28T18:58:41.474113Z",
     "start_time": "2023-11-28T18:58:41.469383Z"
    },
    "collapsed": false
   },
   "outputs": [],
   "source": [
    "# path of the module to be saved in the cache\n",
    "module_cache_path = os.path.join(model_cache_location, model_name + \".py\")\n",
    "\n",
    "print_level = 1\n",
    "# only load cache if the module isn't already loaded in memory\n",
    "if (str(model_name) in globals()) and (not overwrite_model_cache):\n",
    "    if print_level > 0:\n",
    "        print(f\"Using existing module {model_name}\\n\")\n",
    "\n",
    "# if path already exists\n",
    "if (os.path.exists(module_cache_path)) and (not overwrite_model_cache):\n",
    "    # path exists and not overwriting\n",
    "    if print_level > 0:\n",
    "        print(f\"Model already generated at {module_cache_path}\\n\")"
   ]
  },
  {
   "cell_type": "code",
   "execution_count": 5,
   "id": "7751965feacb443e",
   "metadata": {
    "ExecuteTime": {
     "end_time": "2023-11-28T18:58:50.687075Z",
     "start_time": "2023-11-28T18:58:50.680996Z"
    },
    "collapsed": false
   },
   "outputs": [],
   "source": [
    "    n_y = len(y)\n",
    "    n_x = len(x)\n",
    "    n = n_y + n_x\n",
    "    n_p = len(p)\n",
    "    assert n_p > 0  # code written to have at least one parameter\n",
    "    n_ϵ = η.shape[1]\n",
    "    n_z = n if Q is None else Q.shape[0]"
   ]
  },
  {
   "cell_type": "code",
   "execution_count": 6,
   "id": "a00708525655f08b",
   "metadata": {
    "ExecuteTime": {
     "end_time": "2023-11-28T18:58:51.914044Z",
     "start_time": "2023-11-28T18:58:51.909260Z"
    },
    "collapsed": false
   },
   "outputs": [],
   "source": [
    "    # Get the markovian variables and create substitutions\n",
    "    y_subs = [make_substitutions(t, y_i) for y_i in y]  # list of dicts\n",
    "    x_subs = [make_substitutions(t, x_i) for x_i in x]  # list of dicts\n",
    "    y = Matrix([y_i['var'] for y_i in y_subs])  # DenseMatrix\n",
    "    x = Matrix([x_i['var'] for x_i in x_subs])  # DenseMatrix\n",
    "    y_p = Matrix([y_i['var_p'] for y_i in y_subs])  # DenseMatrix\n",
    "    x_p = Matrix([x_i['var_p'] for x_i in x_subs])  # DenseMatrix\n",
    "    y_ss = Matrix([y_i['var_ss'] for y_i in y_subs])  # DenseMatrix\n",
    "    x_ss = Matrix([x_i['var_ss'] for x_i in x_subs])  # DenseMatrix\n",
    "    subs = x_subs + y_subs  # list of dicts\n",
    "    all_to_markov = [sub['markov_t'] for sub in subs] + [sub['markov_tp1'] for sub in subs] + [sub['markov_inf'] for sub in subs]  # list of pairs of symbols\n",
    "    all_to_var = [sub['tp1_to_var'] for sub in subs] + [sub['inf_to_var'] for sub in subs]  # list of pairs of symbols"
   ]
  },
  {
   "cell_type": "code",
   "execution_count": 7,
   "id": "c1e2053399e62c26",
   "metadata": {
    "collapsed": false
   },
   "outputs": [],
   "source": [
    "def equations_to_dict(equations):\n",
    "    return {str(eq.lhs.subs(all_to_markov).subs(all_to_var)): eq.rhs.subs(all_to_markov) for eq in equations}"
   ]
  },
  {
   "cell_type": "code",
   "execution_count": 8,
   "metadata": {},
   "outputs": [
    {
     "name": "stdout",
     "output_type": "stream",
     "text": [
      "\u001b[96mBuilding model up to order 2\u001b[0m\n"
     ]
    }
   ],
   "source": [
    "    if print_level > 0:\n",
    "        print(\"\\033[96mBuilding model up to order {}\\033[0m\".format(max_order))\n",
    "    if print_level > 1:\n",
    "        print(\"\\033[96msimplify = {}, simplify_p = {}, simplify Ψ = {}\\033[0m\".format(simplify, simplify_p, simplify_Ψ))"
   ]
  },
  {
   "cell_type": "code",
   "execution_count": 9,
   "metadata": {},
   "outputs": [],
   "source": [
    "# create functions in correct order\n",
    "y_bar = None if steady_states is None else order_vector_by_symbols(equations_to_dict(steady_states),\n",
    "                                                                   [y_sub['symbol'] for y_sub in y_subs])  # list of functions\n",
    "x_bar = None if steady_states is None else order_vector_by_symbols(equations_to_dict(steady_states),\n",
    "                                                                   [x_sub['symbol'] for x_sub in x_subs])  # list of functions\n",
    "y_bar_iv = None if steady_states_iv is None else order_vector_by_symbols(\n",
    "    equations_to_dict(steady_states_iv), [y_sub['symbol'] for y_sub in y_subs])  # list of functions\n",
    "x_bar_iv = None if steady_states_iv is None else order_vector_by_symbols(\n",
    "    equations_to_dict(steady_states_iv), [x_sub['symbol'] for x_sub in x_subs])  # list of functions"
   ]
  },
  {
   "cell_type": "code",
   "execution_count": 10,
   "metadata": {},
   "outputs": [],
   "source": [
    "# Get any latex generated stuff we wish for pretty display of the model\n",
    "H_latex = latex(H)\n",
    "steady_states_latex = latex(steady_states)\n",
    "steady_states_iv_latex = latex(steady_states_iv) if steady_states_iv is not None else None"
   ]
  },
  {
   "cell_type": "code",
   "execution_count": 11,
   "metadata": {},
   "outputs": [],
   "source": [
    "# Assuming H, all_to_markov, and all_to_var are defined earlier in your code\n",
    "\n",
    "# Substitute variables in H with their corresponding expressions in all_to_markov\n",
    "H = [expr.subs(all_to_markov) for expr in H]  # list of expressions\n",
    "# Create a deep copy of H\n",
    "H_bar = deepcopy(H)\n",
    "# Substitute variables in H_bar with their corresponding expressions in all_to_var, then simplify\n",
    "H_bar = substitute_and_simplify(H_bar, all_to_var)  # list of expressions"
   ]
  },
  {
   "cell_type": "code",
   "execution_count": 12,
   "metadata": {},
   "outputs": [],
   "source": [
    "H_bar_w = nested_differentiate(H_bar, y.col_join(x))  # Matrix (n x n)\n",
    "H_yp = nested_differentiate(H, y_p)  # Matrix (n x n_y)\n",
    "H_y = nested_differentiate(H, y)  # Matrix (n x n_y)\n",
    "H_xp = nested_differentiate(H, x_p)  # Matrix (n x n_x)\n",
    "H_x = nested_differentiate(H, x)  # Matrix (n x n_x)"
   ]
  },
  {
   "cell_type": "code",
   "execution_count": 13,
   "metadata": {},
   "outputs": [
    {
     "data": {
      "text/latex": [
       "$\\displaystyle \\left[\\begin{matrix}0 & 0\\\\δ - 1 & 0\\\\- \\frac{k^{α} α e^{z}}{k} & - k^{α} e^{z}\\\\0 & - ρ\\end{matrix}\\right]$"
      ],
      "text/plain": [
       "⎡    0        0   ⎤\n",
       "⎢                 ⎥\n",
       "⎢  δ - 1      0   ⎥\n",
       "⎢                 ⎥\n",
       "⎢  α    z         ⎥\n",
       "⎢-k ⋅α⋅ℯ      α  z⎥\n",
       "⎢─────────  -k ⋅ℯ ⎥\n",
       "⎢    k            ⎥\n",
       "⎢                 ⎥\n",
       "⎣    0        -ρ  ⎦"
      ]
     },
     "execution_count": 13,
     "metadata": {},
     "output_type": "execute_result"
    }
   ],
   "source": [
    "H_x"
   ]
  },
  {
   "cell_type": "code",
   "execution_count": 14,
   "metadata": {},
   "outputs": [],
   "source": [
    "# Calculate the Hessian for each function in H\n",
    "if print_level > 1:\n",
    "    print(\"\\033[96mCalculating hessian\\033[0m\")\n",
    "Psi = [hessian(f, y_p.col_join(y).col_join(x_p).col_join(x))\n",
    "       for f in H]  # list of matrices; len(H) x (2n x 2n)\n",
    "if simplify_Ψ:\n",
    "    Psi = [simplify(psi) for psi in Psi]"
   ]
  },
  {
   "cell_type": "code",
   "execution_count": 15,
   "metadata": {},
   "outputs": [
    {
     "data": {
      "text/latex": [
       "$\\displaystyle \\left[ \\left[\\begin{matrix}\\frac{2 β \\left(- k_{p}^{α - 1} α e^{z_{p}} + δ - 1\\right)}{c_{p}^{3}} & 0 & 0 & 0 & \\frac{k_{p}^{α - 2} α β \\left(α - 1\\right) e^{z_{p}}}{c_{p}^{2}} & \\frac{k_{p}^{α - 1} α β e^{z_{p}}}{c_{p}^{2}} & 0 & 0\\\\0 & 0 & 0 & 0 & 0 & 0 & 0 & 0\\\\0 & 0 & \\frac{2}{c^{3}} & 0 & 0 & 0 & 0 & 0\\\\0 & 0 & 0 & 0 & 0 & 0 & 0 & 0\\\\\\frac{k_{p}^{α - 2} α β \\left(α - 1\\right) e^{z_{p}}}{c_{p}^{2}} & 0 & 0 & 0 & \\frac{k_{p}^{α - 3} α β \\left(2 - α\\right) \\left(α - 1\\right) e^{z_{p}}}{c_{p}} & \\frac{k_{p}^{α - 2} α β \\left(1 - α\\right) e^{z_{p}}}{c_{p}} & 0 & 0\\\\\\frac{k_{p}^{α - 1} α β e^{z_{p}}}{c_{p}^{2}} & 0 & 0 & 0 & \\frac{k_{p}^{α - 2} α β \\left(1 - α\\right) e^{z_{p}}}{c_{p}} & - \\frac{k_{p}^{α - 1} α β e^{z_{p}}}{c_{p}} & 0 & 0\\\\0 & 0 & 0 & 0 & 0 & 0 & 0 & 0\\\\0 & 0 & 0 & 0 & 0 & 0 & 0 & 0\\end{matrix}\\right], \\  \\left[\\begin{matrix}0 & 0 & 0 & 0 & 0 & 0 & 0 & 0\\\\0 & 0 & 0 & 0 & 0 & 0 & 0 & 0\\\\0 & 0 & 0 & 0 & 0 & 0 & 0 & 0\\\\0 & 0 & 0 & 0 & 0 & 0 & 0 & 0\\\\0 & 0 & 0 & 0 & 0 & 0 & 0 & 0\\\\0 & 0 & 0 & 0 & 0 & 0 & 0 & 0\\\\0 & 0 & 0 & 0 & 0 & 0 & 0 & 0\\\\0 & 0 & 0 & 0 & 0 & 0 & 0 & 0\\end{matrix}\\right], \\  \\left[\\begin{matrix}0 & 0 & 0 & 0 & 0 & 0 & 0 & 0\\\\0 & 0 & 0 & 0 & 0 & 0 & 0 & 0\\\\0 & 0 & 0 & 0 & 0 & 0 & 0 & 0\\\\0 & 0 & 0 & 0 & 0 & 0 & 0 & 0\\\\0 & 0 & 0 & 0 & 0 & 0 & 0 & 0\\\\0 & 0 & 0 & 0 & 0 & 0 & 0 & 0\\\\0 & 0 & 0 & 0 & 0 & 0 & k^{α - 2} α \\left(1 - α\\right) e^{z} & - k^{α - 1} α e^{z}\\\\0 & 0 & 0 & 0 & 0 & 0 & - k^{α - 1} α e^{z} & - k^{α} e^{z}\\end{matrix}\\right], \\  \\left[\\begin{matrix}0 & 0 & 0 & 0 & 0 & 0 & 0 & 0\\\\0 & 0 & 0 & 0 & 0 & 0 & 0 & 0\\\\0 & 0 & 0 & 0 & 0 & 0 & 0 & 0\\\\0 & 0 & 0 & 0 & 0 & 0 & 0 & 0\\\\0 & 0 & 0 & 0 & 0 & 0 & 0 & 0\\\\0 & 0 & 0 & 0 & 0 & 0 & 0 & 0\\\\0 & 0 & 0 & 0 & 0 & 0 & 0 & 0\\\\0 & 0 & 0 & 0 & 0 & 0 & 0 & 0\\end{matrix}\\right]\\right]$"
      ],
      "text/plain": [
       "⎡⎡    ⎛    α - 1    zₚ        ⎞                  α - 2              zₚ        \n",
       "⎢⎢2⋅β⋅⎝- kₚ     ⋅α⋅ℯ   + δ - 1⎠                kₚ     ⋅α⋅β⋅(α - 1)⋅ℯ          \n",
       "⎢⎢─────────────────────────────  0  0   0      ───────────────────────        \n",
       "⎢⎢               3                                         2                  \n",
       "⎢⎢             cₚ                                        cₚ                   \n",
       "⎢⎢                                                                            \n",
       "⎢⎢              0                0  0   0                 0                   \n",
       "⎢⎢                                                                            \n",
       "⎢⎢                                  2                                         \n",
       "⎢⎢              0                0  ──  0                 0                   \n",
       "⎢⎢                                   3                                        \n",
       "⎢⎢                                  c                                         \n",
       "⎢⎢                                                                            \n",
       "⎢⎢              0                0  0   0                 0                   \n",
       "⎢⎢                                                                            \n",
       "⎢⎢     α - 2              zₚ                 α - 3                      zₚ    \n",
       "⎢⎢   kₚ     ⋅α⋅β⋅(α - 1)⋅ℯ                 kₚ     ⋅α⋅β⋅(2 - α)⋅(α - 1)⋅ℯ    kₚ\n",
       "⎢⎢   ───────────────────────     0  0   0  ───────────────────────────────  ──\n",
       "⎢⎢               2                                        cₚ                  \n",
       "⎢⎢             cₚ                                                             \n",
       "⎢⎢                                                                            \n",
       "⎢⎢         α - 1      zₚ                         α - 2              zₚ        \n",
       "⎢⎢       kₚ     ⋅α⋅β⋅ℯ                         kₚ     ⋅α⋅β⋅(1 - α)⋅ℯ          \n",
       "⎢⎢       ───────────────         0  0   0      ───────────────────────        \n",
       "⎢⎢               2                                        cₚ                  \n",
       "⎢⎢             cₚ                                                             \n",
       "⎢⎢                                                                            \n",
       "⎢⎢              0                0  0   0                 0                   \n",
       "⎢⎢                                                                            \n",
       "⎣⎣              0                0  0   0                 0                   \n",
       "\n",
       "    α - 1      zₚ          ⎤                                                  \n",
       "  kₚ     ⋅α⋅β⋅ℯ            ⎥                                                  \n",
       "  ───────────────      0  0⎥                                                  \n",
       "          2                ⎥                                                  \n",
       "        cₚ                 ⎥                                                  \n",
       "                           ⎥                                                  \n",
       "         0             0  0⎥                                                  \n",
       "                           ⎥                            ⎡0  0  0  0  0  0     \n",
       "                           ⎥  ⎡0  0  0  0  0  0  0  0⎤  ⎢                     \n",
       "         0             0  0⎥  ⎢                      ⎥  ⎢0  0  0  0  0  0     \n",
       "                           ⎥  ⎢0  0  0  0  0  0  0  0⎥  ⎢                     \n",
       "                           ⎥  ⎢                      ⎥  ⎢0  0  0  0  0  0     \n",
       "                           ⎥  ⎢0  0  0  0  0  0  0  0⎥  ⎢                     \n",
       "         0             0  0⎥  ⎢                      ⎥  ⎢0  0  0  0  0  0     \n",
       "                           ⎥  ⎢0  0  0  0  0  0  0  0⎥  ⎢                     \n",
       "α - 2              zₚ      ⎥, ⎢                      ⎥, ⎢0  0  0  0  0  0     \n",
       "     ⋅α⋅β⋅(1 - α)⋅ℯ        ⎥  ⎢0  0  0  0  0  0  0  0⎥  ⎢                     \n",
       "─────────────────────  0  0⎥  ⎢                      ⎥  ⎢0  0  0  0  0  0     \n",
       "         cₚ                ⎥  ⎢0  0  0  0  0  0  0  0⎥  ⎢                     \n",
       "                           ⎥  ⎢                      ⎥  ⎢                   α \n",
       "                           ⎥  ⎢0  0  0  0  0  0  0  0⎥  ⎢0  0  0  0  0  0  k  \n",
       "    α - 1      zₚ          ⎥  ⎢                      ⎥  ⎢                     \n",
       " -kₚ     ⋅α⋅β⋅ℯ            ⎥  ⎣0  0  0  0  0  0  0  0⎦  ⎢                     \n",
       " ─────────────────     0  0⎥                            ⎣0  0  0  0  0  0     \n",
       "         cₚ                ⎥                                                  \n",
       "                           ⎥                                                  \n",
       "                           ⎥                                                  \n",
       "         0             0  0⎥                                                  \n",
       "                           ⎥                                                  \n",
       "         0             0  0⎦                                                  \n",
       "\n",
       "                                                         ⎤\n",
       "                                                         ⎥\n",
       "                                                         ⎥\n",
       "                                                         ⎥\n",
       "                                                         ⎥\n",
       "                                                         ⎥\n",
       "                                                         ⎥\n",
       "      0                0      ⎤                          ⎥\n",
       "                              ⎥  ⎡0  0  0  0  0  0  0  0⎤⎥\n",
       "      0                0      ⎥  ⎢                      ⎥⎥\n",
       "                              ⎥  ⎢0  0  0  0  0  0  0  0⎥⎥\n",
       "      0                0      ⎥  ⎢                      ⎥⎥\n",
       "                              ⎥  ⎢0  0  0  0  0  0  0  0⎥⎥\n",
       "      0                0      ⎥  ⎢                      ⎥⎥\n",
       "                              ⎥  ⎢0  0  0  0  0  0  0  0⎥⎥\n",
       "      0                0      ⎥, ⎢                      ⎥⎥\n",
       "                              ⎥  ⎢0  0  0  0  0  0  0  0⎥⎥\n",
       "      0                0      ⎥  ⎢                      ⎥⎥\n",
       "                              ⎥  ⎢0  0  0  0  0  0  0  0⎥⎥\n",
       "- 2            z    α - 1    z⎥  ⎢                      ⎥⎥\n",
       "   ⋅α⋅(1 - α)⋅ℯ   -k     ⋅α⋅ℯ ⎥  ⎢0  0  0  0  0  0  0  0⎥⎥\n",
       "                              ⎥  ⎢                      ⎥⎥\n",
       "  α - 1    z           α  z   ⎥  ⎣0  0  0  0  0  0  0  0⎦⎥\n",
       "-k     ⋅α⋅ℯ          -k ⋅ℯ    ⎦                          ⎥\n",
       "                                                         ⎥\n",
       "                                                         ⎥\n",
       "                                                         ⎥\n",
       "                                                         ⎥\n",
       "                                                         ⎥\n",
       "                                                         ⎦"
      ]
     },
     "execution_count": 15,
     "metadata": {},
     "output_type": "execute_result"
    }
   ],
   "source": [
    "Psi"
   ]
  },
  {
   "cell_type": "code",
   "execution_count": 16,
   "metadata": {},
   "outputs": [],
   "source": [
    "# Differentiate the Hessian with respect to various variables\n",
    "if print_level > 2 and max_order >= 2:\n",
    "    print(\"\\033[96mDifferentiating hessian\\033[0m\")\n",
    "Psi_yp = None if max_order < 2 else nested_differentiate(Psi, y_p)\n",
    "Psi_y = None if max_order < 2 else nested_differentiate(Psi, y)\n",
    "Psi_xp = None if max_order < 2 else nested_differentiate(Psi, x_p)\n",
    "Psi_x = None if max_order < 2 else nested_differentiate(Psi, x)"
   ]
  },
  {
   "cell_type": "code",
   "execution_count": 17,
   "metadata": {},
   "outputs": [],
   "source": [
    "if print_level > 2:\n",
    "    print(\"\\033[96mDifferentiating steady state with respect to parameters\\n\\033[0m\")\n",
    "p = Matrix(p)  # DenseMatrix\n",
    "H_p = differentiate_to_dict(H, p)\n",
    "Γ_p = differentiate_to_dict(Γ, p)\n",
    "Ω_p = differentiate_to_dict(Ω, p)\n",
    "y_bar_p = differentiate_to_dict(y_bar, p)\n",
    "x_bar_p = differentiate_to_dict(x_bar, p)"
   ]
  },
  {
   "cell_type": "code",
   "execution_count": 18,
   "metadata": {},
   "outputs": [
    {
     "data": {
      "text/latex": [
       "$\\displaystyle \\left[\\begin{matrix}- \\frac{β \\left(k_{p}^{α - 1} α e^{z_{p}} \\log{\\left(k_{p} \\right)} + k_{p}^{α - 1} e^{z_{p}}\\right)}{c_{p}}\\\\0\\\\- k^{α} e^{z} \\log{\\left(k \\right)}\\\\0\\end{matrix}\\right]$"
      ],
      "text/plain": [
       "⎡   ⎛  α - 1    zₚ             α - 1  zₚ⎞ ⎤\n",
       "⎢-β⋅⎝kₚ     ⋅α⋅ℯ  ⋅log(kₚ) + kₚ     ⋅ℯ  ⎠ ⎥\n",
       "⎢─────────────────────────────────────────⎥\n",
       "⎢                    cₚ                   ⎥\n",
       "⎢                                         ⎥\n",
       "⎢                    0                    ⎥\n",
       "⎢                                         ⎥\n",
       "⎢                α  z                     ⎥\n",
       "⎢              -k ⋅ℯ ⋅log(k)              ⎥\n",
       "⎢                                         ⎥\n",
       "⎣                    0                    ⎦"
      ]
     },
     "execution_count": 18,
     "metadata": {},
     "output_type": "execute_result"
    }
   ],
   "source": [
    "H_p['α']"
   ]
  },
  {
   "cell_type": "code",
   "execution_count": 19,
   "metadata": {},
   "outputs": [],
   "source": [
    "if print_level > 2:\n",
    "    print(\n",
    "        \"\\033[96mDifferentiating H derivatives state with respect to parameters\\n\\033[0m\")\n",
    "\n",
    "H_yp_p = differentiate_to_dict(H_yp, p)\n",
    "H_xp_p = differentiate_to_dict(H_xp, p)\n",
    "H_y_p = differentiate_to_dict(H_y, p)\n",
    "H_x_p = differentiate_to_dict(H_x, p)"
   ]
  },
  {
   "cell_type": "code",
   "execution_count": 20,
   "metadata": {},
   "outputs": [
    {
     "data": {
      "text/latex": [
       "$\\displaystyle \\left[\\begin{matrix}0 & 0\\\\0 & 0\\\\- \\frac{k^{α} α e^{z} \\log{\\left(k \\right)}}{k} - \\frac{k^{α} e^{z}}{k} & - k^{α} e^{z} \\log{\\left(k \\right)}\\\\0 & 0\\end{matrix}\\right]$"
      ],
      "text/plain": [
       "⎡           0                    0      ⎤\n",
       "⎢                                       ⎥\n",
       "⎢           0                    0      ⎥\n",
       "⎢                                       ⎥\n",
       "⎢   α    z           α  z               ⎥\n",
       "⎢  k ⋅α⋅ℯ ⋅log(k)   k ⋅ℯ     α  z       ⎥\n",
       "⎢- ────────────── - ─────  -k ⋅ℯ ⋅log(k)⎥\n",
       "⎢        k            k                 ⎥\n",
       "⎢                                       ⎥\n",
       "⎣           0                    0      ⎦"
      ]
     },
     "execution_count": 20,
     "metadata": {},
     "output_type": "execute_result"
    }
   ],
   "source": [
    "H_x_p['α']"
   ]
  },
  {
   "cell_type": "code",
   "execution_count": 21,
   "metadata": {},
   "outputs": [],
   "source": [
    "if print_level > 2 and max_order >= 2:\n",
    "    print(\"\\033[96mDifferentiating hessian with respect to parameters\\n\\033[0m\")\n",
    "\n",
    "Psi_p = None if max_order < 2 else differentiate_to_dict(Psi, p)"
   ]
  },
  {
   "cell_type": "code",
   "execution_count": 22,
   "metadata": {},
   "outputs": [
    {
     "data": {
      "text/latex": [
       "$\\displaystyle \\left[\\begin{matrix}\\frac{2 β \\left(- k_{p}^{α - 1} α e^{z_{p}} \\log{\\left(k_{p} \\right)} - k_{p}^{α - 1} e^{z_{p}}\\right)}{c_{p}^{3}} & 0 & 0 & 0 & \\frac{k_{p}^{α - 2} α β \\left(α - 1\\right) e^{z_{p}} \\log{\\left(k_{p} \\right)}}{c_{p}^{2}} + \\frac{k_{p}^{α - 2} α β e^{z_{p}}}{c_{p}^{2}} + \\frac{k_{p}^{α - 2} β \\left(α - 1\\right) e^{z_{p}}}{c_{p}^{2}} & \\frac{k_{p}^{α - 1} α β e^{z_{p}} \\log{\\left(k_{p} \\right)}}{c_{p}^{2}} + \\frac{k_{p}^{α - 1} β e^{z_{p}}}{c_{p}^{2}} & 0 & 0\\\\0 & 0 & 0 & 0 & 0 & 0 & 0 & 0\\\\0 & 0 & 0 & 0 & 0 & 0 & 0 & 0\\\\0 & 0 & 0 & 0 & 0 & 0 & 0 & 0\\\\\\frac{k_{p}^{α - 2} α β \\left(α - 1\\right) e^{z_{p}} \\log{\\left(k_{p} \\right)}}{c_{p}^{2}} + \\frac{k_{p}^{α - 2} α β e^{z_{p}}}{c_{p}^{2}} + \\frac{k_{p}^{α - 2} β \\left(α - 1\\right) e^{z_{p}}}{c_{p}^{2}} & 0 & 0 & 0 & \\frac{k_{p}^{α - 3} α β \\left(2 - α\\right) \\left(α - 1\\right) e^{z_{p}} \\log{\\left(k_{p} \\right)}}{c_{p}} + \\frac{k_{p}^{α - 3} α β \\left(2 - α\\right) e^{z_{p}}}{c_{p}} - \\frac{k_{p}^{α - 3} α β \\left(α - 1\\right) e^{z_{p}}}{c_{p}} + \\frac{k_{p}^{α - 3} β \\left(2 - α\\right) \\left(α - 1\\right) e^{z_{p}}}{c_{p}} & \\frac{k_{p}^{α - 2} α β \\left(1 - α\\right) e^{z_{p}} \\log{\\left(k_{p} \\right)}}{c_{p}} - \\frac{k_{p}^{α - 2} α β e^{z_{p}}}{c_{p}} + \\frac{k_{p}^{α - 2} β \\left(1 - α\\right) e^{z_{p}}}{c_{p}} & 0 & 0\\\\\\frac{k_{p}^{α - 1} α β e^{z_{p}} \\log{\\left(k_{p} \\right)}}{c_{p}^{2}} + \\frac{k_{p}^{α - 1} β e^{z_{p}}}{c_{p}^{2}} & 0 & 0 & 0 & \\frac{k_{p}^{α - 2} α β \\left(1 - α\\right) e^{z_{p}} \\log{\\left(k_{p} \\right)}}{c_{p}} - \\frac{k_{p}^{α - 2} α β e^{z_{p}}}{c_{p}} + \\frac{k_{p}^{α - 2} β \\left(1 - α\\right) e^{z_{p}}}{c_{p}} & - \\frac{k_{p}^{α - 1} α β e^{z_{p}} \\log{\\left(k_{p} \\right)}}{c_{p}} - \\frac{k_{p}^{α - 1} β e^{z_{p}}}{c_{p}} & 0 & 0\\\\0 & 0 & 0 & 0 & 0 & 0 & 0 & 0\\\\0 & 0 & 0 & 0 & 0 & 0 & 0 & 0\\end{matrix}\\right]$"
      ],
      "text/plain": [
       "⎡                   ⎛    α - 1    zₚ             α - 1  zₚ⎞                   \n",
       "⎢               2⋅β⋅⎝- kₚ     ⋅α⋅ℯ  ⋅log(kₚ) - kₚ     ⋅ℯ  ⎠                   \n",
       "⎢               ───────────────────────────────────────────                 0 \n",
       "⎢                                     3                                       \n",
       "⎢                                   cₚ                                        \n",
       "⎢                                                                             \n",
       "⎢                                    0                                      0 \n",
       "⎢                                                                             \n",
       "⎢                                    0                                      0 \n",
       "⎢                                                                             \n",
       "⎢                                    0                                      0 \n",
       "⎢                                                                             \n",
       "⎢  α - 2              zₚ             α - 2      zₚ     α - 2            zₚ    \n",
       "⎢kₚ     ⋅α⋅β⋅(α - 1)⋅ℯ  ⋅log(kₚ)   kₚ     ⋅α⋅β⋅ℯ     kₚ     ⋅β⋅(α - 1)⋅ℯ      \n",
       "⎢─────────────────────────────── + ─────────────── + ─────────────────────  0 \n",
       "⎢                2                         2                    2             \n",
       "⎢              cₚ                        cₚ                   cₚ              \n",
       "⎢                                                                             \n",
       "⎢                   α - 1      zₚ             α - 1    zₚ                     \n",
       "⎢                 kₚ     ⋅α⋅β⋅ℯ  ⋅log(kₚ)   kₚ     ⋅β⋅ℯ                       \n",
       "⎢                 ─────────────────────── + ─────────────                   0 \n",
       "⎢                             2                    2                          \n",
       "⎢                           cₚ                   cₚ                           \n",
       "⎢                                                                             \n",
       "⎢                                    0                                      0 \n",
       "⎢                                                                             \n",
       "⎣                                    0                                      0 \n",
       "\n",
       "                                  α - 2              zₚ             α - 2     \n",
       "                                kₚ     ⋅α⋅β⋅(α - 1)⋅ℯ  ⋅log(kₚ)   kₚ     ⋅α⋅β⋅\n",
       " 0  0                           ─────────────────────────────── + ────────────\n",
       "                                                2                         2   \n",
       "                                              cₚ                        cₚ    \n",
       "                                                                              \n",
       " 0  0                                                               0         \n",
       "                                                                              \n",
       " 0  0                                                               0         \n",
       "                                                                              \n",
       " 0  0                                                               0         \n",
       "                                                                              \n",
       "         α - 3                      zₚ             α - 3              zₚ     α\n",
       "       kₚ     ⋅α⋅β⋅(2 - α)⋅(α - 1)⋅ℯ  ⋅log(kₚ)   kₚ     ⋅α⋅β⋅(2 - α)⋅ℯ     kₚ \n",
       " 0  0  ─────────────────────────────────────── + ─────────────────────── - ───\n",
       "                          cₚ                                cₚ                \n",
       "                                                                              \n",
       "                                                                              \n",
       "                                  α - 2              zₚ             α - 2     \n",
       "                                kₚ     ⋅α⋅β⋅(1 - α)⋅ℯ  ⋅log(kₚ)   kₚ     ⋅α⋅β⋅\n",
       " 0  0                           ─────────────────────────────── - ────────────\n",
       "                                               cₚ                        cₚ   \n",
       "                                                                              \n",
       "                                                                              \n",
       " 0  0                                                               0         \n",
       "                                                                              \n",
       " 0  0                                                               0         \n",
       "\n",
       " zₚ     α - 2            zₚ                                              α - 1\n",
       "ℯ     kₚ     ⋅β⋅(α - 1)⋅ℯ                                              kₚ     \n",
       "─── + ─────────────────────                                            ───────\n",
       "                 2                                                            \n",
       "               cₚ                                                             \n",
       "                                                                              \n",
       "                                                                              \n",
       "                                                                              \n",
       "                                                                              \n",
       "                                                                              \n",
       "                                                                              \n",
       "                                                                              \n",
       " - 3              zₚ     α - 3                    zₚ    α - 2              zₚ \n",
       "    ⋅α⋅β⋅(α - 1)⋅ℯ     kₚ     ⋅β⋅(2 - α)⋅(α - 1)⋅ℯ    kₚ     ⋅α⋅β⋅(1 - α)⋅ℯ  ⋅\n",
       "──────────────────── + ─────────────────────────────  ────────────────────────\n",
       "        cₚ                           cₚ                              cₚ       \n",
       "                                                                              \n",
       "                                                                              \n",
       " zₚ     α - 2            zₚ                                               α - \n",
       "ℯ     kₚ     ⋅β⋅(1 - α)⋅ℯ                                               kₚ    \n",
       "─── + ─────────────────────                                           - ──────\n",
       "                cₚ                                                            \n",
       "                                                                              \n",
       "                                                                              \n",
       "                                                                              \n",
       "                                                                              \n",
       "                                                                              \n",
       "\n",
       "      zₚ             α - 1    zₚ                       ⎤\n",
       "⋅α⋅β⋅ℯ  ⋅log(kₚ)   kₚ     ⋅β⋅ℯ                         ⎥\n",
       "──────────────── + ─────────────                   0  0⎥\n",
       "     2                    2                            ⎥\n",
       "   cₚ                   cₚ                             ⎥\n",
       "                                                       ⎥\n",
       "            0                                      0  0⎥\n",
       "                                                       ⎥\n",
       "            0                                      0  0⎥\n",
       "                                                       ⎥\n",
       "            0                                      0  0⎥\n",
       "                                                       ⎥\n",
       "            α - 2      zₚ     α - 2            zₚ      ⎥\n",
       "log(kₚ)   kₚ     ⋅α⋅β⋅ℯ     kₚ     ⋅β⋅(1 - α)⋅ℯ        ⎥\n",
       "─────── - ─────────────── + ─────────────────────  0  0⎥\n",
       "                 cₚ                   cₚ               ⎥\n",
       "                                                       ⎥\n",
       "                                                       ⎥\n",
       "1      zₚ             α - 1    zₚ                      ⎥\n",
       " ⋅α⋅β⋅ℯ  ⋅log(kₚ)   kₚ     ⋅β⋅ℯ                        ⎥\n",
       "───────────────── - ─────────────                  0  0⎥\n",
       "     cₚ                   cₚ                           ⎥\n",
       "                                                       ⎥\n",
       "                                                       ⎥\n",
       "            0                                      0  0⎥\n",
       "                                                       ⎥\n",
       "            0                                      0  0⎦"
      ]
     },
     "execution_count": 22,
     "metadata": {},
     "output_type": "execute_result"
    }
   ],
   "source": [
    "Psi_p['α'][0]"
   ]
  },
  {
   "cell_type": "code",
   "execution_count": 23,
   "metadata": {},
   "outputs": [
    {
     "name": "stdout",
     "output_type": "stream",
     "text": [
      "\u001b[96mSubstituting and simplifying\n",
      "\u001b[0m\n"
     ]
    }
   ],
   "source": [
    "if print_level > 0:\n",
    "    print(\"\\033[96mSubstituting and simplifying\\n\\033[0m\")\n",
    "\n",
    "H = substitute_and_simplify(H, all_to_markov, do_simplify)\n",
    "H_yp = substitute_and_simplify(H_yp, all_to_var, do_simplify)\n",
    "H_xp = substitute_and_simplify(H_xp, all_to_var, do_simplify)\n",
    "H_x = substitute_and_simplify(H_x, all_to_var, do_simplify)\n",
    "H_y = substitute_and_simplify(H_y, all_to_var, do_simplify)\n",
    "Psi = substitute_and_simplify(Psi, all_to_var, do_simplify)"
   ]
  },
  {
   "cell_type": "code",
   "execution_count": 24,
   "metadata": {},
   "outputs": [
    {
     "data": {
      "image/png": "[encoded data removed]",
      "text/latex": [
       "$\\displaystyle \\left[ \\frac{- c β \\left(k_{p}^{α - 1} α e^{z_{p}} - δ + 1\\right) + c_{p}}{c c_{p}}, \\  c + k \\left(δ - 1\\right) + k_{p} - q, \\  - k^{α} e^{z} + q, \\  - z ρ + z_{p}\\right]$"
      ],
      "text/plain": [
       "⎡      ⎛  α - 1    zₚ        ⎞                                                \n",
       "⎢- c⋅β⋅⎝kₚ     ⋅α⋅ℯ   - δ + 1⎠ + cₚ                             α  z          \n",
       "⎢──────────────────────────────────, c + k⋅(δ - 1) + kₚ - q, - k ⋅ℯ  + q, -z⋅ρ\n",
       "⎣               c⋅cₚ                                                          \n",
       "\n",
       "     ⎤\n",
       "     ⎥\n",
       " + zₚ⎥\n",
       "     ⎦"
      ]
     },
     "execution_count": 24,
     "metadata": {},
     "output_type": "execute_result"
    }
   ],
   "source": [
    "H"
   ]
  },
  {
   "cell_type": "code",
   "execution_count": 25,
   "metadata": {},
   "outputs": [],
   "source": [
    "if print_level > 2:\n",
    "    print(\"\\033[96mSubstituting and simplifying parameter derivatives\\n\\033[0m\")\n",
    "\n",
    "H_p = substitute_and_simplify(H_p, all_to_var, simplify_p)\n",
    "Γ_p = substitute_and_simplify(Γ_p, all_to_var, simplify_p)\n",
    "Ω_p = substitute_and_simplify(Ω_p, all_to_var, simplify_p)\n",
    "y_bar_p = substitute_and_simplify(y_bar_p, all_to_var, simplify_p)\n",
    "x_bar_p = substitute_and_simplify(x_bar_p, all_to_var, simplify_p)\n",
    "H_yp_p = substitute_and_simplify(H_yp_p, all_to_var, simplify_p)\n",
    "H_xp_p = substitute_and_simplify(H_xp_p, all_to_var, simplify_p)\n",
    "H_y_p = substitute_and_simplify(H_y_p, all_to_var, simplify_p)\n",
    "H_x_p = substitute_and_simplify(H_x_p, all_to_var, simplify_p)"
   ]
  },
  {
   "cell_type": "code",
   "execution_count": 30,
   "metadata": {},
   "outputs": [
    {
     "data": {
      "text/latex": [
       "$\\displaystyle \\left[\\begin{matrix}0 & 0\\\\0 & 0\\\\k^{α - 1} \\left(- α \\log{\\left(k \\right)} - 1\\right) e^{z} & - k^{α} e^{z} \\log{\\left(k \\right)}\\\\0 & 0\\end{matrix}\\right]$"
      ],
      "text/plain": [
       "⎡            0                    0      ⎤\n",
       "⎢                                        ⎥\n",
       "⎢            0                    0      ⎥\n",
       "⎢                                        ⎥\n",
       "⎢ α - 1                  z    α  z       ⎥\n",
       "⎢k     ⋅(-α⋅log(k) - 1)⋅ℯ   -k ⋅ℯ ⋅log(k)⎥\n",
       "⎢                                        ⎥\n",
       "⎣            0                    0      ⎦"
      ]
     },
     "execution_count": 30,
     "metadata": {},
     "output_type": "execute_result"
    }
   ],
   "source": [
    "H_x_p['α']"
   ]
  },
  {
   "cell_type": "code",
   "execution_count": null,
   "metadata": {},
   "outputs": [],
   "source": []
  }
 ],
 "metadata": {
  "kernelspec": {
   "display_name": "Python 3",
   "language": "python",
   "name": "python3"
  },
  "language_info": {
   "codemirror_mode": {
    "name": "ipython",
    "version": 3
   },
   "file_extension": ".py",
   "mimetype": "text/x-python",
   "name": "python",
   "nbconvert_exporter": "python",
   "pygments_lexer": "ipython3",
   "version": "3.11.6"
  }
 },
 "nbformat": 4,
 "nbformat_minor": 5
}
