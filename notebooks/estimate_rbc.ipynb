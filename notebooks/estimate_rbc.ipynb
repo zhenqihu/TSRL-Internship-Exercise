{
 "cells": [
  {
   "cell_type": "code",
   "execution_count": 1,
   "id": "9fb4088f4cb5cabd",
   "metadata": {
    "ExecuteTime": {
     "end_time": "2023-11-30T15:34:45.696221Z",
     "start_time": "2023-11-30T15:34:45.007171Z"
    },
    "collapsed": false
   },
   "outputs": [],
   "source": [
    "import os\n",
    "from pathlib import Path\n",
    "import DifferentiableStateSpaceModels\n",
    "from DifferentiableStateSpaceModels import *\n",
    "from sympy import *\n",
    "import numpy as np\n",
    "import pandas as pd\n",
    "\n",
    "init_printing()  # for nice sympy expressions in jupyter"
   ]
  },
  {
   "cell_type": "code",
   "execution_count": 2,
   "id": "initial_id",
   "metadata": {
    "ExecuteTime": {
     "end_time": "2023-11-28T18:58:40.340012Z",
     "start_time": "2023-11-28T18:58:40.284785Z"
    },
    "collapsed": true
   },
   "outputs": [],
   "source": [
    "# Define the symbols\n",
    "α, β, ρ, δ, σ, Ω_1 = symbols('α β ρ δ σ Ω_1')\n",
    "t = symbols('t', integer=True)\n",
    "k, z, c, q = symbols('k z c q', cls=Function)\n",
    "\n",
    "# Define the states, controls, and parameters\n",
    "x = [k, z]  # states\n",
    "y = [c, q]  # controls\n",
    "p = [α, β, ρ, δ, σ, Ω_1]  # parameters\n",
    "\n",
    "# Define the system of model equations\n",
    "H = [\n",
    "    1 / c(t) - (β / c(t + 1)) * (α * exp(z(t + 1)) * k(t + 1)**(α - 1) + (1 - δ)),\n",
    "    c(t) + k(t + 1) - (1 - δ) * k(t) - q(t),\n",
    "    q(t) - exp(z(t)) * k(t)**α,\n",
    "    z(t + 1) - ρ * z(t)\n",
    "]\n",
    "\n",
    "# Define the steady states\n",
    "steady_states = [\n",
    "    Eq(k(oo), (((1 / β) - 1 + δ) / α)**(1 / (α - 1))),\n",
    "    Eq(z(oo), 0),\n",
    "    Eq(c(oo), (((1 / β) - 1 + δ) / α)**(α / (α - 1)) - δ * (((1 / β) - 1 + δ) / α)**(1 / (α - 1))),\n",
    "    Eq(q(oo), (((1 / β) - 1 + δ) / α)**(α / (α - 1)))\n",
    "]\n",
    "\n",
    "# Define the matrix for the 1 shock\n",
    "Γ = Matrix([σ])\n",
    "\n",
    "# Define the n_x * n_ϵ matrix\n",
    "η = Matrix([0, -1])\n",
    "\n",
    "# Define the observation matrix\n",
    "Q = Matrix([[1.0, 0, 0, 0], [0, 0, 1.0, 0]])\n",
    "\n",
    "# Define the diagonal cholesky of covariance matrix for observation noise\n",
    "Ω = [Ω_1, Ω_1]\n",
    "\n",
    "# Generates the files and includes if required.  If the model is already created, then just loads\n",
    "overwrite_model_cache = True"
   ]
  },
  {
   "cell_type": "code",
   "execution_count": 3,
   "metadata": {},
   "outputs": [],
   "source": [
    "def default_model_cache_location():\n",
    "    \"\"\"\n",
    "    Returns the default location for the model cache\n",
    "    :return: path of a folder joining the package directory and \".function_cache\"\n",
    "    \"\"\"\n",
    "    return os.path.join(Path(DifferentiableStateSpaceModels.__file__).parent.absolute(), \".function_cache\")\n",
    "\n",
    "\n",
    "model_cache_location = default_model_cache_location()\n",
    "max_order = 2\n",
    "steady_states_iv = None\n",
    "model_name = \"rbc_notebook_example\"\n",
    "model_cache_location = default_model_cache_location()\n",
    "overwrite_model_cache = False\n",
    "print_level = 1\n",
    "max_order = 2\n",
    "save_ip = True\n",
    "save_oop = False  # only does inplace by default\n",
    "skipzeros = True\n",
    "fillzeros = False\n",
    "simplify_Ψ = True\n",
    "simplify = True\n",
    "simplify_p = True"
   ]
  },
  {
   "cell_type": "code",
   "execution_count": 4,
   "id": "fe3e51c253b55a1",
   "metadata": {
    "ExecuteTime": {
     "end_time": "2023-11-28T18:58:41.474113Z",
     "start_time": "2023-11-28T18:58:41.469383Z"
    },
    "collapsed": false
   },
   "outputs": [],
   "source": [
    "# path of the module to be saved in the cache\n",
    "module_cache_path = os.path.join(model_cache_location, model_name + \".py\")\n",
    "\n",
    "print_level = 1\n",
    "# only load cache if the module isn't already loaded in memory\n",
    "if (str(model_name) in globals()) and (not overwrite_model_cache):\n",
    "    if print_level > 0:\n",
    "        print(f\"Using existing module {model_name}\\n\")\n",
    "\n",
    "# if path already exists\n",
    "if (os.path.exists(module_cache_path)) and (not overwrite_model_cache):\n",
    "    # path exists and not overwriting\n",
    "    if print_level > 0:\n",
    "        print(f\"Model already generated at {module_cache_path}\\n\")"
   ]
  },
  {
   "cell_type": "code",
   "execution_count": 5,
   "id": "7751965feacb443e",
   "metadata": {
    "ExecuteTime": {
     "end_time": "2023-11-28T18:58:50.687075Z",
     "start_time": "2023-11-28T18:58:50.680996Z"
    },
    "collapsed": false
   },
   "outputs": [],
   "source": [
    "    n_y = len(y)\n",
    "    n_x = len(x)\n",
    "    n = n_y + n_x\n",
    "    n_p = len(p)\n",
    "    assert n_p > 0  # code written to have at least one parameter\n",
    "    n_ϵ = η.shape[1]\n",
    "    n_z = n if Q is None else Q.shape[0]"
   ]
  },
  {
   "cell_type": "code",
   "execution_count": 6,
   "id": "a00708525655f08b",
   "metadata": {
    "ExecuteTime": {
     "end_time": "2023-11-28T18:58:51.914044Z",
     "start_time": "2023-11-28T18:58:51.909260Z"
    },
    "collapsed": false
   },
   "outputs": [],
   "source": [
    "    # Get the markovian variables and create substitutions\n",
    "    y_subs = [make_substitutions(t, y_i) for y_i in y]\n",
    "    x_subs = [make_substitutions(t, x_i) for x_i in x]\n",
    "    y = Matrix([y_i['var'] for y_i in y_subs])\n",
    "    x = Matrix([x_i['var'] for x_i in x_subs])\n",
    "    y_p = Matrix([y_i['var_p'] for y_i in y_subs])\n",
    "    x_p = Matrix([x_i['var_p'] for x_i in x_subs])\n",
    "    y_ss = Matrix([y_i['var_ss'] for y_i in y_subs])\n",
    "    x_ss = Matrix([x_i['var_ss'] for x_i in x_subs])\n",
    "    subs = x_subs + y_subs\n",
    "    all_to_markov = [sub['markov_t'] for sub in subs] + [sub['markov_tp1'] for sub in subs] + [sub['markov_inf'] for sub in subs]\n",
    "    all_to_var = [sub['tp1_to_var'] for sub in subs] + [sub['inf_to_var'] for sub in subs]"
   ]
  },
  {
   "cell_type": "code",
   "execution_count": 7,
   "id": "c1e2053399e62c26",
   "metadata": {
    "collapsed": false
   },
   "outputs": [],
   "source": [
    "def equations_to_dict(equations):\n",
    "    return {str(eq.lhs.subs(all_to_markov).subs(all_to_var)): eq.rhs.subs(all_to_markov) for eq in equations}"
   ]
  },
  {
   "cell_type": "code",
   "execution_count": 8,
   "metadata": {},
   "outputs": [
    {
     "name": "stdout",
     "output_type": "stream",
     "text": [
      "\u001b[96mBuilding model up to order 2\u001b[0m\n"
     ]
    }
   ],
   "source": [
    "    if print_level > 0:\n",
    "        print(\"\\033[96mBuilding model up to order {}\\033[0m\".format(max_order))\n",
    "    if print_level > 1:\n",
    "        print(\"\\033[96msimplify = {}, simplify_p = {}, simplify Ψ = {}\\033[0m\".format(simplify, simplify_p, simplify_Ψ))"
   ]
  },
  {
   "cell_type": "code",
   "execution_count": 9,
   "metadata": {},
   "outputs": [],
   "source": [
    "# create functions in correct order\n",
    "y_bar = None if steady_states is None else order_vector_by_symbols(\n",
    "    equations_to_dict(steady_states), [y_sub['symbol'] for y_sub in y_subs])\n",
    "x_bar = None if steady_states is None else order_vector_by_symbols(\n",
    "    equations_to_dict(steady_states), [x_sub['symbol'] for x_sub in x_subs])\n",
    "y_bar_iv = None if steady_states_iv is None else order_vector_by_symbols(\n",
    "    equations_to_dict(steady_states_iv), [y_sub['symbol'] for y_sub in y_subs])\n",
    "x_bar_iv = None if steady_states_iv is None else order_vector_by_symbols(\n",
    "    equations_to_dict(steady_states_iv), [x_sub['symbol'] for x_sub in x_subs])"
   ]
  },
  {
   "cell_type": "code",
   "execution_count": 12,
   "metadata": {},
   "outputs": [],
   "source": [
    "# Get any latex generated stuff we wish for pretty display of the model\n",
    "H_latex = latex(H)\n",
    "steady_states_latex = latex(steady_states)\n",
    "steady_states_iv_latex = latex(steady_states_iv)"
   ]
  },
  {
   "cell_type": "code",
   "execution_count": 15,
   "metadata": {},
   "outputs": [
    {
     "name": "stdout",
     "output_type": "stream",
     "text": [
      "\\left[ k{\\left(\\infty \\right)} = \\left(\\frac{δ - 1 + \\frac{1}{β}}{α}\\right)^{\\frac{1}{α - 1}}, \\  z{\\left(\\infty \\right)} = 0, \\  c{\\left(\\infty \\right)} = - δ \\left(\\frac{δ - 1 + \\frac{1}{β}}{α}\\right)^{\\frac{1}{α - 1}} + \\left(\\frac{δ - 1 + \\frac{1}{β}}{α}\\right)^{\\frac{α}{α - 1}}, \\  q{\\left(\\infty \\right)} = \\left(\\frac{δ - 1 + \\frac{1}{β}}{α}\\right)^{\\frac{α}{α - 1}}\\right]\n"
     ]
    }
   ],
   "source": [
    "print(steady_states_latex)"
   ]
  },
  {
   "cell_type": "markdown",
   "metadata": {},
   "source": [
    "$$\\left[ k{\\left(\\infty \\right)} = \\left(\\frac{δ - 1 + \\frac{1}{β}}{α}\\right)^{\\frac{1}{α - 1}}, \\  z{\\left(\\infty \\right)} = 0, \\  c{\\left(\\infty \\right)} = - δ \\left(\\frac{δ - 1 + \\frac{1}{β}}{α}\\right)^{\\frac{1}{α - 1}} + \\left(\\frac{δ - 1 + \\frac{1}{β}}{α}\\right)^{\\frac{α}{α - 1}}, \\  q{\\left(\\infty \\right)} = \\left(\\frac{δ - 1 + \\frac{1}{β}}{α}\\right)^{\\frac{α}{α - 1}}\\right]$$"
   ]
  },
  {
   "cell_type": "markdown",
   "metadata": {},
   "source": []
  }
 ],
 "metadata": {
  "kernelspec": {
   "display_name": "Python 3",
   "language": "python",
   "name": "python3"
  },
  "language_info": {
   "codemirror_mode": {
    "name": "ipython",
    "version": 3
   },
   "file_extension": ".py",
   "mimetype": "text/x-python",
   "name": "python",
   "nbconvert_exporter": "python",
   "pygments_lexer": "ipython3",
   "version": "3.11.6"
  }
 },
 "nbformat": 4,
 "nbformat_minor": 5
}
