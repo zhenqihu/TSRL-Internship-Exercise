{
 "cells": [
  {
   "cell_type": "code",
   "execution_count": 1,
   "outputs": [],
   "source": [
    "from sympy import symbols, exp, Matrix, Function, Eq, oo\n",
    "import os\n",
    "from pathlib import Path\n",
    "import DifferentiableStateSpaceModels\n",
    "from DifferentiableStateSpaceModels import *\n",
    "import pandas as pd"
   ],
   "metadata": {
    "collapsed": false,
    "ExecuteTime": {
     "end_time": "2023-11-28T18:58:39.483846Z",
     "start_time": "2023-11-28T18:58:39.047123Z"
    }
   },
   "id": "9fb4088f4cb5cabd"
  },
  {
   "cell_type": "code",
   "execution_count": 2,
   "id": "initial_id",
   "metadata": {
    "collapsed": true,
    "ExecuteTime": {
     "end_time": "2023-11-28T18:58:40.340012Z",
     "start_time": "2023-11-28T18:58:40.284785Z"
    }
   },
   "outputs": [],
   "source": [
    "# Define the symbols\n",
    "α, β, ρ, δ, σ, Ω_1 = symbols('α β ρ δ σ Ω_1')\n",
    "t = symbols('t', integer=True)\n",
    "k, z, c, q = symbols('k z c q', cls=Function)\n",
    "\n",
    "# Define the states, controls, and parameters\n",
    "x = [k, z]  # states\n",
    "y = [c, q]  # controls\n",
    "p = [α, β, ρ, δ, σ, Ω_1]  # parameters\n",
    "\n",
    "# Define the system of model equations\n",
    "H = [1 / c(t) - (β / c(t+1)) * (α * exp(z(t+1)) * k(t+1)**(α - 1) + (1 - δ)),\n",
    "     c(t) + k(t+1) - (1 - δ) * k(t) - q(t),\n",
    "     q(t) - exp(z(t)) * k(t)**α,\n",
    "     z(t+1) - ρ * z(t)]\n",
    "\n",
    "# Define the steady states\n",
    "steady_states = [Eq(k(oo), (((1 / β) - 1 + δ) / α)**(1 / (α - 1))),\n",
    "                 Eq(z(oo), 0),\n",
    "                 Eq(c(oo), (((1 / β) - 1 + δ) / α)**(α / (α - 1)) -\n",
    "                    δ * (((1 / β) - 1 + δ) / α)**(1 / (α - 1))),\n",
    "                 Eq(q(oo), (((1 / β) - 1 + δ) / α)**(α / (α - 1)))]\n",
    "\n",
    "# Define the matrix for the 1 shock\n",
    "Γ = Matrix([σ])\n",
    "\n",
    "# Define the n_x * n_ϵ matrix\n",
    "η = Matrix([0, -1])\n",
    "\n",
    "# Define the observation matrix\n",
    "Q = Matrix([[1.0, 0, 0, 0],\n",
    "            [0, 0, 1.0, 0]])\n",
    "\n",
    "# Define the diagonal cholesky of covariance matrix for observation noise\n",
    "Ω = [Ω_1, Ω_1]\n",
    "\n",
    "# Generates the files and includes if required.  If the model is already created, then just loads\n",
    "overwrite_model_cache  = True"
   ]
  },
  {
   "cell_type": "code",
   "execution_count": 3,
   "outputs": [],
   "source": [
    "def default_model_cache_location():\n",
    "    \"\"\"\n",
    "    Returns the default location for the model cache\n",
    "    :return: path of a folder joining the package directory and \".function_cache\"\n",
    "    \"\"\"\n",
    "    return os.path.join(Path(DifferentiableStateSpaceModels.__file__).parent.absolute(), \".function_cache\")"
   ],
   "metadata": {
    "collapsed": false,
    "ExecuteTime": {
     "end_time": "2023-11-28T18:58:41.474113Z",
     "start_time": "2023-11-28T18:58:41.469383Z"
    }
   },
   "id": "fe3e51c253b55a1"
  },
  {
   "cell_type": "code",
   "execution_count": 4,
   "outputs": [
    {
     "data": {
      "text/plain": "'/Users/zhenqihu/Projects/Childers et al. (2022)/TSRL-Internship-Exercise/DifferentiableStateSpaceModels/.function_cache'"
     },
     "execution_count": 4,
     "metadata": {},
     "output_type": "execute_result"
    }
   ],
   "source": [
    "default_model_cache_location()"
   ],
   "metadata": {
    "collapsed": false,
    "ExecuteTime": {
     "end_time": "2023-11-28T18:58:42.731069Z",
     "start_time": "2023-11-28T18:58:42.726001Z"
    }
   },
   "id": "4588a9610e4e8f3d"
  },
  {
   "cell_type": "code",
   "execution_count": 5,
   "outputs": [],
   "source": [
    "model_cache_location = default_model_cache_location()\n",
    "model_name = \"RBC\"\n",
    "# path of the module to be saved in the cache\n",
    "module_cache_path = os.path.join(model_cache_location, model_name + \".py\")"
   ],
   "metadata": {
    "collapsed": false,
    "ExecuteTime": {
     "end_time": "2023-11-28T18:58:43.905703Z",
     "start_time": "2023-11-28T18:58:43.898335Z"
    }
   },
   "id": "915098ba51f66d35"
  },
  {
   "cell_type": "code",
   "execution_count": 6,
   "outputs": [
    {
     "data": {
      "text/plain": "'/Users/zhenqihu/Projects/Childers et al. (2022)/TSRL-Internship-Exercise/DifferentiableStateSpaceModels/.function_cache/RBC.py'"
     },
     "execution_count": 6,
     "metadata": {},
     "output_type": "execute_result"
    }
   ],
   "source": [
    "module_cache_path"
   ],
   "metadata": {
    "collapsed": false,
    "ExecuteTime": {
     "end_time": "2023-11-28T18:58:46.634887Z",
     "start_time": "2023-11-28T18:58:46.628056Z"
    }
   },
   "id": "72030a5f51b727ee"
  },
  {
   "cell_type": "code",
   "execution_count": 7,
   "outputs": [],
   "source": [
    "print_level = 1\n",
    "# only load cache if the module isn't already loaded in memory\n",
    "if (str(model_name) in globals()) and (not overwrite_model_cache):\n",
    "    if print_level > 0:\n",
    "        print(f\"Using existing module {model_name}\\n\")"
   ],
   "metadata": {
    "collapsed": false,
    "ExecuteTime": {
     "end_time": "2023-11-28T18:58:48.544967Z",
     "start_time": "2023-11-28T18:58:48.539775Z"
    }
   },
   "id": "ced59a15faf8077e"
  },
  {
   "cell_type": "code",
   "execution_count": 8,
   "outputs": [],
   "source": [
    "# if path already exists\n",
    "if (os.path.exists(module_cache_path)) and (not overwrite_model_cache):\n",
    "    # path exists and not overwriting\n",
    "    if print_level > 0:\n",
    "        print(f\"Model already generated at {module_cache_path}\\n\")"
   ],
   "metadata": {
    "collapsed": false,
    "ExecuteTime": {
     "end_time": "2023-11-28T18:58:49.391738Z",
     "start_time": "2023-11-28T18:58:49.384227Z"
    }
   },
   "id": "fc2eddd119a57edf"
  },
  {
   "cell_type": "code",
   "execution_count": 9,
   "outputs": [],
   "source": [
    "    n_y = len(y)\n",
    "    n_x = len(x)\n",
    "    n = n_y + n_x\n",
    "    n_p = len(p)\n",
    "    assert n_p > 0  # code written to have at least one parameter\n",
    "    n_ϵ = η.shape[1]\n",
    "    n_z = n if Q is None else Q.shape[0]"
   ],
   "metadata": {
    "collapsed": false,
    "ExecuteTime": {
     "end_time": "2023-11-28T18:58:50.687075Z",
     "start_time": "2023-11-28T18:58:50.680996Z"
    }
   },
   "id": "7751965feacb443e"
  },
  {
   "cell_type": "code",
   "execution_count": 10,
   "outputs": [],
   "source": [
    "    # Get the markovian variables and create substitutions\n",
    "    y_subs = pd.DataFrame([make_substitutions(t, y_i) for y_i in y])\n",
    "    x_subs = pd.DataFrame([make_substitutions(t, x_i) for x_i in x])\n",
    "    y = y_subs['var'].values\n",
    "    x = x_subs['var'].values\n",
    "    y_p = y_subs['var_p'].values\n",
    "    x_p = x_subs['var_p'].values\n",
    "    y_ss = y_subs['var_ss'].values\n",
    "    x_ss = x_subs['var_ss'].values\n",
    "    subs = pd.concat([x_subs, y_subs]).reset_index(drop=True)\n",
    "    all_to_markov = pd.concat([subs['markov_t'], subs['markov_tp1'], subs['markov_inf']], axis=1).values\n",
    "    all_to_var = pd.concat([subs['tp1_to_var'], subs['inf_to_var']], axis=1).values"
   ],
   "metadata": {
    "collapsed": false,
    "ExecuteTime": {
     "end_time": "2023-11-28T18:58:51.914044Z",
     "start_time": "2023-11-28T18:58:51.909260Z"
    }
   },
   "id": "a00708525655f08b"
  },
  {
   "cell_type": "code",
   "execution_count": 11,
   "outputs": [
    {
     "data": {
      "text/plain": "array([[(k(t), k), (k(t + 1), k_p), (k(oo), k_ss)],\n       [(z(t), z), (z(t + 1), z_p), (z(oo), z_ss)],\n       [(c(t), c), (c(t + 1), c_p), (c(oo), c_ss)],\n       [(q(t), q), (q(t + 1), q_p), (q(oo), q_ss)]], dtype=object)"
     },
     "execution_count": 11,
     "metadata": {},
     "output_type": "execute_result"
    }
   ],
   "source": [
    "all_to_markov"
   ],
   "metadata": {
    "collapsed": false,
    "ExecuteTime": {
     "end_time": "2023-11-28T18:58:57.891697Z",
     "start_time": "2023-11-28T18:58:57.886640Z"
    }
   },
   "id": "94fb5733c73310c3"
  },
  {
   "cell_type": "code",
   "execution_count": null,
   "outputs": [],
   "source": [],
   "metadata": {
    "collapsed": false
   },
   "id": "c1e2053399e62c26"
  }
 ],
 "metadata": {
  "kernelspec": {
   "display_name": "Python 3",
   "language": "python",
   "name": "python3"
  },
  "language_info": {
   "codemirror_mode": {
    "name": "ipython",
    "version": 2
   },
   "file_extension": ".py",
   "mimetype": "text/x-python",
   "name": "python",
   "nbconvert_exporter": "python",
   "pygments_lexer": "ipython2",
   "version": "2.7.6"
  }
 },
 "nbformat": 4,
 "nbformat_minor": 5
}
