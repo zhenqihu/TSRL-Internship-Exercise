{
 "cells": [
  {
   "cell_type": "code",
   "execution_count": 1,
   "id": "9fb4088f4cb5cabd",
   "metadata": {
    "collapsed": false,
    "ExecuteTime": {
     "end_time": "2023-12-25T20:49:35.938931Z",
     "start_time": "2023-12-25T20:49:35.587948Z"
    }
   },
   "outputs": [],
   "source": [
    "import os\n",
    "from pathlib import Path\n",
    "import DifferentiableStateSpaceModels\n",
    "from DifferentiableStateSpaceModels import *\n",
    "from sympy import *\n",
    "from copy import deepcopy\n",
    "\n",
    "init_printing()  # for nice sympy expressions in jupyter"
   ]
  },
  {
   "cell_type": "code",
   "execution_count": 2,
   "id": "initial_id",
   "metadata": {
    "collapsed": true,
    "jupyter": {
     "outputs_hidden": true
    },
    "ExecuteTime": {
     "end_time": "2023-12-25T20:49:35.986074Z",
     "start_time": "2023-12-25T20:49:35.941366Z"
    }
   },
   "outputs": [],
   "source": [
    "# Define the symbols\n",
    "α, β, ρ, δ, σ, Ω_1 = symbols('α β ρ δ σ Ω_1')  # parameters\n",
    "t = symbols('t', integer=True)  # time index (integer)\n",
    "k, z, c, q = symbols('k z c q', cls=Function)  # undefined functions\n",
    "\n",
    "# Define the states, controls, and parameters\n",
    "x = [k, z]  # states - list of functions\n",
    "y = [c, q]  # controls - list of functions\n",
    "p = [α, β, ρ, δ, σ, Ω_1]  # parameters - list of symbols\n",
    "\n",
    "# Define the system of model equations - list of expressions\n",
    "H = [\n",
    "    1 / c(t) - (β / c(t + 1)) * (α * exp(z(t + 1)) * k(t + 1)**(α - 1) + (1 - δ)),\n",
    "    c(t) + k(t + 1) - (1 - δ) * k(t) - q(t),\n",
    "    q(t) - exp(z(t)) * k(t)**α,\n",
    "    z(t + 1) - ρ * z(t)\n",
    "]\n",
    "\n",
    "# Define the steady states - list of equations\n",
    "steady_states = [\n",
    "    Eq(k(oo), (((1 / β) - 1 + δ) / α)**(1 / (α - 1))),\n",
    "    Eq(z(oo), 0),\n",
    "    Eq(c(oo), (((1 / β) - 1 + δ) / α)**(α / (α - 1)) - δ * (((1 / β) - 1 + δ) / α)**(1 / (α - 1))),\n",
    "    Eq(q(oo), (((1 / β) - 1 + δ) / α)**(α / (α - 1)))\n",
    "]\n",
    "\n",
    "# Define the matrix for the 1 shock\n",
    "Γ = Matrix([σ])  # DenseMatrix\n",
    "\n",
    "# Define the n_x * n_ϵ matrix\n",
    "η = Matrix([0, -1])  # DenseMatrix\n",
    "\n",
    "# Define the observation matrix\n",
    "Q = Matrix([[1.0, 0, 0, 0], [0, 0, 1.0, 0]])  # DenseMatrix\n",
    "\n",
    "# Define the diagonal cholesky of covariance matrix for observation noise\n",
    "Ω = [Ω_1, Ω_1]  # list of symbols\n",
    "\n",
    "# Generates the files and includes if required.  If the model is already created, then just loads\n",
    "overwrite_model_cache = True"
   ]
  },
  {
   "cell_type": "code",
   "execution_count": 3,
   "id": "b0d66bbfe52d7d96",
   "metadata": {
    "ExecuteTime": {
     "end_time": "2023-12-25T20:49:35.992271Z",
     "start_time": "2023-12-25T20:49:35.986748Z"
    }
   },
   "outputs": [],
   "source": [
    "def default_model_cache_location():\n",
    "    \"\"\"\n",
    "    Returns the default location for the model cache\n",
    "    :return: path of a folder joining the package directory and \".function_cache\"\n",
    "    \"\"\"\n",
    "    return os.path.join(Path(DifferentiableStateSpaceModels.__file__).parent.absolute(), \".function_cache\")\n",
    "\n",
    "\n",
    "max_order = 2\n",
    "steady_states_iv = None\n",
    "model_name = \"rbc\"\n",
    "model_cache_location = default_model_cache_location()\n",
    "print_level = 1\n",
    "skipzeros = True\n",
    "fillzeros = False\n",
    "simplify_Ψ = True\n",
    "do_simplify = True\n",
    "simplify_p = True"
   ]
  },
  {
   "cell_type": "code",
   "execution_count": 4,
   "id": "fe3e51c253b55a1",
   "metadata": {
    "collapsed": false,
    "ExecuteTime": {
     "end_time": "2023-12-25T20:49:35.993126Z",
     "start_time": "2023-12-25T20:49:35.989883Z"
    }
   },
   "outputs": [],
   "source": [
    "# Check inputs\n",
    "assert max_order in [1, 2], \"max_order must be 1 or 2\"\n",
    "\n",
    "# path to save the model modules\n",
    "module_cache_path = os.path.join(\n",
    "    model_cache_location, model_name, \"__init__.py\")\n",
    "\n",
    "# only load cache if the module isn't already loaded in memory\n",
    "if (str(model_name) in globals()) and (not overwrite_model_cache):\n",
    "    if print_level > 0:\n",
    "        print(f\"Using existing module {model_name}\\n\")\n",
    "\n",
    "# if path already exists\n",
    "if (os.path.exists(module_cache_path)) and (not overwrite_model_cache):\n",
    "    # path exists and not overwriting\n",
    "    if print_level > 0:\n",
    "        print(f\"Model already generated at {module_cache_path}\\n\")"
   ]
  },
  {
   "cell_type": "code",
   "execution_count": 5,
   "id": "7751965feacb443e",
   "metadata": {
    "collapsed": false,
    "ExecuteTime": {
     "end_time": "2023-12-25T20:49:35.999381Z",
     "start_time": "2023-12-25T20:49:35.994288Z"
    }
   },
   "outputs": [],
   "source": [
    "    # model structure\n",
    "    n_y = len(y)  # number of control variables\n",
    "    n_x = len(x)  # number of state variables\n",
    "    n = n_y + n_x  # number of all variables\n",
    "    n_p = len(p)  # number of parameters\n",
    "    assert n_p > 0, \"At least one parameter must be defined\"\n",
    "    n_ϵ = η.shape[1]  # number of shocks\n",
    "    n_z = n if Q is None else Q.shape[0]  # number of observables"
   ]
  },
  {
   "cell_type": "code",
   "execution_count": 6,
   "id": "a00708525655f08b",
   "metadata": {
    "collapsed": false,
    "ExecuteTime": {
     "end_time": "2023-12-25T20:49:36.000964Z",
     "start_time": "2023-12-25T20:49:35.998060Z"
    }
   },
   "outputs": [],
   "source": [
    "    # Get the markovian variables and create substitutions\n",
    "    y_subs = [make_substitutions(t, y_i) for y_i in y]\n",
    "    x_subs = [make_substitutions(t, x_i) for x_i in x]\n",
    "    y = Matrix([y_i['var'] for y_i in y_subs])\n",
    "    x = Matrix([x_i['var'] for x_i in x_subs])\n",
    "    y_p = Matrix([y_i['var_p'] for y_i in y_subs])\n",
    "    x_p = Matrix([x_i['var_p'] for x_i in x_subs])\n",
    "    y_ss = Matrix([y_i['var_ss'] for y_i in y_subs])\n",
    "    x_ss = Matrix([x_i['var_ss'] for x_i in x_subs])\n",
    "    subs = x_subs + y_subs\n",
    "    all_to_markov = ([sub['markov_t'] for sub in subs] +\n",
    "                     [sub['markov_tp1'] for sub in subs] + [sub['markov_inf'] for sub in subs])\n",
    "    all_to_var = [sub['tp1_to_var'] for sub in subs] + [sub['inf_to_var'] for sub in subs]"
   ]
  },
  {
   "cell_type": "code",
   "execution_count": 7,
   "id": "c1e2053399e62c26",
   "metadata": {
    "collapsed": false,
    "ExecuteTime": {
     "end_time": "2023-12-25T20:49:36.006461Z",
     "start_time": "2023-12-25T20:49:36.000576Z"
    }
   },
   "outputs": [],
   "source": [
    "def equations_to_dict(equations):\n",
    "    return {str(eq.lhs.subs(all_to_markov).subs(all_to_var)): eq.rhs.subs(all_to_markov) for eq in equations}"
   ]
  },
  {
   "cell_type": "code",
   "execution_count": 8,
   "id": "aa57813ca4446502",
   "metadata": {
    "ExecuteTime": {
     "end_time": "2023-12-25T20:49:36.007769Z",
     "start_time": "2023-12-25T20:49:36.003172Z"
    }
   },
   "outputs": [
    {
     "name": "stdout",
     "output_type": "stream",
     "text": [
      "\u001B[96mBuilding model up to order 2\u001B[0m\n"
     ]
    }
   ],
   "source": [
    "    # Begin building the model\n",
    "    if print_level > 0:\n",
    "        print(\"\\033[96mBuilding model up to order {}\\033[0m\".format(max_order))\n",
    "    if print_level > 1:\n",
    "        print(\"\\033[96mdo_simplify = {}, simplify_p = {}, simplify Ψ = {}\\033[0m\".format(\n",
    "            do_simplify, simplify_p, simplify_Ψ))"
   ]
  },
  {
   "cell_type": "code",
   "execution_count": 9,
   "id": "22719fe4afda6a0e",
   "metadata": {
    "ExecuteTime": {
     "end_time": "2023-12-25T20:49:36.028860Z",
     "start_time": "2023-12-25T20:49:36.012699Z"
    }
   },
   "outputs": [],
   "source": [
    "    # steady state variables\n",
    "    y_bar = None if steady_states is None else Matrix(order_vector_by_symbols(\n",
    "        equations_to_dict(steady_states), [y_sub['symbol'] for y_sub in y_subs]))\n",
    "    x_bar = None if steady_states is None else Matrix(order_vector_by_symbols(\n",
    "        equations_to_dict(steady_states), [x_sub['symbol'] for x_sub in x_subs]))\n",
    "    y_bar_iv = None if steady_states_iv is None else Matrix(order_vector_by_symbols(\n",
    "        equations_to_dict(steady_states_iv), [y_sub['symbol'] for y_sub in y_subs]))\n",
    "    x_bar_iv = None if steady_states_iv is None else Matrix(order_vector_by_symbols(\n",
    "        equations_to_dict(steady_states_iv), [x_sub['symbol'] for x_sub in x_subs]))"
   ]
  },
  {
   "cell_type": "code",
   "execution_count": 10,
   "id": "1760154fce7c9f5",
   "metadata": {
    "ExecuteTime": {
     "end_time": "2023-12-25T20:49:36.029955Z",
     "start_time": "2023-12-25T20:49:36.018083Z"
    }
   },
   "outputs": [],
   "source": [
    "    # Get any latex generated stuff we wish for pretty display of the model\n",
    "    H_latex = latex(H)\n",
    "    steady_states_latex = latex(steady_states)\n",
    "    steady_states_iv_latex = latex(steady_states_iv) if steady_states_iv is not None else None"
   ]
  },
  {
   "cell_type": "code",
   "execution_count": 11,
   "id": "c81b306eda38c61",
   "metadata": {
    "ExecuteTime": {
     "end_time": "2023-12-25T20:49:36.032988Z",
     "start_time": "2023-12-25T20:49:36.031474Z"
    }
   },
   "outputs": [],
   "source": [
    "    # steady state requires differentiation after substitution, and wrt [y; x]\n",
    "    H = [expr.subs(all_to_markov) for expr in H]\n",
    "    H_bar = deepcopy(H)\n",
    "    H_bar = substitute_and_simplify(H_bar, all_to_var)"
   ]
  },
  {
   "cell_type": "code",
   "execution_count": 12,
   "id": "185984262a93c31c",
   "metadata": {
    "ExecuteTime": {
     "end_time": "2023-12-25T20:49:36.059913Z",
     "start_time": "2023-12-25T20:49:36.033724Z"
    }
   },
   "outputs": [],
   "source": [
    "    # Differentiate the system of equations with respect to state/control variables\n",
    "    if print_level > 2:\n",
    "        print(\"\\033[96mDifferentiating H\\033[0m\")\n",
    "    H_bar_w = nested_differentiate(H_bar, y.col_join(x))\n",
    "    H_yp = nested_differentiate(H, y_p)\n",
    "    H_y = nested_differentiate(H, y)\n",
    "    H_xp = nested_differentiate(H, x_p)\n",
    "    H_x = nested_differentiate(H, x)"
   ]
  },
  {
   "cell_type": "code",
   "execution_count": 13,
   "id": "8ff7f3535c7a4545",
   "metadata": {
    "ExecuteTime": {
     "end_time": "2023-12-25T20:49:36.259075Z",
     "start_time": "2023-12-25T20:49:36.084383Z"
    }
   },
   "outputs": [],
   "source": [
    "    # Calculate the Hessian for each function in H\n",
    "    if print_level > 1:\n",
    "        print(\"\\033[96mCalculating hessian\\033[0m\")\n",
    "    Ψ = [hessian(f, y_p.col_join(y).col_join(x_p).col_join(x)) for f in H]\n",
    "    if simplify_Ψ:\n",
    "        Ψ = [simplify(expr) for expr in Ψ]"
   ]
  },
  {
   "cell_type": "code",
   "execution_count": 14,
   "id": "f8f123cbbb8ebb9a",
   "metadata": {
    "ExecuteTime": {
     "end_time": "2023-12-25T20:49:36.327996Z",
     "start_time": "2023-12-25T20:49:36.266970Z"
    }
   },
   "outputs": [],
   "source": [
    "    # Differentiate the Hessian with respect to state/control variables\n",
    "    if print_level > 2 and max_order >= 2:\n",
    "        print(\"\\033[96mDifferentiating hessian\\033[0m\")\n",
    "    Ψ_yp = None if max_order < 2 else nested_differentiate(Ψ, y_p)\n",
    "    Ψ_y = None if max_order < 2 else nested_differentiate(Ψ, y)\n",
    "    Ψ_xp = None if max_order < 2 else nested_differentiate(Ψ, x_p)\n",
    "    Ψ_x = None if max_order < 2 else nested_differentiate(Ψ, x)"
   ]
  },
  {
   "cell_type": "code",
   "execution_count": 15,
   "id": "3c2597eb370c0875",
   "metadata": {
    "ExecuteTime": {
     "end_time": "2023-12-25T20:49:36.352089Z",
     "start_time": "2023-12-25T20:49:36.348019Z"
    }
   },
   "outputs": [],
   "source": [
    "if print_level > 2:\n",
    "    print(\"\\033[96mDifferentiating steady state with respect to parameters\\n\\033[0m\")\n",
    "p = Matrix(p)  # DenseMatrix\n",
    "H_p = differentiate_to_dict(H, p)\n",
    "Γ_p = differentiate_to_dict(Γ, p)\n",
    "Ω_p = differentiate_to_dict(Ω, p)\n",
    "y_bar_p = differentiate_to_dict(y_bar, p)\n",
    "x_bar_p = differentiate_to_dict(x_bar, p)"
   ]
  },
  {
   "cell_type": "code",
   "execution_count": 16,
   "id": "36d05e94d5d5eb2e",
   "metadata": {
    "ExecuteTime": {
     "end_time": "2023-12-25T20:49:36.784745Z",
     "start_time": "2023-12-25T20:49:36.354728Z"
    }
   },
   "outputs": [
    {
     "data": {
      "text/plain": "⎡   ⎛  α - 1    zₚ             α - 1  zₚ⎞ ⎤\n⎢-β⋅⎝kₚ     ⋅α⋅ℯ  ⋅log(kₚ) + kₚ     ⋅ℯ  ⎠ ⎥\n⎢─────────────────────────────────────────⎥\n⎢                    cₚ                   ⎥\n⎢                                         ⎥\n⎢                    0                    ⎥\n⎢                                         ⎥\n⎢                α  z                     ⎥\n⎢              -k ⋅ℯ ⋅log(k)              ⎥\n⎢                                         ⎥\n⎣                    0                    ⎦",
      "text/latex": "$\\displaystyle \\left[\\begin{matrix}- \\frac{β \\left(k_{p}^{α - 1} α e^{z_{p}} \\log{\\left(k_{p} \\right)} + k_{p}^{α - 1} e^{z_{p}}\\right)}{c_{p}}\\\\0\\\\- k^{α} e^{z} \\log{\\left(k \\right)}\\\\0\\end{matrix}\\right]$"
     },
     "execution_count": 16,
     "metadata": {},
     "output_type": "execute_result"
    }
   ],
   "source": [
    "H_p['α']"
   ]
  },
  {
   "cell_type": "code",
   "execution_count": 17,
   "id": "5c9d8c85d2395ed1",
   "metadata": {
    "ExecuteTime": {
     "end_time": "2023-12-25T20:49:36.800154Z",
     "start_time": "2023-12-25T20:49:36.794733Z"
    }
   },
   "outputs": [],
   "source": [
    "if print_level > 2:\n",
    "    print(\n",
    "        \"\\033[96mDifferentiating H derivatives state with respect to parameters\\n\\033[0m\")\n",
    "\n",
    "H_yp_p = differentiate_to_dict(H_yp, p)\n",
    "H_xp_p = differentiate_to_dict(H_xp, p)\n",
    "H_y_p = differentiate_to_dict(H_y, p)\n",
    "H_x_p = differentiate_to_dict(H_x, p)"
   ]
  },
  {
   "cell_type": "code",
   "execution_count": 18,
   "id": "aa56af8e276fce31",
   "metadata": {
    "ExecuteTime": {
     "end_time": "2023-12-25T20:49:37.167532Z",
     "start_time": "2023-12-25T20:49:36.797546Z"
    }
   },
   "outputs": [
    {
     "data": {
      "text/plain": "⎡0  0 ⎤\n⎢     ⎥\n⎢0  0 ⎥\n⎢     ⎥\n⎢0  0 ⎥\n⎢     ⎥\n⎣0  -1⎦",
      "image/png": "[encoded data removed]",
      "text/latex": "$\\displaystyle \\left[\\begin{matrix}0 & 0\\\\0 & 0\\\\0 & 0\\\\0 & -1\\end{matrix}\\right]$"
     },
     "execution_count": 18,
     "metadata": {},
     "output_type": "execute_result"
    }
   ],
   "source": [
    "H_x_p['ρ']"
   ]
  },
  {
   "cell_type": "code",
   "execution_count": 19,
   "id": "2534e8c293e1c83c",
   "metadata": {
    "ExecuteTime": {
     "end_time": "2023-12-25T20:49:37.206849Z",
     "start_time": "2023-12-25T20:49:37.198867Z"
    }
   },
   "outputs": [],
   "source": [
    "if print_level > 2 and max_order >= 2:\n",
    "    print(\"\\033[96mDifferentiating hessian with respect to parameters\\n\\033[0m\")\n",
    "Ψ_p = None if max_order < 2 else differentiate_to_dict(Ψ, p)"
   ]
  },
  {
   "cell_type": "code",
   "execution_count": 20,
   "id": "3e7eeccbda366864",
   "metadata": {
    "ExecuteTime": {
     "end_time": "2023-12-25T20:49:37.381500Z",
     "start_time": "2023-12-25T20:49:37.248697Z"
    }
   },
   "outputs": [
    {
     "name": "stdout",
     "output_type": "stream",
     "text": [
      "\u001B[96mSubstituting and simplifying\n",
      "\u001B[0m\n"
     ]
    }
   ],
   "source": [
    "if print_level > 0:\n",
    "    print(\"\\033[96mSubstituting and simplifying\\n\\033[0m\")\n",
    "\n",
    "H = substitute_and_simplify(H, all_to_markov, do_simplify)\n",
    "H_yp = substitute_and_simplify(H_yp, all_to_var, do_simplify)\n",
    "H_xp = substitute_and_simplify(H_xp, all_to_var, do_simplify)\n",
    "H_x = substitute_and_simplify(H_x, all_to_var, do_simplify)\n",
    "H_y = substitute_and_simplify(H_y, all_to_var, do_simplify)\n",
    "Ψ = substitute_and_simplify(Ψ, all_to_var, do_simplify)"
   ]
  },
  {
   "cell_type": "code",
   "execution_count": 21,
   "id": "59b0e65724505501",
   "metadata": {
    "ExecuteTime": {
     "end_time": "2023-12-25T20:49:37.625604Z",
     "start_time": "2023-12-25T20:49:37.392797Z"
    }
   },
   "outputs": [
    {
     "data": {
      "text/plain": "⎡⎡    ⎛   α - 1    z        ⎞                  α - 2              z           \n⎢⎢2⋅β⋅⎝- k     ⋅α⋅ℯ  + δ - 1⎠                 k     ⋅α⋅β⋅(α - 1)⋅ℯ            \n⎢⎢───────────────────────────  0  0   0       ─────────────────────           \n⎢⎢              3                                        2                    \n⎢⎢             c                                        c                     \n⎢⎢                                                                            \n⎢⎢             0               0  0   0                 0                     \n⎢⎢                                                                            \n⎢⎢                                2                                           \n⎢⎢             0               0  ──  0                 0                     \n⎢⎢                                 3                                          \n⎢⎢                                c                                           \n⎢⎢                                                                            \n⎢⎢             0               0  0   0                 0                     \n⎢⎢                                                                            \n⎢⎢    α - 2              z                 α - 3                      z    α -\n⎢⎢   k     ⋅α⋅β⋅(α - 1)⋅ℯ                -k     ⋅α⋅β⋅(α - 2)⋅(α - 1)⋅ℯ    k   \n⎢⎢   ─────────────────────     0  0   0  ───────────────────────────────  ────\n⎢⎢              2                                       c                     \n⎢⎢             c                                                              \n⎢⎢                                                                            \n⎢⎢        α - 1      z                         α - 2              z           \n⎢⎢       k     ⋅α⋅β⋅ℯ                         k     ⋅α⋅β⋅(1 - α)⋅ℯ           -\n⎢⎢       ─────────────         0  0   0       ─────────────────────          ─\n⎢⎢              2                                       c                     \n⎢⎢             c                                                              \n⎢⎢                                                                            \n⎢⎢             0               0  0   0                 0                     \n⎢⎢                                                                            \n⎣⎣             0               0  0   0                 0                     \n\n α - 1      z          ⎤                                                      \nk     ⋅α⋅β⋅ℯ           ⎥                                                      \n─────────────      0  0⎥                                                      \n       2               ⎥                                                      \n      c                ⎥                                                      \n                       ⎥                                                      \n      0            0  0⎥                                                      \n                       ⎥                            ⎡0  0  0  0  0  0         \n                       ⎥  ⎡0  0  0  0  0  0  0  0⎤  ⎢                         \n      0            0  0⎥  ⎢                      ⎥  ⎢0  0  0  0  0  0         \n                       ⎥  ⎢0  0  0  0  0  0  0  0⎥  ⎢                         \n                       ⎥  ⎢                      ⎥  ⎢0  0  0  0  0  0         \n                       ⎥  ⎢0  0  0  0  0  0  0  0⎥  ⎢                         \n      0            0  0⎥  ⎢                      ⎥  ⎢0  0  0  0  0  0         \n                       ⎥  ⎢0  0  0  0  0  0  0  0⎥  ⎢                         \n 2              z      ⎥, ⎢                      ⎥, ⎢0  0  0  0  0  0         \n  ⋅α⋅β⋅(1 - α)⋅ℯ       ⎥  ⎢0  0  0  0  0  0  0  0⎥  ⎢                         \n─────────────────  0  0⎥  ⎢                      ⎥  ⎢0  0  0  0  0  0         \n      c                ⎥  ⎢0  0  0  0  0  0  0  0⎥  ⎢                         \n                       ⎥  ⎢                      ⎥  ⎢                   α - 2 \n                       ⎥  ⎢0  0  0  0  0  0  0  0⎥  ⎢0  0  0  0  0  0  k     ⋅\n α - 1      z          ⎥  ⎢                      ⎥  ⎢                         \nk     ⋅α⋅β⋅ℯ           ⎥  ⎣0  0  0  0  0  0  0  0⎦  ⎢                       α \n──────────────     0  0⎥                            ⎣0  0  0  0  0  0     -k  \n      c                ⎥                                                      \n                       ⎥                                                      \n                       ⎥                                                      \n      0            0  0⎥                                                      \n                       ⎥                                                      \n      0            0  0⎦                                                      \n\n                                                     ⎤\n                                                     ⎥\n                                                     ⎥\n                                                     ⎥\n                                                     ⎥\n                                                     ⎥\n                                                     ⎥\n  0                0      ⎤                          ⎥\n                          ⎥  ⎡0  0  0  0  0  0  0  0⎤⎥\n  0                0      ⎥  ⎢                      ⎥⎥\n                          ⎥  ⎢0  0  0  0  0  0  0  0⎥⎥\n  0                0      ⎥  ⎢                      ⎥⎥\n                          ⎥  ⎢0  0  0  0  0  0  0  0⎥⎥\n  0                0      ⎥  ⎢                      ⎥⎥\n                          ⎥  ⎢0  0  0  0  0  0  0  0⎥⎥\n  0                0      ⎥, ⎢                      ⎥⎥\n                          ⎥  ⎢0  0  0  0  0  0  0  0⎥⎥\n  0                0      ⎥  ⎢                      ⎥⎥\n                          ⎥  ⎢0  0  0  0  0  0  0  0⎥⎥\n           z    α - 1    z⎥  ⎢                      ⎥⎥\nα⋅(1 - α)⋅ℯ   -k     ⋅α⋅ℯ ⎥  ⎢0  0  0  0  0  0  0  0⎥⎥\n                          ⎥  ⎢                      ⎥⎥\n- 1    z           α  z   ⎥  ⎣0  0  0  0  0  0  0  0⎦⎥\n   ⋅α⋅ℯ          -k ⋅ℯ    ⎦                          ⎥\n                                                     ⎥\n                                                     ⎥\n                                                     ⎥\n                                                     ⎥\n                                                     ⎥\n                                                     ⎦",
      "text/latex": "$\\displaystyle \\left[ \\left[\\begin{matrix}\\frac{2 β \\left(- k^{α - 1} α e^{z} + δ - 1\\right)}{c^{3}} & 0 & 0 & 0 & \\frac{k^{α - 2} α β \\left(α - 1\\right) e^{z}}{c^{2}} & \\frac{k^{α - 1} α β e^{z}}{c^{2}} & 0 & 0\\\\0 & 0 & 0 & 0 & 0 & 0 & 0 & 0\\\\0 & 0 & \\frac{2}{c^{3}} & 0 & 0 & 0 & 0 & 0\\\\0 & 0 & 0 & 0 & 0 & 0 & 0 & 0\\\\\\frac{k^{α - 2} α β \\left(α - 1\\right) e^{z}}{c^{2}} & 0 & 0 & 0 & - \\frac{k^{α - 3} α β \\left(α - 2\\right) \\left(α - 1\\right) e^{z}}{c} & \\frac{k^{α - 2} α β \\left(1 - α\\right) e^{z}}{c} & 0 & 0\\\\\\frac{k^{α - 1} α β e^{z}}{c^{2}} & 0 & 0 & 0 & \\frac{k^{α - 2} α β \\left(1 - α\\right) e^{z}}{c} & - \\frac{k^{α - 1} α β e^{z}}{c} & 0 & 0\\\\0 & 0 & 0 & 0 & 0 & 0 & 0 & 0\\\\0 & 0 & 0 & 0 & 0 & 0 & 0 & 0\\end{matrix}\\right], \\  \\left[\\begin{matrix}0 & 0 & 0 & 0 & 0 & 0 & 0 & 0\\\\0 & 0 & 0 & 0 & 0 & 0 & 0 & 0\\\\0 & 0 & 0 & 0 & 0 & 0 & 0 & 0\\\\0 & 0 & 0 & 0 & 0 & 0 & 0 & 0\\\\0 & 0 & 0 & 0 & 0 & 0 & 0 & 0\\\\0 & 0 & 0 & 0 & 0 & 0 & 0 & 0\\\\0 & 0 & 0 & 0 & 0 & 0 & 0 & 0\\\\0 & 0 & 0 & 0 & 0 & 0 & 0 & 0\\end{matrix}\\right], \\  \\left[\\begin{matrix}0 & 0 & 0 & 0 & 0 & 0 & 0 & 0\\\\0 & 0 & 0 & 0 & 0 & 0 & 0 & 0\\\\0 & 0 & 0 & 0 & 0 & 0 & 0 & 0\\\\0 & 0 & 0 & 0 & 0 & 0 & 0 & 0\\\\0 & 0 & 0 & 0 & 0 & 0 & 0 & 0\\\\0 & 0 & 0 & 0 & 0 & 0 & 0 & 0\\\\0 & 0 & 0 & 0 & 0 & 0 & k^{α - 2} α \\left(1 - α\\right) e^{z} & - k^{α - 1} α e^{z}\\\\0 & 0 & 0 & 0 & 0 & 0 & - k^{α - 1} α e^{z} & - k^{α} e^{z}\\end{matrix}\\right], \\  \\left[\\begin{matrix}0 & 0 & 0 & 0 & 0 & 0 & 0 & 0\\\\0 & 0 & 0 & 0 & 0 & 0 & 0 & 0\\\\0 & 0 & 0 & 0 & 0 & 0 & 0 & 0\\\\0 & 0 & 0 & 0 & 0 & 0 & 0 & 0\\\\0 & 0 & 0 & 0 & 0 & 0 & 0 & 0\\\\0 & 0 & 0 & 0 & 0 & 0 & 0 & 0\\\\0 & 0 & 0 & 0 & 0 & 0 & 0 & 0\\\\0 & 0 & 0 & 0 & 0 & 0 & 0 & 0\\end{matrix}\\right]\\right]$"
     },
     "execution_count": 21,
     "metadata": {},
     "output_type": "execute_result"
    }
   ],
   "source": [
    "Ψ"
   ]
  },
  {
   "cell_type": "code",
   "execution_count": 22,
   "id": "37d1ade0697573ed",
   "metadata": {
    "ExecuteTime": {
     "end_time": "2023-12-25T20:49:38.098597Z",
     "start_time": "2023-12-25T20:49:37.638073Z"
    }
   },
   "outputs": [],
   "source": [
    "if print_level > 2:\n",
    "    print(\"\\033[96mSubstituting and simplifying parameter derivatives\\n\\033[0m\")\n",
    "\n",
    "H_p = substitute_and_simplify(H_p, all_to_var, simplify_p)\n",
    "Γ_p = substitute_and_simplify(Γ_p, all_to_var, simplify_p)\n",
    "Ω_p = substitute_and_simplify(Ω_p, all_to_var, simplify_p)\n",
    "y_bar_p = substitute_and_simplify(y_bar_p, all_to_var, simplify_p)\n",
    "x_bar_p = substitute_and_simplify(x_bar_p, all_to_var, simplify_p)\n",
    "H_yp_p = substitute_and_simplify(H_yp_p, all_to_var, simplify_p)\n",
    "H_xp_p = substitute_and_simplify(H_xp_p, all_to_var, simplify_p)\n",
    "H_y_p = substitute_and_simplify(H_y_p, all_to_var, simplify_p)\n",
    "H_x_p = substitute_and_simplify(H_x_p, all_to_var, simplify_p)"
   ]
  },
  {
   "cell_type": "code",
   "execution_count": 23,
   "id": "a4304ed87ca45ac8",
   "metadata": {
    "ExecuteTime": {
     "end_time": "2023-12-25T20:49:38.304682Z",
     "start_time": "2023-12-25T20:49:38.100460Z"
    }
   },
   "outputs": [
    {
     "data": {
      "text/plain": "⎡  α - 1                   z ⎤\n⎢-k     ⋅β⋅(α⋅log(k) + 1)⋅ℯ  ⎥\n⎢────────────────────────────⎥\n⎢             c              ⎥\n⎢                            ⎥\n⎢             0              ⎥\n⎢                            ⎥\n⎢         α  z               ⎥\n⎢       -k ⋅ℯ ⋅log(k)        ⎥\n⎢                            ⎥\n⎣             0              ⎦",
      "text/latex": "$\\displaystyle \\left[\\begin{matrix}- \\frac{k^{α - 1} β \\left(α \\log{\\left(k \\right)} + 1\\right) e^{z}}{c}\\\\0\\\\- k^{α} e^{z} \\log{\\left(k \\right)}\\\\0\\end{matrix}\\right]$"
     },
     "execution_count": 23,
     "metadata": {},
     "output_type": "execute_result"
    }
   ],
   "source": [
    "H_p['α']"
   ]
  },
  {
   "cell_type": "code",
   "execution_count": 24,
   "id": "7ea2622a5d50cb2c",
   "metadata": {
    "ExecuteTime": {
     "end_time": "2023-12-25T20:49:38.623425Z",
     "start_time": "2023-12-25T20:49:38.307107Z"
    }
   },
   "outputs": [],
   "source": [
    "    # Substitute and simplify second order derivatives\n",
    "    if print_level > 1 and max_order >= 2:\n",
    "        print(\"\\033[96mSubstituting and simplifying 2nd order\\033[0m\")\n",
    "    Ψ_yp = substitute_and_simplify(Ψ_yp, all_to_var, do_simplify)\n",
    "    Ψ_y = substitute_and_simplify(Ψ_y, all_to_var, do_simplify)\n",
    "    Ψ_xp = substitute_and_simplify(Ψ_xp, all_to_var, do_simplify)\n",
    "    Ψ_x = substitute_and_simplify(Ψ_x, all_to_var, do_simplify)"
   ]
  },
  {
   "cell_type": "code",
   "execution_count": 25,
   "id": "bcf93b3ca6b0fe3d",
   "metadata": {
    "collapsed": false,
    "ExecuteTime": {
     "end_time": "2023-12-25T20:49:38.838318Z",
     "start_time": "2023-12-25T20:49:38.627076Z"
    }
   },
   "outputs": [
    {
     "data": {
      "text/plain": "⎡0  0  0  0  0  0           0                0      ⎤\n⎢                                                   ⎥\n⎢0  0  0  0  0  0           0                0      ⎥\n⎢                                                   ⎥\n⎢0  0  0  0  0  0           0                0      ⎥\n⎢                                                   ⎥\n⎢0  0  0  0  0  0           0                0      ⎥\n⎢                                                   ⎥\n⎢0  0  0  0  0  0           0                0      ⎥\n⎢                                                   ⎥\n⎢0  0  0  0  0  0           0                0      ⎥\n⎢                                                   ⎥\n⎢                   α - 2            z    α - 1    z⎥\n⎢0  0  0  0  0  0  k     ⋅α⋅(1 - α)⋅ℯ   -k     ⋅α⋅ℯ ⎥\n⎢                                                   ⎥\n⎢                       α - 1    z           α  z   ⎥\n⎣0  0  0  0  0  0     -k     ⋅α⋅ℯ          -k ⋅ℯ    ⎦",
      "text/latex": "$\\displaystyle \\left[\\begin{matrix}0 & 0 & 0 & 0 & 0 & 0 & 0 & 0\\\\0 & 0 & 0 & 0 & 0 & 0 & 0 & 0\\\\0 & 0 & 0 & 0 & 0 & 0 & 0 & 0\\\\0 & 0 & 0 & 0 & 0 & 0 & 0 & 0\\\\0 & 0 & 0 & 0 & 0 & 0 & 0 & 0\\\\0 & 0 & 0 & 0 & 0 & 0 & 0 & 0\\\\0 & 0 & 0 & 0 & 0 & 0 & k^{α - 2} α \\left(1 - α\\right) e^{z} & - k^{α - 1} α e^{z}\\\\0 & 0 & 0 & 0 & 0 & 0 & - k^{α - 1} α e^{z} & - k^{α} e^{z}\\end{matrix}\\right]$"
     },
     "execution_count": 25,
     "metadata": {},
     "output_type": "execute_result"
    }
   ],
   "source": [
    "Ψ_x[1][2]"
   ]
  },
  {
   "cell_type": "code",
   "execution_count": 26,
   "id": "823ae96ece83f148",
   "metadata": {
    "collapsed": false,
    "ExecuteTime": {
     "end_time": "2023-12-25T20:49:39.155587Z",
     "start_time": "2023-12-25T20:49:38.870948Z"
    }
   },
   "outputs": [],
   "source": [
    "    if print_level > 2 and max_order >= 2:\n",
    "        print(\"\\033[96mSubstituting and simplifying 2nd order parameter derivatives\\n\\033[0m\")\n",
    "    Ψ_p = substitute_and_simplify(Ψ_p, all_to_var, simplify_p)"
   ]
  },
  {
   "cell_type": "code",
   "execution_count": 27,
   "id": "3cd34ba751622d84",
   "metadata": {
    "collapsed": false,
    "ExecuteTime": {
     "end_time": "2023-12-25T20:49:39.373219Z",
     "start_time": "2023-12-25T20:49:39.168102Z"
    }
   },
   "outputs": [
    {
     "data": {
      "text/plain": "⎡         α - 1                   z                                      α - 2\n⎢     -2⋅k     ⋅β⋅(α⋅log(k) + 1)⋅ℯ                                      k     \n⎢     ──────────────────────────────       0  0  0                      ──────\n⎢                    3                                                        \n⎢                   c                                                         \n⎢                                                                             \n⎢                   0                      0  0  0                            \n⎢                                                                             \n⎢                   0                      0  0  0                            \n⎢                                                                             \n⎢                   0                      0  0  0                            \n⎢                                                                             \n⎢ α - 2                                 z            α - 3                    \n⎢k     ⋅β⋅(α⋅(α - 1)⋅log(k) + 2⋅α - 1)⋅ℯ            k     ⋅β⋅(-α⋅(α - 2)⋅(α - \n⎢────────────────────────────────────────  0  0  0  ──────────────────────────\n⎢                    2                                                        \n⎢                   c                                                         \n⎢                                                                             \n⎢        α - 1                   z                                       α - 2\n⎢       k     ⋅β⋅(α⋅log(k) + 1)⋅ℯ                                       k     \n⎢       ──────────────────────────         0  0  0                      ──────\n⎢                    2                                                        \n⎢                   c                                                         \n⎢                                                                             \n⎢                   0                      0  0  0                            \n⎢                                                                             \n⎣                   0                      0  0  0                            \n\n                                 z                               α - 1        \n⋅β⋅(α⋅(α - 1)⋅log(k) + 2⋅α - 1)⋅ℯ                               k     ⋅β⋅(α⋅lo\n──────────────────────────────────                              ──────────────\n              2                                                              2\n             c                                                              c \n                                                                              \n              0                                                              0\n                                                                              \n              0                                                              0\n                                                                              \n              0                                                              0\n                                                                              \n                                                      z   α - 2               \n1)⋅log(k) - α⋅(α - 2) - α⋅(α - 1) - (α - 2)⋅(α - 1))⋅ℯ   k     ⋅β⋅(-α⋅(α - 1)⋅\n───────────────────────────────────────────────────────  ─────────────────────\n              c                                                              c\n                                                                              \n                                                                              \n                                  z                              α - 1        \n⋅β⋅(-α⋅(α - 1)⋅log(k) - 2⋅α + 1)⋅ℯ                              k     ⋅β⋅(-α⋅l\n───────────────────────────────────                             ──────────────\n              c                                                              c\n                                                                              \n                                                                              \n              0                                                              0\n                                                                              \n              0                                                              0\n\n           z              ⎤\ng(k) + 1)⋅ℯ               ⎥\n────────────          0  0⎥\n                          ⎥\n                          ⎥\n                          ⎥\n                      0  0⎥\n                          ⎥\n                      0  0⎥\n                          ⎥\n                      0  0⎥\n                          ⎥\n                   z      ⎥\nlog(k) - 2⋅α + 1)⋅ℯ       ⎥\n────────────────────  0  0⎥\n                          ⎥\n                          ⎥\n                          ⎥\n            z             ⎥\nog(k) - 1)⋅ℯ              ⎥\n─────────────         0  0⎥\n                          ⎥\n                          ⎥\n                          ⎥\n                      0  0⎥\n                          ⎥\n                      0  0⎦",
      "text/latex": "$\\displaystyle \\left[\\begin{matrix}- \\frac{2 k^{α - 1} β \\left(α \\log{\\left(k \\right)} + 1\\right) e^{z}}{c^{3}} & 0 & 0 & 0 & \\frac{k^{α - 2} β \\left(α \\left(α - 1\\right) \\log{\\left(k \\right)} + 2 α - 1\\right) e^{z}}{c^{2}} & \\frac{k^{α - 1} β \\left(α \\log{\\left(k \\right)} + 1\\right) e^{z}}{c^{2}} & 0 & 0\\\\0 & 0 & 0 & 0 & 0 & 0 & 0 & 0\\\\0 & 0 & 0 & 0 & 0 & 0 & 0 & 0\\\\0 & 0 & 0 & 0 & 0 & 0 & 0 & 0\\\\\\frac{k^{α - 2} β \\left(α \\left(α - 1\\right) \\log{\\left(k \\right)} + 2 α - 1\\right) e^{z}}{c^{2}} & 0 & 0 & 0 & \\frac{k^{α - 3} β \\left(- α \\left(α - 2\\right) \\left(α - 1\\right) \\log{\\left(k \\right)} - α \\left(α - 2\\right) - α \\left(α - 1\\right) - \\left(α - 2\\right) \\left(α - 1\\right)\\right) e^{z}}{c} & \\frac{k^{α - 2} β \\left(- α \\left(α - 1\\right) \\log{\\left(k \\right)} - 2 α + 1\\right) e^{z}}{c} & 0 & 0\\\\\\frac{k^{α - 1} β \\left(α \\log{\\left(k \\right)} + 1\\right) e^{z}}{c^{2}} & 0 & 0 & 0 & \\frac{k^{α - 2} β \\left(- α \\left(α - 1\\right) \\log{\\left(k \\right)} - 2 α + 1\\right) e^{z}}{c} & \\frac{k^{α - 1} β \\left(- α \\log{\\left(k \\right)} - 1\\right) e^{z}}{c} & 0 & 0\\\\0 & 0 & 0 & 0 & 0 & 0 & 0 & 0\\\\0 & 0 & 0 & 0 & 0 & 0 & 0 & 0\\end{matrix}\\right]$"
     },
     "execution_count": 27,
     "metadata": {},
     "output_type": "execute_result"
    }
   ],
   "source": [
    "Ψ_p['α'][0]"
   ]
  },
  {
   "cell_type": "code",
   "execution_count": 28,
   "id": "e010aaad3c50e735",
   "metadata": {
    "collapsed": false,
    "ExecuteTime": {
     "end_time": "2023-12-25T20:49:39.591862Z",
     "start_time": "2023-12-25T20:49:39.386682Z"
    }
   },
   "outputs": [
    {
     "data": {
      "text/plain": "⎡⎡                                                    ⎡0  0  0  0  0  0       \n⎢⎢⎡0  0  0  0  0  0  0  0⎤  ⎡0  0  0  0  0  0  0  0⎤  ⎢                       \n⎢⎢⎢                      ⎥  ⎢                      ⎥  ⎢0  0  0  0  0  0       \n⎢⎢⎢0  0  0  0  0  0  0  0⎥  ⎢0  0  0  0  0  0  0  0⎥  ⎢                       \n⎢⎢⎢                      ⎥  ⎢                      ⎥  ⎢0  0  0  0  0  0       \n⎢⎢⎢0  0  0  0  0  0  0  0⎥  ⎢0  0  0  0  0  0  0  0⎥  ⎢                       \n⎢⎢⎢                      ⎥  ⎢                      ⎥  ⎢0  0  0  0  0  0       \n⎢⎢⎢0  0  0  0  0  0  0  0⎥  ⎢0  0  0  0  0  0  0  0⎥  ⎢                       \n⎢⎢⎢                      ⎥, ⎢                      ⎥, ⎢0  0  0  0  0  0       \n⎢⎢⎢0  0  0  0  0  0  0  0⎥  ⎢0  0  0  0  0  0  0  0⎥  ⎢                       \n⎢⎢⎢                      ⎥  ⎢                      ⎥  ⎢0  0  0  0  0  0       \n⎢⎢⎢0  0  0  0  0  0  0  0⎥  ⎢0  0  0  0  0  0  0  0⎥  ⎢                       \n⎢⎢⎢                      ⎥  ⎢                      ⎥  ⎢                    α -\n⎢⎢⎢0  0  0  0  0  0  0  0⎥  ⎢0  0  0  0  0  0  0  0⎥  ⎢0  0  0  0  0  0  -k   \n⎢⎢⎢                      ⎥  ⎢                      ⎥  ⎢                       \n⎢⎢⎣0  0  0  0  0  0  0  0⎦  ⎣0  0  0  0  0  0  0  0⎦  ⎢                       \n⎣⎣                                                    ⎣0  0  0  0  0  0      k\n\n        0                         0         ⎤                          ⎤  ⎡   \n                                            ⎥  ⎡0  0  0  0  0  0  0  0⎤⎥  ⎢⎡0 \n        0                         0         ⎥  ⎢                      ⎥⎥  ⎢⎢  \n                                            ⎥  ⎢0  0  0  0  0  0  0  0⎥⎥  ⎢⎢0 \n        0                         0         ⎥  ⎢                      ⎥⎥  ⎢⎢  \n                                            ⎥  ⎢0  0  0  0  0  0  0  0⎥⎥  ⎢⎢0 \n        0                         0         ⎥  ⎢                      ⎥⎥  ⎢⎢  \n                                            ⎥  ⎢0  0  0  0  0  0  0  0⎥⎥  ⎢⎢0 \n        0                         0         ⎥, ⎢                      ⎥⎥, ⎢⎢  \n                                            ⎥  ⎢0  0  0  0  0  0  0  0⎥⎥  ⎢⎢0 \n        0                         0         ⎥  ⎢                      ⎥⎥  ⎢⎢  \n                                            ⎥  ⎢0  0  0  0  0  0  0  0⎥⎥  ⎢⎢0 \n 3                    z   α - 2            z⎥  ⎢                      ⎥⎥  ⎢⎢  \n  ⋅α⋅(α - 2)⋅(α - 1)⋅ℯ   k     ⋅α⋅(1 - α)⋅ℯ ⎥  ⎢0  0  0  0  0  0  0  0⎥⎥  ⎢⎢0 \n                                            ⎥  ⎢                      ⎥⎥  ⎢⎢  \nα - 2            z            α - 1    z    ⎥  ⎣0  0  0  0  0  0  0  0⎦⎥  ⎢⎣0 \n     ⋅α⋅(1 - α)⋅ℯ           -k     ⋅α⋅ℯ     ⎦                          ⎦  ⎣   \n\n                                                 ⎡0  0  0  0  0  0           0\n 0  0  0  0  0  0  0⎤  ⎡0  0  0  0  0  0  0  0⎤  ⎢                            \n                    ⎥  ⎢                      ⎥  ⎢0  0  0  0  0  0           0\n 0  0  0  0  0  0  0⎥  ⎢0  0  0  0  0  0  0  0⎥  ⎢                            \n                    ⎥  ⎢                      ⎥  ⎢0  0  0  0  0  0           0\n 0  0  0  0  0  0  0⎥  ⎢0  0  0  0  0  0  0  0⎥  ⎢                            \n                    ⎥  ⎢                      ⎥  ⎢0  0  0  0  0  0           0\n 0  0  0  0  0  0  0⎥  ⎢0  0  0  0  0  0  0  0⎥  ⎢                            \n                    ⎥, ⎢                      ⎥, ⎢0  0  0  0  0  0           0\n 0  0  0  0  0  0  0⎥  ⎢0  0  0  0  0  0  0  0⎥  ⎢                            \n                    ⎥  ⎢                      ⎥  ⎢0  0  0  0  0  0           0\n 0  0  0  0  0  0  0⎥  ⎢0  0  0  0  0  0  0  0⎥  ⎢                            \n                    ⎥  ⎢                      ⎥  ⎢                   α - 2    \n 0  0  0  0  0  0  0⎥  ⎢0  0  0  0  0  0  0  0⎥  ⎢0  0  0  0  0  0  k     ⋅α⋅(\n                    ⎥  ⎢                      ⎥  ⎢                            \n 0  0  0  0  0  0  0⎦  ⎣0  0  0  0  0  0  0  0⎦  ⎢                       α - 1\n                                                 ⎣0  0  0  0  0  0     -k     \n\n                0      ⎤                          ⎤⎤\n                       ⎥  ⎡0  0  0  0  0  0  0  0⎤⎥⎥\n                0      ⎥  ⎢                      ⎥⎥⎥\n                       ⎥  ⎢0  0  0  0  0  0  0  0⎥⎥⎥\n                0      ⎥  ⎢                      ⎥⎥⎥\n                       ⎥  ⎢0  0  0  0  0  0  0  0⎥⎥⎥\n                0      ⎥  ⎢                      ⎥⎥⎥\n                       ⎥  ⎢0  0  0  0  0  0  0  0⎥⎥⎥\n                0      ⎥, ⎢                      ⎥⎥⎥\n                       ⎥  ⎢0  0  0  0  0  0  0  0⎥⎥⎥\n                0      ⎥  ⎢                      ⎥⎥⎥\n                       ⎥  ⎢0  0  0  0  0  0  0  0⎥⎥⎥\n        z    α - 1    z⎥  ⎢                      ⎥⎥⎥\n1 - α)⋅ℯ   -k     ⋅α⋅ℯ ⎥  ⎢0  0  0  0  0  0  0  0⎥⎥⎥\n                       ⎥  ⎢                      ⎥⎥⎥\n    z           α  z   ⎥  ⎣0  0  0  0  0  0  0  0⎦⎥⎥\n⋅α⋅ℯ          -k ⋅ℯ    ⎦                          ⎦⎦",
      "text/latex": "$\\displaystyle \\left[ \\left[ \\left[\\begin{matrix}0 & 0 & 0 & 0 & 0 & 0 & 0 & 0\\\\0 & 0 & 0 & 0 & 0 & 0 & 0 & 0\\\\0 & 0 & 0 & 0 & 0 & 0 & 0 & 0\\\\0 & 0 & 0 & 0 & 0 & 0 & 0 & 0\\\\0 & 0 & 0 & 0 & 0 & 0 & 0 & 0\\\\0 & 0 & 0 & 0 & 0 & 0 & 0 & 0\\\\0 & 0 & 0 & 0 & 0 & 0 & 0 & 0\\\\0 & 0 & 0 & 0 & 0 & 0 & 0 & 0\\end{matrix}\\right], \\  \\left[\\begin{matrix}0 & 0 & 0 & 0 & 0 & 0 & 0 & 0\\\\0 & 0 & 0 & 0 & 0 & 0 & 0 & 0\\\\0 & 0 & 0 & 0 & 0 & 0 & 0 & 0\\\\0 & 0 & 0 & 0 & 0 & 0 & 0 & 0\\\\0 & 0 & 0 & 0 & 0 & 0 & 0 & 0\\\\0 & 0 & 0 & 0 & 0 & 0 & 0 & 0\\\\0 & 0 & 0 & 0 & 0 & 0 & 0 & 0\\\\0 & 0 & 0 & 0 & 0 & 0 & 0 & 0\\end{matrix}\\right], \\  \\left[\\begin{matrix}0 & 0 & 0 & 0 & 0 & 0 & 0 & 0\\\\0 & 0 & 0 & 0 & 0 & 0 & 0 & 0\\\\0 & 0 & 0 & 0 & 0 & 0 & 0 & 0\\\\0 & 0 & 0 & 0 & 0 & 0 & 0 & 0\\\\0 & 0 & 0 & 0 & 0 & 0 & 0 & 0\\\\0 & 0 & 0 & 0 & 0 & 0 & 0 & 0\\\\0 & 0 & 0 & 0 & 0 & 0 & - k^{α - 3} α \\left(α - 2\\right) \\left(α - 1\\right) e^{z} & k^{α - 2} α \\left(1 - α\\right) e^{z}\\\\0 & 0 & 0 & 0 & 0 & 0 & k^{α - 2} α \\left(1 - α\\right) e^{z} & - k^{α - 1} α e^{z}\\end{matrix}\\right], \\  \\left[\\begin{matrix}0 & 0 & 0 & 0 & 0 & 0 & 0 & 0\\\\0 & 0 & 0 & 0 & 0 & 0 & 0 & 0\\\\0 & 0 & 0 & 0 & 0 & 0 & 0 & 0\\\\0 & 0 & 0 & 0 & 0 & 0 & 0 & 0\\\\0 & 0 & 0 & 0 & 0 & 0 & 0 & 0\\\\0 & 0 & 0 & 0 & 0 & 0 & 0 & 0\\\\0 & 0 & 0 & 0 & 0 & 0 & 0 & 0\\\\0 & 0 & 0 & 0 & 0 & 0 & 0 & 0\\end{matrix}\\right]\\right], \\  \\left[ \\left[\\begin{matrix}0 & 0 & 0 & 0 & 0 & 0 & 0 & 0\\\\0 & 0 & 0 & 0 & 0 & 0 & 0 & 0\\\\0 & 0 & 0 & 0 & 0 & 0 & 0 & 0\\\\0 & 0 & 0 & 0 & 0 & 0 & 0 & 0\\\\0 & 0 & 0 & 0 & 0 & 0 & 0 & 0\\\\0 & 0 & 0 & 0 & 0 & 0 & 0 & 0\\\\0 & 0 & 0 & 0 & 0 & 0 & 0 & 0\\\\0 & 0 & 0 & 0 & 0 & 0 & 0 & 0\\end{matrix}\\right], \\  \\left[\\begin{matrix}0 & 0 & 0 & 0 & 0 & 0 & 0 & 0\\\\0 & 0 & 0 & 0 & 0 & 0 & 0 & 0\\\\0 & 0 & 0 & 0 & 0 & 0 & 0 & 0\\\\0 & 0 & 0 & 0 & 0 & 0 & 0 & 0\\\\0 & 0 & 0 & 0 & 0 & 0 & 0 & 0\\\\0 & 0 & 0 & 0 & 0 & 0 & 0 & 0\\\\0 & 0 & 0 & 0 & 0 & 0 & 0 & 0\\\\0 & 0 & 0 & 0 & 0 & 0 & 0 & 0\\end{matrix}\\right], \\  \\left[\\begin{matrix}0 & 0 & 0 & 0 & 0 & 0 & 0 & 0\\\\0 & 0 & 0 & 0 & 0 & 0 & 0 & 0\\\\0 & 0 & 0 & 0 & 0 & 0 & 0 & 0\\\\0 & 0 & 0 & 0 & 0 & 0 & 0 & 0\\\\0 & 0 & 0 & 0 & 0 & 0 & 0 & 0\\\\0 & 0 & 0 & 0 & 0 & 0 & 0 & 0\\\\0 & 0 & 0 & 0 & 0 & 0 & k^{α - 2} α \\left(1 - α\\right) e^{z} & - k^{α - 1} α e^{z}\\\\0 & 0 & 0 & 0 & 0 & 0 & - k^{α - 1} α e^{z} & - k^{α} e^{z}\\end{matrix}\\right], \\  \\left[\\begin{matrix}0 & 0 & 0 & 0 & 0 & 0 & 0 & 0\\\\0 & 0 & 0 & 0 & 0 & 0 & 0 & 0\\\\0 & 0 & 0 & 0 & 0 & 0 & 0 & 0\\\\0 & 0 & 0 & 0 & 0 & 0 & 0 & 0\\\\0 & 0 & 0 & 0 & 0 & 0 & 0 & 0\\\\0 & 0 & 0 & 0 & 0 & 0 & 0 & 0\\\\0 & 0 & 0 & 0 & 0 & 0 & 0 & 0\\\\0 & 0 & 0 & 0 & 0 & 0 & 0 & 0\\end{matrix}\\right]\\right]\\right]$"
     },
     "execution_count": 28,
     "metadata": {},
     "output_type": "execute_result"
    }
   ],
   "source": [
    "Ψ_x"
   ]
  },
  {
   "cell_type": "code",
   "execution_count": 29,
   "id": "49145b46ca3edfad",
   "metadata": {
    "collapsed": false,
    "ExecuteTime": {
     "end_time": "2023-12-25T20:49:39.681097Z",
     "start_time": "2023-12-25T20:49:39.591386Z"
    }
   },
   "outputs": [
    {
     "name": "stdout",
     "output_type": "stream",
     "text": [
      "\u001B[96m Building model functions \u001B[0m\n"
     ]
    }
   ],
   "source": [
    "if print_level > 0:\n",
    "    print(\"\\033[96m Building model functions \\033[0m\")\n",
    "\n",
    "Γ_expr = build_named_function(Γ, \"Γ\", p)\n",
    "Ω_expr = build_named_function(Ω, \"Ω\", p)\n",
    "H_expr = build_named_function(H, \"H\", y_p, y, y_ss, x_p, x, x_ss, p)\n",
    "H_yp_expr = build_named_function(H_yp, \"H_yp\", y, x, p)\n",
    "H_y_expr = build_named_function(H_y, \"H_y\", y, x, p)\n",
    "H_xp_expr = build_named_function(H_xp, \"H_xp\", y, x, p)\n",
    "H_x_expr = build_named_function(H_x, \"H_x\", y, x, p)\n",
    "Ψ_expr = build_named_function(Ψ, \"Ψ\", y, x, p)\n",
    "Ψ_yp_expr = None if max_order < 2 else build_named_function(\n",
    "    Ψ_yp, \"Ψ_yp\", y, x, p)\n",
    "Ψ_y_expr = None if max_order < 2 else build_named_function(Ψ_y, \"Ψ_y\", y, x, p)\n",
    "Ψ_xp_expr = None if max_order < 2 else build_named_function(\n",
    "    Ψ_xp, \"Ψ_xp\", y, x, p)\n",
    "Ψ_x_expr = None if max_order < 2 else build_named_function(Ψ_x, \"Ψ_x\", y, x, p)\n",
    "H_bar_expr = build_named_function(H_bar, \"H_bar\", [y, x], p)\n",
    "H_bar_w_expr = build_named_function(H_bar_w, \"H_bar_w\", [y, x], p)\n",
    "y_bar_iv_expr = build_named_function(y_bar_iv, \"y_bar_iv\", p)\n",
    "x_bar_iv_expr = build_named_function(x_bar_iv, \"x_bar_iv\", p)\n",
    "y_bar_expr = build_named_function(y_bar, \"y_bar\", p)\n",
    "x_bar_expr = build_named_function(x_bar, \"x_bar\", p)"
   ]
  },
  {
   "cell_type": "code",
   "execution_count": 30,
   "id": "a340a991671ff4fa",
   "metadata": {
    "collapsed": false,
    "ExecuteTime": {
     "end_time": "2023-12-25T20:49:39.780047Z",
     "start_time": "2023-12-25T20:49:39.679394Z"
    }
   },
   "outputs": [],
   "source": [
    "if print_level > 2:\n",
    "    print(\"\\033[96m Building model functions for derivatives \\033[0m\")\n",
    "\n",
    "Γ_p_expr = build_named_function(Γ_p, \"Γ_p\", p)\n",
    "Ω_p_expr = build_named_function(Ω_p, \"Ω_p\", p)\n",
    "H_yp_p_expr = build_named_function(H_yp_p, \"H_yp_p\", y, x, p)\n",
    "H_y_p_expr = build_named_function(H_y_p, \"H_y_p\", y, x, p)\n",
    "H_xp_p_expr = build_named_function(H_xp_p, \"H_xp_p\", y, x, p)\n",
    "H_x_p_expr = build_named_function(H_x_p, \"H_x_p\", y, x, p)\n",
    "H_p_expr = build_named_function(H_p, \"H_p\", y, x, p)\n",
    "y_bar_p_expr = build_named_function(y_bar_p, \"y_bar_p\", p)\n",
    "x_bar_p_expr = build_named_function(x_bar_p, \"x_bar_p\", p)\n",
    "Ψ_p_expr = None if max_order < 2 else build_named_function(Ψ_p, \"Ψ_p\", y, x, p)\n",
    "\n",
    "if print_level > 2:\n",
    "    print(\"\\033[96m Done building model \\033[0m\")"
   ]
  },
  {
   "cell_type": "code",
   "execution_count": 31,
   "id": "574b40bb873866d7",
   "metadata": {
    "collapsed": false,
    "ExecuteTime": {
     "end_time": "2023-12-25T20:49:39.786426Z",
     "start_time": "2023-12-25T20:49:39.780791Z"
    }
   },
   "outputs": [],
   "source": [
    "    # Separate filenames for different orders and function types.  For example\n",
    "    os.makedirs(model_cache_location, exist_ok=True)\n",
    "    os.makedirs(os.path.join(model_cache_location, model_name), exist_ok=True)\n",
    "    # module_cache_path has the core module stuff and includes the others\n",
    "    zero_order_path = os.path.join(model_cache_location, model_name, \"zero_order.py\")\n",
    "    first_order_path = os.path.join(model_cache_location, model_name, \"first_order.py\")\n",
    "    second_order_path = os.path.join(model_cache_location, model_name, \"second_order.py\")"
   ]
  },
  {
   "cell_type": "code",
   "execution_count": 32,
   "id": "bebf2a7fa3a43f59",
   "metadata": {
    "collapsed": false,
    "ExecuteTime": {
     "end_time": "2023-12-25T20:49:39.788033Z",
     "start_time": "2023-12-25T20:49:39.785231Z"
    }
   },
   "outputs": [],
   "source": [
    "# Basic definitions are independent of the order\n",
    "with open(module_cache_path, \"w\", encoding=\"utf-8\") as io:\n",
    "    io.write(f\"import sys\\n\")\n",
    "    io.write(f\"import os\\n\")\n",
    "    io.write(f\"import numpy as np\\n\")\n",
    "    # io.write(f\"sys.path.append('{model_cache_location}')\\n\")\n",
    "    io.write(f\"sys.path.append(os.path.dirname(os.path.dirname(os.path.realpath(__file__))))\\n\\n\")\n",
    "    io.write(f\"# Model definitions\\n\")\n",
    "    io.write(f\"max_order = {max_order}\\n\")\n",
    "    io.write(f\"n_y = {n_y}\\n\")\n",
    "    io.write(f\"n_x = {n_x}\\n\")\n",
    "    io.write(f\"n_p = {n_p}\\n\")\n",
    "    io.write(f\"n_ϵ = {n_ϵ}\\n\")\n",
    "    io.write(f\"n_z = {n_z}\\n\")\n",
    "    if n_ϵ == 1:\n",
    "        io.write(f\"η = np.reshape({η.tolist()}, ({n_x}, {n_ϵ}))\\n\")\n",
    "    else:\n",
    "        io.write(f\"η = {η.tolist()}\\n\")\n",
    "    io.write(f\"Q = np.array({Q.tolist()})\\n\")\n",
    "    io.write(f\"has_Ω = {not Ω is None}\\n\")\n",
    "    io.write(f\"# Display definitions\\n\")\n",
    "    io.write(f\"x_symbols = {[elem['symbol'] for elem in x_subs]}\\n\")\n",
    "    io.write(f\"y_symbols = {[elem['symbol'] for elem in y_subs]}\\n\")\n",
    "    io.write(f\"u_symbols = {[elem['symbol'] for elem in y_subs + x_subs]}\\n\")\n",
    "    io.write(f\"p_symbols = {list(map(str, p))}\\n\")\n",
    "    io.write(f\"H_latex = r\\\"{H_latex}\\\"\\n\")\n",
    "    io.write(f\"steady_states_latex = r\\\"{steady_states_latex}\\\"\\n\")\n",
    "    if steady_states_iv is not None:\n",
    "        io.write(f\"steady_states_iv_latex = r\\\"{steady_states_iv_latex}\\\"\\n\")\n",
    "    else:\n",
    "        io.write(f\"steady_states_iv_latex = None\\n\")\n",
    "    io.write(f\"# Function definitions\\n\")\n",
    "    io.write(f\"from {model_name}.zero_order import *\\n\")\n",
    "    io.write(f\"from {model_name}.first_order import *\\n\")\n",
    "    io.write(f\"from {model_name}.second_order import *\\n\")"
   ]
  },
  {
   "cell_type": "code",
   "execution_count": 33,
   "id": "616680ed5f3d8d1c",
   "metadata": {
    "collapsed": false,
    "ExecuteTime": {
     "end_time": "2023-12-25T20:49:39.793191Z",
     "start_time": "2023-12-25T20:49:39.789701Z"
    }
   },
   "outputs": [],
   "source": [
    "# Zero order includes steady state calculations and derivatives\n",
    "with open(zero_order_path, \"w\", encoding=\"utf-8\") as io:\n",
    "    io.write(f\"from numpy import array, exp\\n\")\n",
    "    io.write(Γ_expr + \"\\n\\n\")\n",
    "    if Ω is None:\n",
    "        io.write(\"Ω = None\\n\\n\")\n",
    "    else:\n",
    "        io.write(Ω_expr + \"\\n\\n\")\n",
    "    io.write(H_bar_expr + \"\\n\\n\")\n",
    "    io.write(H_bar_w_expr + \"\\n\\n\")\n",
    "    if steady_states_iv is None:\n",
    "        io.write(\"y_bar = None\\n\\n\")\n",
    "        io.write(\"x_bar = None\\n\\n\")\n",
    "    else:\n",
    "        io.write(y_bar_iv_expr + \"\\n\\n\")\n",
    "        io.write(x_bar_iv_expr + \"\\n\\n\")\n",
    "    if steady_states is None:\n",
    "        io.write(\"y_bar = None\\n\\n\")\n",
    "        io.write(\"x_bar = None\\n\\n\")\n",
    "        io.write(\"y_bar_p = None\\n\\n\")\n",
    "        io.write(\"x_bar_p = None\\n\\n\")\n",
    "    else:\n",
    "        io.write(y_bar_expr + \"\\n\\n\")\n",
    "        io.write(x_bar_expr + \"\\n\\n\")\n",
    "        for fun in y_bar_p_expr.values():\n",
    "            io.write(fun + \"\\n\\n\")\n",
    "        for fun in x_bar_p_expr.values():\n",
    "            io.write(fun + \"\\n\\n\")\n",
    "    io.write(\"steady_state = None\\n\\n\")\n",
    "    for fun in Γ_p_expr.values():\n",
    "        io.write(fun + \"\\n\\n\")\n",
    "    if Ω is None:\n",
    "        io.write(\"Ω_p = None\\n\\n\")\n",
    "    else:\n",
    "        for fun in Ω_p_expr.values():\n",
    "            io.write(fun + \"\\n\\n\")"
   ]
  },
  {
   "cell_type": "code",
   "execution_count": 34,
   "id": "1901963d46e4c6fd",
   "metadata": {
    "collapsed": false,
    "ExecuteTime": {
     "end_time": "2023-12-25T20:49:39.798519Z",
     "start_time": "2023-12-25T20:49:39.793054Z"
    }
   },
   "outputs": [],
   "source": [
    "# First order perturbations + d/dp\n",
    "with open(first_order_path, \"w\", encoding=\"utf-8\") as io:\n",
    "    io.write(f\"from numpy import array, exp\\n\")\n",
    "    io.write(H_expr + \"\\n\\n\")\n",
    "    io.write(H_yp_expr + \"\\n\\n\")\n",
    "    io.write(H_y_expr + \"\\n\\n\")\n",
    "    io.write(H_xp_expr + \"\\n\\n\")\n",
    "    io.write(H_x_expr + \"\\n\\n\")\n",
    "    io.write(Ψ_expr + \"\\n\\n\")\n",
    "    for fun in H_yp_p_expr.values():\n",
    "        io.write(fun + \"\\n\\n\")\n",
    "    for fun in H_y_p_expr.values():\n",
    "        io.write(fun + \"\\n\\n\")\n",
    "    for fun in H_xp_p_expr.values():\n",
    "        io.write(fun + \"\\n\\n\")\n",
    "    for fun in H_x_p_expr.values():\n",
    "        io.write(fun + \"\\n\\n\")\n",
    "    for fun in H_p_expr.values():\n",
    "        io.write(fun + \"\\n\\n\")"
   ]
  },
  {
   "cell_type": "code",
   "execution_count": 35,
   "id": "e537c535121531e9",
   "metadata": {
    "collapsed": false,
    "ExecuteTime": {
     "end_time": "2023-12-25T20:49:39.799198Z",
     "start_time": "2023-12-25T20:49:39.795972Z"
    }
   },
   "outputs": [],
   "source": [
    "# Second order perturbations + d/dp\n",
    "if max_order > 1:\n",
    "    with open(second_order_path, \"w\", encoding=\"utf-8\") as io:\n",
    "        io.write(f\"from numpy import array, exp\\n\")\n",
    "        io.write(Ψ_yp_expr + \"\\n\\n\")\n",
    "        io.write(Ψ_y_expr + \"\\n\\n\")\n",
    "        io.write(Ψ_xp_expr + \"\\n\\n\")\n",
    "        io.write(Ψ_x_expr + \"\\n\\n\")\n",
    "        for fun in Ψ_p_expr.values():\n",
    "            io.write(fun + \"\\n\\n\")"
   ]
  },
  {
   "cell_type": "code",
   "execution_count": 35,
   "id": "ad049cf851f98363",
   "metadata": {
    "collapsed": false,
    "ExecuteTime": {
     "end_time": "2023-12-25T20:49:39.800436Z",
     "start_time": "2023-12-25T20:49:39.798148Z"
    }
   },
   "outputs": [],
   "source": []
  }
 ],
 "metadata": {
  "kernelspec": {
   "display_name": "Python 3 (ipykernel)",
   "language": "python",
   "name": "python3"
  },
  "language_info": {
   "codemirror_mode": {
    "name": "ipython",
    "version": 3
   },
   "file_extension": ".py",
   "mimetype": "text/x-python",
   "name": "python",
   "nbconvert_exporter": "python",
   "pygments_lexer": "ipython3",
   "version": "3.11.6"
  }
 },
 "nbformat": 4,
 "nbformat_minor": 5
}
